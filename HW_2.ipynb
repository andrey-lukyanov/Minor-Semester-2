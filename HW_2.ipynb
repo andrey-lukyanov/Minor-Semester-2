{
 "cells": [
  {
   "cell_type": "markdown",
   "metadata": {},
   "source": [
    "# Майнор \"Прикладные задачи анализа данных\"\n",
    "## Домашнее задание 2 [10 баллов] до 23:59 22.03.2018. Предсказание цены акции по экономическим новостям\n",
    "\n",
    "\n",
    "В этом домашнем задании вы попытаетесь предсказать рост цены акции компании Газпром по новостям о компании. Домашнее задание состоит из трех частей:\n",
    "1. Предварительная обработка текстов и эксплоративный анализ\n",
    "2. Baseline алгоритм\n",
    "3. Творческая часть\n",
    "\n",
    "Все три части можно считать независимыми – вы можете сделать одну или две из них, однако мы настоятельно советуем выполнить все три. Все инструкции по выполнению домашнего задания – ниже. \n",
    "\n",
    "\n",
    "\n",
    "Входные данные:\n",
    "* Новости о компании \"Газпром\", начиная с 2010 года\n",
    "* Стоимость акций компании \"Газпром\" на ММВБ, начиная с 2010 года\n",
    "    * цена открытия (Open)\n",
    "    * цена закрытия (ClosingPrice)\n",
    "    * максимальная цена за день (DailyHigh)\n",
    "    * минимальная цена за день (DailyLow) \n",
    "    * объем бумаг (VolumePcs)\n"
   ]
  },
  {
   "cell_type": "code",
   "execution_count": 1,
   "metadata": {},
   "outputs": [],
   "source": [
    "#импортируем все библиотеки, которые нам потребуются\n",
    "import re\n",
    "import pandas as pd\n",
    "import numpy as np\n",
    "from dateutil.parser import parse\n",
    "import pymorphy2\n",
    "\n",
    "from nltk.corpus import stopwords\n",
    "from pymystem3 import Mystem\n",
    "from gensim.models import Phrases\n",
    "from gensim import corpora, models, similarities\n",
    "\n",
    "from sklearn.feature_extraction.text import TfidfVectorizer\n",
    "from sklearn.linear_model import LogisticRegression\n",
    "from sklearn.linear_model import SGDClassifier\n",
    "from sklearn.naive_bayes import MultinomialNB\n",
    "\n",
    "from datetime import datetime\n",
    "from sklearn.base import clone\n",
    "from copy import copy\n",
    "\n",
    "from sklearn.model_selection import train_test_split\n",
    "from sklearn.metrics import accuracy_score, f1_score\n",
    "\n",
    "import nltk.corpus  \n",
    "from nltk.text import Text\n",
    "\n",
    "from scipy.stats.stats import pearsonr"
   ]
  },
  {
   "cell_type": "markdown",
   "metadata": {},
   "source": [
    "Посмотрим на датасеты"
   ]
  },
  {
   "cell_type": "code",
   "execution_count": 2,
   "metadata": {},
   "outputs": [
    {
     "data": {
      "text/html": [
       "<div>\n",
       "<style>\n",
       "    .dataframe thead tr:only-child th {\n",
       "        text-align: right;\n",
       "    }\n",
       "\n",
       "    .dataframe thead th {\n",
       "        text-align: left;\n",
       "    }\n",
       "\n",
       "    .dataframe tbody tr th {\n",
       "        vertical-align: top;\n",
       "    }\n",
       "</style>\n",
       "<table border=\"1\" class=\"dataframe\">\n",
       "  <thead>\n",
       "    <tr style=\"text-align: right;\">\n",
       "      <th></th>\n",
       "      <th>Date</th>\n",
       "      <th>Text</th>\n",
       "    </tr>\n",
       "  </thead>\n",
       "  <tbody>\n",
       "    <tr>\n",
       "      <th>0</th>\n",
       "      <td>09.11.2017</td>\n",
       "      <td>Компания рассчитывает на решение по газовому с...</td>\n",
       "    </tr>\n",
       "    <tr>\n",
       "      <th>1</th>\n",
       "      <td>08.11.2017</td>\n",
       "      <td>Как и предполагал “Ъ”, «Газпром», воспользова...</td>\n",
       "    </tr>\n",
       "    <tr>\n",
       "      <th>2</th>\n",
       "      <td>01.11.2017</td>\n",
       "      <td>Новая редакция американских санкций ставит по...</td>\n",
       "    </tr>\n",
       "    <tr>\n",
       "      <th>3</th>\n",
       "      <td>30.10.2017</td>\n",
       "      <td>Как стало известно “Ъ”, известный на рынке ри...</td>\n",
       "    </tr>\n",
       "    <tr>\n",
       "      <th>4</th>\n",
       "      <td>23.10.2017</td>\n",
       "      <td>НОВАТЭК, который через пять лет собирается за...</td>\n",
       "    </tr>\n",
       "  </tbody>\n",
       "</table>\n",
       "</div>"
      ],
      "text/plain": [
       "         Date                                               Text\n",
       "0  09.11.2017  Компания рассчитывает на решение по газовому с...\n",
       "1  08.11.2017   Как и предполагал “Ъ”, «Газпром», воспользова...\n",
       "2  01.11.2017   Новая редакция американских санкций ставит по...\n",
       "3  30.10.2017   Как стало известно “Ъ”, известный на рынке ри...\n",
       "4  23.10.2017   НОВАТЭК, который через пять лет собирается за..."
      ]
     },
     "execution_count": 2,
     "metadata": {},
     "output_type": "execute_result"
    }
   ],
   "source": [
    "df = pd.read_csv('texts.csv')\n",
    "df.rename(columns={'date': 'Date', 'text': 'Text'}, inplace=True)\n",
    "df.head()"
   ]
  },
  {
   "cell_type": "code",
   "execution_count": 3,
   "metadata": {},
   "outputs": [
    {
     "data": {
      "text/html": [
       "<div>\n",
       "<style>\n",
       "    .dataframe thead tr:only-child th {\n",
       "        text-align: right;\n",
       "    }\n",
       "\n",
       "    .dataframe thead th {\n",
       "        text-align: left;\n",
       "    }\n",
       "\n",
       "    .dataframe tbody tr th {\n",
       "        vertical-align: top;\n",
       "    }\n",
       "</style>\n",
       "<table border=\"1\" class=\"dataframe\">\n",
       "  <thead>\n",
       "    <tr style=\"text-align: right;\">\n",
       "      <th></th>\n",
       "      <th>Date</th>\n",
       "      <th>Open</th>\n",
       "      <th>ClosingPrice</th>\n",
       "      <th>DailyHigh</th>\n",
       "      <th>DailyLow</th>\n",
       "      <th>VolumePcs</th>\n",
       "    </tr>\n",
       "  </thead>\n",
       "  <tbody>\n",
       "    <tr>\n",
       "      <th>0</th>\n",
       "      <td>08.12.2017</td>\n",
       "      <td>133,43000</td>\n",
       "      <td>132,60000</td>\n",
       "      <td>133,90000</td>\n",
       "      <td>132,00000</td>\n",
       "      <td>16037970</td>\n",
       "    </tr>\n",
       "    <tr>\n",
       "      <th>1</th>\n",
       "      <td>07.12.2017</td>\n",
       "      <td>133,70000</td>\n",
       "      <td>133,02000</td>\n",
       "      <td>133,87000</td>\n",
       "      <td>132,81000</td>\n",
       "      <td>18198430</td>\n",
       "    </tr>\n",
       "    <tr>\n",
       "      <th>2</th>\n",
       "      <td>06.12.2017</td>\n",
       "      <td>133,33000</td>\n",
       "      <td>134,00000</td>\n",
       "      <td>134,29000</td>\n",
       "      <td>132,91000</td>\n",
       "      <td>14641730</td>\n",
       "    </tr>\n",
       "    <tr>\n",
       "      <th>3</th>\n",
       "      <td>05.12.2017</td>\n",
       "      <td>133,48000</td>\n",
       "      <td>133,65000</td>\n",
       "      <td>133,99000</td>\n",
       "      <td>132,78000</td>\n",
       "      <td>12684800</td>\n",
       "    </tr>\n",
       "    <tr>\n",
       "      <th>4</th>\n",
       "      <td>04.12.2017</td>\n",
       "      <td>133,01000</td>\n",
       "      <td>133,77000</td>\n",
       "      <td>134,00000</td>\n",
       "      <td>131,93000</td>\n",
       "      <td>17818980</td>\n",
       "    </tr>\n",
       "  </tbody>\n",
       "</table>\n",
       "</div>"
      ],
      "text/plain": [
       "         Date       Open ClosingPrice  DailyHigh   DailyLow  VolumePcs\n",
       "0  08.12.2017  133,43000    132,60000  133,90000  132,00000   16037970\n",
       "1  07.12.2017  133,70000    133,02000  133,87000  132,81000   18198430\n",
       "2  06.12.2017  133,33000    134,00000  134,29000  132,91000   14641730\n",
       "3  05.12.2017  133,48000    133,65000  133,99000  132,78000   12684800\n",
       "4  04.12.2017  133,01000    133,77000  134,00000  131,93000   17818980"
      ]
     },
     "execution_count": 3,
     "metadata": {},
     "output_type": "execute_result"
    }
   ],
   "source": [
    "pr_all = pd.read_csv('gazprom_prices.csv', sep=';')\n",
    "pr_all.head()"
   ]
  },
  {
   "cell_type": "code",
   "execution_count": 4,
   "metadata": {},
   "outputs": [
    {
     "name": "stdout",
     "output_type": "stream",
     "text": [
      "<class 'pandas.core.frame.DataFrame'>\n",
      "RangeIndex: 1988 entries, 0 to 1987\n",
      "Data columns (total 6 columns):\n",
      "Date            1988 non-null object\n",
      "Open            1964 non-null object\n",
      "ClosingPrice    1988 non-null object\n",
      "DailyHigh       1986 non-null object\n",
      "DailyLow        1986 non-null object\n",
      "VolumePcs       1988 non-null int64\n",
      "dtypes: int64(1), object(5)\n",
      "memory usage: 93.3+ KB\n"
     ]
    }
   ],
   "source": [
    "pr_all.info()"
   ]
  },
  {
   "cell_type": "markdown",
   "metadata": {},
   "source": [
    "Видим, что колонки, в которых по идее должны быть числа, на самом деле представлены другим типом данных. Запятая намекает на необходимость привести их к типу float, но перед этим саму запятую необходимо заменить на точку, иначе преобразование не получится."
   ]
  },
  {
   "cell_type": "code",
   "execution_count": 5,
   "metadata": {},
   "outputs": [
    {
     "data": {
      "text/html": [
       "<div>\n",
       "<style>\n",
       "    .dataframe thead tr:only-child th {\n",
       "        text-align: right;\n",
       "    }\n",
       "\n",
       "    .dataframe thead th {\n",
       "        text-align: left;\n",
       "    }\n",
       "\n",
       "    .dataframe tbody tr th {\n",
       "        vertical-align: top;\n",
       "    }\n",
       "</style>\n",
       "<table border=\"1\" class=\"dataframe\">\n",
       "  <thead>\n",
       "    <tr style=\"text-align: right;\">\n",
       "      <th></th>\n",
       "      <th>Date</th>\n",
       "      <th>Open</th>\n",
       "      <th>ClosingPrice</th>\n",
       "      <th>DailyHigh</th>\n",
       "      <th>DailyLow</th>\n",
       "      <th>VolumePcs</th>\n",
       "    </tr>\n",
       "  </thead>\n",
       "  <tbody>\n",
       "    <tr>\n",
       "      <th>0</th>\n",
       "      <td>08.12.2017</td>\n",
       "      <td>133.43</td>\n",
       "      <td>132.60</td>\n",
       "      <td>133.90</td>\n",
       "      <td>132.00</td>\n",
       "      <td>16037970</td>\n",
       "    </tr>\n",
       "    <tr>\n",
       "      <th>1</th>\n",
       "      <td>07.12.2017</td>\n",
       "      <td>133.70</td>\n",
       "      <td>133.02</td>\n",
       "      <td>133.87</td>\n",
       "      <td>132.81</td>\n",
       "      <td>18198430</td>\n",
       "    </tr>\n",
       "    <tr>\n",
       "      <th>2</th>\n",
       "      <td>06.12.2017</td>\n",
       "      <td>133.33</td>\n",
       "      <td>134.00</td>\n",
       "      <td>134.29</td>\n",
       "      <td>132.91</td>\n",
       "      <td>14641730</td>\n",
       "    </tr>\n",
       "    <tr>\n",
       "      <th>3</th>\n",
       "      <td>05.12.2017</td>\n",
       "      <td>133.48</td>\n",
       "      <td>133.65</td>\n",
       "      <td>133.99</td>\n",
       "      <td>132.78</td>\n",
       "      <td>12684800</td>\n",
       "    </tr>\n",
       "    <tr>\n",
       "      <th>4</th>\n",
       "      <td>04.12.2017</td>\n",
       "      <td>133.01</td>\n",
       "      <td>133.77</td>\n",
       "      <td>134.00</td>\n",
       "      <td>131.93</td>\n",
       "      <td>17818980</td>\n",
       "    </tr>\n",
       "  </tbody>\n",
       "</table>\n",
       "</div>"
      ],
      "text/plain": [
       "         Date    Open  ClosingPrice  DailyHigh  DailyLow  VolumePcs\n",
       "0  08.12.2017  133.43        132.60     133.90    132.00   16037970\n",
       "1  07.12.2017  133.70        133.02     133.87    132.81   18198430\n",
       "2  06.12.2017  133.33        134.00     134.29    132.91   14641730\n",
       "3  05.12.2017  133.48        133.65     133.99    132.78   12684800\n",
       "4  04.12.2017  133.01        133.77     134.00    131.93   17818980"
      ]
     },
     "execution_count": 5,
     "metadata": {},
     "output_type": "execute_result"
    }
   ],
   "source": [
    "for col in pr_all.columns[1:-1]:\n",
    "    pr_all[col] = pr_all[col].apply(lambda x: float(str(x).replace(',', '.')))\n",
    "\n",
    "pr_all.head()    "
   ]
  },
  {
   "cell_type": "markdown",
   "metadata": {},
   "source": [
    "Чтобы было удобнее считать корреляцию, нам нужно объединить датасеты. В первую очередь мы должны привести дату в нужный формат. Начнем с датафрейма pr_all."
   ]
  },
  {
   "cell_type": "code",
   "execution_count": 6,
   "metadata": {},
   "outputs": [],
   "source": [
    "dates = [parse(date, dayfirst = True).date() for date in pr_all.Date]"
   ]
  },
  {
   "cell_type": "code",
   "execution_count": 7,
   "metadata": {},
   "outputs": [
    {
     "data": {
      "text/html": [
       "<div>\n",
       "<style>\n",
       "    .dataframe thead tr:only-child th {\n",
       "        text-align: right;\n",
       "    }\n",
       "\n",
       "    .dataframe thead th {\n",
       "        text-align: left;\n",
       "    }\n",
       "\n",
       "    .dataframe tbody tr th {\n",
       "        vertical-align: top;\n",
       "    }\n",
       "</style>\n",
       "<table border=\"1\" class=\"dataframe\">\n",
       "  <thead>\n",
       "    <tr style=\"text-align: right;\">\n",
       "      <th></th>\n",
       "      <th>Date</th>\n",
       "      <th>Open</th>\n",
       "      <th>ClosingPrice</th>\n",
       "      <th>DailyHigh</th>\n",
       "      <th>DailyLow</th>\n",
       "      <th>VolumePcs</th>\n",
       "    </tr>\n",
       "  </thead>\n",
       "  <tbody>\n",
       "    <tr>\n",
       "      <th>0</th>\n",
       "      <td>2017-12-08</td>\n",
       "      <td>133.43</td>\n",
       "      <td>132.60</td>\n",
       "      <td>133.90</td>\n",
       "      <td>132.00</td>\n",
       "      <td>16037970</td>\n",
       "    </tr>\n",
       "    <tr>\n",
       "      <th>1</th>\n",
       "      <td>2017-12-07</td>\n",
       "      <td>133.70</td>\n",
       "      <td>133.02</td>\n",
       "      <td>133.87</td>\n",
       "      <td>132.81</td>\n",
       "      <td>18198430</td>\n",
       "    </tr>\n",
       "    <tr>\n",
       "      <th>2</th>\n",
       "      <td>2017-12-06</td>\n",
       "      <td>133.33</td>\n",
       "      <td>134.00</td>\n",
       "      <td>134.29</td>\n",
       "      <td>132.91</td>\n",
       "      <td>14641730</td>\n",
       "    </tr>\n",
       "    <tr>\n",
       "      <th>3</th>\n",
       "      <td>2017-12-05</td>\n",
       "      <td>133.48</td>\n",
       "      <td>133.65</td>\n",
       "      <td>133.99</td>\n",
       "      <td>132.78</td>\n",
       "      <td>12684800</td>\n",
       "    </tr>\n",
       "    <tr>\n",
       "      <th>4</th>\n",
       "      <td>2017-12-04</td>\n",
       "      <td>133.01</td>\n",
       "      <td>133.77</td>\n",
       "      <td>134.00</td>\n",
       "      <td>131.93</td>\n",
       "      <td>17818980</td>\n",
       "    </tr>\n",
       "  </tbody>\n",
       "</table>\n",
       "</div>"
      ],
      "text/plain": [
       "         Date    Open  ClosingPrice  DailyHigh  DailyLow  VolumePcs\n",
       "0  2017-12-08  133.43        132.60     133.90    132.00   16037970\n",
       "1  2017-12-07  133.70        133.02     133.87    132.81   18198430\n",
       "2  2017-12-06  133.33        134.00     134.29    132.91   14641730\n",
       "3  2017-12-05  133.48        133.65     133.99    132.78   12684800\n",
       "4  2017-12-04  133.01        133.77     134.00    131.93   17818980"
      ]
     },
     "execution_count": 7,
     "metadata": {},
     "output_type": "execute_result"
    }
   ],
   "source": [
    "pr_all.Date = dates\n",
    "pr_all.head()"
   ]
  },
  {
   "cell_type": "code",
   "execution_count": 8,
   "metadata": {},
   "outputs": [
    {
     "data": {
      "text/html": [
       "<div>\n",
       "<style>\n",
       "    .dataframe thead tr:only-child th {\n",
       "        text-align: right;\n",
       "    }\n",
       "\n",
       "    .dataframe thead th {\n",
       "        text-align: left;\n",
       "    }\n",
       "\n",
       "    .dataframe tbody tr th {\n",
       "        vertical-align: top;\n",
       "    }\n",
       "</style>\n",
       "<table border=\"1\" class=\"dataframe\">\n",
       "  <thead>\n",
       "    <tr style=\"text-align: right;\">\n",
       "      <th></th>\n",
       "      <th>Date</th>\n",
       "      <th>ClosingPrice</th>\n",
       "    </tr>\n",
       "  </thead>\n",
       "  <tbody>\n",
       "    <tr>\n",
       "      <th>0</th>\n",
       "      <td>2017-12-08</td>\n",
       "      <td>132.60</td>\n",
       "    </tr>\n",
       "    <tr>\n",
       "      <th>1</th>\n",
       "      <td>2017-12-07</td>\n",
       "      <td>133.02</td>\n",
       "    </tr>\n",
       "    <tr>\n",
       "      <th>2</th>\n",
       "      <td>2017-12-06</td>\n",
       "      <td>134.00</td>\n",
       "    </tr>\n",
       "    <tr>\n",
       "      <th>3</th>\n",
       "      <td>2017-12-05</td>\n",
       "      <td>133.65</td>\n",
       "    </tr>\n",
       "    <tr>\n",
       "      <th>4</th>\n",
       "      <td>2017-12-04</td>\n",
       "      <td>133.77</td>\n",
       "    </tr>\n",
       "  </tbody>\n",
       "</table>\n",
       "</div>"
      ],
      "text/plain": [
       "         Date  ClosingPrice\n",
       "0  2017-12-08        132.60\n",
       "1  2017-12-07        133.02\n",
       "2  2017-12-06        134.00\n",
       "3  2017-12-05        133.65\n",
       "4  2017-12-04        133.77"
      ]
     },
     "execution_count": 8,
     "metadata": {},
     "output_type": "execute_result"
    }
   ],
   "source": [
    "pr_all_date = pr_all.loc[:,['Date', 'ClosingPrice']]\n",
    "pr_all_date.head()"
   ]
  },
  {
   "cell_type": "code",
   "execution_count": 9,
   "metadata": {},
   "outputs": [
    {
     "data": {
      "text/plain": [
       "(1988, 2)"
      ]
     },
     "execution_count": 9,
     "metadata": {},
     "output_type": "execute_result"
    }
   ],
   "source": [
    "pr_all_date.shape"
   ]
  },
  {
   "cell_type": "code",
   "execution_count": 10,
   "metadata": {},
   "outputs": [
    {
     "data": {
      "text/plain": [
       "0"
      ]
     },
     "execution_count": 10,
     "metadata": {},
     "output_type": "execute_result"
    }
   ],
   "source": [
    "pr_all_date.ClosingPrice.isnull().sum()"
   ]
  },
  {
   "cell_type": "markdown",
   "metadata": {},
   "source": [
    "Теперь нам нужно поработать с новостями."
   ]
  },
  {
   "cell_type": "code",
   "execution_count": 11,
   "metadata": {},
   "outputs": [
    {
     "data": {
      "text/html": [
       "<div>\n",
       "<style>\n",
       "    .dataframe thead tr:only-child th {\n",
       "        text-align: right;\n",
       "    }\n",
       "\n",
       "    .dataframe thead th {\n",
       "        text-align: left;\n",
       "    }\n",
       "\n",
       "    .dataframe tbody tr th {\n",
       "        vertical-align: top;\n",
       "    }\n",
       "</style>\n",
       "<table border=\"1\" class=\"dataframe\">\n",
       "  <thead>\n",
       "    <tr style=\"text-align: right;\">\n",
       "      <th></th>\n",
       "      <th>Date</th>\n",
       "      <th>Text</th>\n",
       "    </tr>\n",
       "  </thead>\n",
       "  <tbody>\n",
       "    <tr>\n",
       "      <th>0</th>\n",
       "      <td>09.11.2017</td>\n",
       "      <td>Компания рассчитывает на решение по газовому с...</td>\n",
       "    </tr>\n",
       "    <tr>\n",
       "      <th>1</th>\n",
       "      <td>08.11.2017</td>\n",
       "      <td>Как и предполагал “Ъ”, «Газпром», воспользова...</td>\n",
       "    </tr>\n",
       "    <tr>\n",
       "      <th>2</th>\n",
       "      <td>01.11.2017</td>\n",
       "      <td>Новая редакция американских санкций ставит по...</td>\n",
       "    </tr>\n",
       "    <tr>\n",
       "      <th>3</th>\n",
       "      <td>30.10.2017</td>\n",
       "      <td>Как стало известно “Ъ”, известный на рынке ри...</td>\n",
       "    </tr>\n",
       "    <tr>\n",
       "      <th>4</th>\n",
       "      <td>23.10.2017</td>\n",
       "      <td>НОВАТЭК, который через пять лет собирается за...</td>\n",
       "    </tr>\n",
       "  </tbody>\n",
       "</table>\n",
       "</div>"
      ],
      "text/plain": [
       "         Date                                               Text\n",
       "0  09.11.2017  Компания рассчитывает на решение по газовому с...\n",
       "1  08.11.2017   Как и предполагал “Ъ”, «Газпром», воспользова...\n",
       "2  01.11.2017   Новая редакция американских санкций ставит по...\n",
       "3  30.10.2017   Как стало известно “Ъ”, известный на рынке ри...\n",
       "4  23.10.2017   НОВАТЭК, который через пять лет собирается за..."
      ]
     },
     "execution_count": 11,
     "metadata": {},
     "output_type": "execute_result"
    }
   ],
   "source": [
    "df.head()"
   ]
  },
  {
   "cell_type": "code",
   "execution_count": 12,
   "metadata": {},
   "outputs": [
    {
     "data": {
      "text/html": [
       "<div>\n",
       "<style>\n",
       "    .dataframe thead tr:only-child th {\n",
       "        text-align: right;\n",
       "    }\n",
       "\n",
       "    .dataframe thead th {\n",
       "        text-align: left;\n",
       "    }\n",
       "\n",
       "    .dataframe tbody tr th {\n",
       "        vertical-align: top;\n",
       "    }\n",
       "</style>\n",
       "<table border=\"1\" class=\"dataframe\">\n",
       "  <thead>\n",
       "    <tr style=\"text-align: right;\">\n",
       "      <th></th>\n",
       "      <th>Date</th>\n",
       "      <th>Text</th>\n",
       "    </tr>\n",
       "  </thead>\n",
       "  <tbody>\n",
       "    <tr>\n",
       "      <th>1198</th>\n",
       "      <td>01.02.2010</td>\n",
       "      <td>\"Газпром\" не исключает в 2010 г. выпуска обли...</td>\n",
       "    </tr>\n",
       "    <tr>\n",
       "      <th>1199</th>\n",
       "      <td>28.01.2010</td>\n",
       "      <td>Консорциум во главе с российским ОАО \"Газпром...</td>\n",
       "    </tr>\n",
       "    <tr>\n",
       "      <th>1200</th>\n",
       "      <td>19.01.2010</td>\n",
       "      <td>\"Газпром\" готов забирать весь объем азербайдж...</td>\n",
       "    </tr>\n",
       "    <tr>\n",
       "      <th>1201</th>\n",
       "      <td>11.01.2010</td>\n",
       "      <td>Спорные вопросы по оплате за оказанные в пери...</td>\n",
       "    </tr>\n",
       "    <tr>\n",
       "      <th>1202</th>\n",
       "      <td>04.01.2010</td>\n",
       "      <td></td>\n",
       "    </tr>\n",
       "  </tbody>\n",
       "</table>\n",
       "</div>"
      ],
      "text/plain": [
       "            Date                                               Text\n",
       "1198  01.02.2010   \"Газпром\" не исключает в 2010 г. выпуска обли...\n",
       "1199  28.01.2010   Консорциум во главе с российским ОАО \"Газпром...\n",
       "1200  19.01.2010   \"Газпром\" готов забирать весь объем азербайдж...\n",
       "1201  11.01.2010   Спорные вопросы по оплате за оказанные в пери...\n",
       "1202  04.01.2010                                                   "
      ]
     },
     "execution_count": 12,
     "metadata": {},
     "output_type": "execute_result"
    }
   ],
   "source": [
    "df.tail()"
   ]
  },
  {
   "cell_type": "markdown",
   "metadata": {},
   "source": [
    "В конце есть дата без новости, нужно ее удалить."
   ]
  },
  {
   "cell_type": "code",
   "execution_count": 13,
   "metadata": {},
   "outputs": [],
   "source": [
    "df = df.iloc[:-1:]"
   ]
  },
  {
   "cell_type": "code",
   "execution_count": 14,
   "metadata": {
    "scrolled": true
   },
   "outputs": [
    {
     "data": {
      "text/html": [
       "<div>\n",
       "<style>\n",
       "    .dataframe thead tr:only-child th {\n",
       "        text-align: right;\n",
       "    }\n",
       "\n",
       "    .dataframe thead th {\n",
       "        text-align: left;\n",
       "    }\n",
       "\n",
       "    .dataframe tbody tr th {\n",
       "        vertical-align: top;\n",
       "    }\n",
       "</style>\n",
       "<table border=\"1\" class=\"dataframe\">\n",
       "  <thead>\n",
       "    <tr style=\"text-align: right;\">\n",
       "      <th></th>\n",
       "      <th>Date</th>\n",
       "      <th>Text</th>\n",
       "    </tr>\n",
       "  </thead>\n",
       "  <tbody>\n",
       "    <tr>\n",
       "      <th>1197</th>\n",
       "      <td>03.02.2010</td>\n",
       "      <td>Переговоры ОАО \"Газпром\" с оператором проекта...</td>\n",
       "    </tr>\n",
       "    <tr>\n",
       "      <th>1198</th>\n",
       "      <td>01.02.2010</td>\n",
       "      <td>\"Газпром\" не исключает в 2010 г. выпуска обли...</td>\n",
       "    </tr>\n",
       "    <tr>\n",
       "      <th>1199</th>\n",
       "      <td>28.01.2010</td>\n",
       "      <td>Консорциум во главе с российским ОАО \"Газпром...</td>\n",
       "    </tr>\n",
       "    <tr>\n",
       "      <th>1200</th>\n",
       "      <td>19.01.2010</td>\n",
       "      <td>\"Газпром\" готов забирать весь объем азербайдж...</td>\n",
       "    </tr>\n",
       "    <tr>\n",
       "      <th>1201</th>\n",
       "      <td>11.01.2010</td>\n",
       "      <td>Спорные вопросы по оплате за оказанные в пери...</td>\n",
       "    </tr>\n",
       "  </tbody>\n",
       "</table>\n",
       "</div>"
      ],
      "text/plain": [
       "            Date                                               Text\n",
       "1197  03.02.2010   Переговоры ОАО \"Газпром\" с оператором проекта...\n",
       "1198  01.02.2010   \"Газпром\" не исключает в 2010 г. выпуска обли...\n",
       "1199  28.01.2010   Консорциум во главе с российским ОАО \"Газпром...\n",
       "1200  19.01.2010   \"Газпром\" готов забирать весь объем азербайдж...\n",
       "1201  11.01.2010   Спорные вопросы по оплате за оказанные в пери..."
      ]
     },
     "execution_count": 14,
     "metadata": {},
     "output_type": "execute_result"
    }
   ],
   "source": [
    "df.tail()"
   ]
  },
  {
   "cell_type": "markdown",
   "metadata": {},
   "source": [
    "Теперь нам нужно для каждой новости опубликованной не в день торговли, присвоить следующий ближайший торговый день."
   ]
  },
  {
   "cell_type": "code",
   "execution_count": 15,
   "metadata": {},
   "outputs": [],
   "source": [
    "df_dates = [parse(date, dayfirst = True).date() for date in df.Date]\n",
    "df_dates.reverse()"
   ]
  },
  {
   "cell_type": "code",
   "execution_count": 16,
   "metadata": {},
   "outputs": [],
   "source": [
    "trade_dates = dates\n",
    "trade_dates.reverse()"
   ]
  },
  {
   "cell_type": "code",
   "execution_count": 17,
   "metadata": {},
   "outputs": [],
   "source": [
    "adj_news_dates = []\n",
    "\n",
    "for news_date in df_dates:\n",
    "    for trade_date in trade_dates:\n",
    "        if news_date <= trade_date:\n",
    "            adj_news_date = trade_date\n",
    "            break\n",
    "    adj_news_dates.append(adj_news_date)          "
   ]
  },
  {
   "cell_type": "code",
   "execution_count": 18,
   "metadata": {},
   "outputs": [],
   "source": [
    "adj_news_dates.reverse()"
   ]
  },
  {
   "cell_type": "code",
   "execution_count": 19,
   "metadata": {},
   "outputs": [
    {
     "data": {
      "text/html": [
       "<div>\n",
       "<style>\n",
       "    .dataframe thead tr:only-child th {\n",
       "        text-align: right;\n",
       "    }\n",
       "\n",
       "    .dataframe thead th {\n",
       "        text-align: left;\n",
       "    }\n",
       "\n",
       "    .dataframe tbody tr th {\n",
       "        vertical-align: top;\n",
       "    }\n",
       "</style>\n",
       "<table border=\"1\" class=\"dataframe\">\n",
       "  <thead>\n",
       "    <tr style=\"text-align: right;\">\n",
       "      <th></th>\n",
       "      <th>Date</th>\n",
       "      <th>Text</th>\n",
       "    </tr>\n",
       "  </thead>\n",
       "  <tbody>\n",
       "    <tr>\n",
       "      <th>0</th>\n",
       "      <td>2017-11-09</td>\n",
       "      <td>Компания рассчитывает на решение по газовому с...</td>\n",
       "    </tr>\n",
       "    <tr>\n",
       "      <th>1</th>\n",
       "      <td>2017-11-08</td>\n",
       "      <td>Как и предполагал “Ъ”, «Газпром», воспользова...</td>\n",
       "    </tr>\n",
       "    <tr>\n",
       "      <th>2</th>\n",
       "      <td>2017-11-01</td>\n",
       "      <td>Новая редакция американских санкций ставит по...</td>\n",
       "    </tr>\n",
       "    <tr>\n",
       "      <th>3</th>\n",
       "      <td>2017-10-30</td>\n",
       "      <td>Как стало известно “Ъ”, известный на рынке ри...</td>\n",
       "    </tr>\n",
       "    <tr>\n",
       "      <th>4</th>\n",
       "      <td>2017-10-23</td>\n",
       "      <td>НОВАТЭК, который через пять лет собирается за...</td>\n",
       "    </tr>\n",
       "  </tbody>\n",
       "</table>\n",
       "</div>"
      ],
      "text/plain": [
       "         Date                                               Text\n",
       "0  2017-11-09  Компания рассчитывает на решение по газовому с...\n",
       "1  2017-11-08   Как и предполагал “Ъ”, «Газпром», воспользова...\n",
       "2  2017-11-01   Новая редакция американских санкций ставит по...\n",
       "3  2017-10-30   Как стало известно “Ъ”, известный на рынке ри...\n",
       "4  2017-10-23   НОВАТЭК, который через пять лет собирается за..."
      ]
     },
     "execution_count": 19,
     "metadata": {},
     "output_type": "execute_result"
    }
   ],
   "source": [
    "df.Date = adj_news_dates\n",
    "df.head()"
   ]
  },
  {
   "cell_type": "markdown",
   "metadata": {},
   "source": [
    "Теперь нам нужно сопоставить новости с ценой закрытия."
   ]
  },
  {
   "cell_type": "code",
   "execution_count": 20,
   "metadata": {},
   "outputs": [],
   "source": [
    "news = df.sort_values('Date').set_index('Date')\n",
    "stock = pr_all_date.sort_values('Date').set_index('Date')"
   ]
  },
  {
   "cell_type": "markdown",
   "metadata": {},
   "source": [
    "Проверим на пропуски."
   ]
  },
  {
   "cell_type": "code",
   "execution_count": 22,
   "metadata": {},
   "outputs": [
    {
     "data": {
      "text/plain": [
       "0"
      ]
     },
     "execution_count": 22,
     "metadata": {},
     "output_type": "execute_result"
    }
   ],
   "source": [
    "news.Text.isnull().sum()"
   ]
  },
  {
   "cell_type": "code",
   "execution_count": 23,
   "metadata": {},
   "outputs": [
    {
     "data": {
      "text/plain": [
       "0"
      ]
     },
     "execution_count": 23,
     "metadata": {},
     "output_type": "execute_result"
    }
   ],
   "source": [
    "stock.ClosingPrice.isnull().sum()"
   ]
  },
  {
   "cell_type": "code",
   "execution_count": 24,
   "metadata": {},
   "outputs": [],
   "source": [
    "result = news.join(stock).sort_index()"
   ]
  },
  {
   "cell_type": "code",
   "execution_count": 25,
   "metadata": {},
   "outputs": [
    {
     "data": {
      "text/html": [
       "<div>\n",
       "<style>\n",
       "    .dataframe thead tr:only-child th {\n",
       "        text-align: right;\n",
       "    }\n",
       "\n",
       "    .dataframe thead th {\n",
       "        text-align: left;\n",
       "    }\n",
       "\n",
       "    .dataframe tbody tr th {\n",
       "        vertical-align: top;\n",
       "    }\n",
       "</style>\n",
       "<table border=\"1\" class=\"dataframe\">\n",
       "  <thead>\n",
       "    <tr style=\"text-align: right;\">\n",
       "      <th></th>\n",
       "      <th>Text</th>\n",
       "      <th>ClosingPrice</th>\n",
       "    </tr>\n",
       "    <tr>\n",
       "      <th>Date</th>\n",
       "      <th></th>\n",
       "      <th></th>\n",
       "    </tr>\n",
       "  </thead>\n",
       "  <tbody>\n",
       "    <tr>\n",
       "      <th>2010-01-11</th>\n",
       "      <td>Спорные вопросы по оплате за оказанные в пери...</td>\n",
       "      <td>194.50</td>\n",
       "    </tr>\n",
       "    <tr>\n",
       "      <th>2010-01-19</th>\n",
       "      <td>\"Газпром\" готов забирать весь объем азербайдж...</td>\n",
       "      <td>189.76</td>\n",
       "    </tr>\n",
       "    <tr>\n",
       "      <th>2010-01-28</th>\n",
       "      <td>Консорциум во главе с российским ОАО \"Газпром...</td>\n",
       "      <td>182.30</td>\n",
       "    </tr>\n",
       "    <tr>\n",
       "      <th>2010-02-01</th>\n",
       "      <td>\"Газпром\" не исключает в 2010 г. выпуска обли...</td>\n",
       "      <td>189.85</td>\n",
       "    </tr>\n",
       "    <tr>\n",
       "      <th>2010-02-03</th>\n",
       "      <td>Переговоры ОАО \"Газпром\" с оператором проекта...</td>\n",
       "      <td>192.70</td>\n",
       "    </tr>\n",
       "  </tbody>\n",
       "</table>\n",
       "</div>"
      ],
      "text/plain": [
       "                                                         Text  ClosingPrice\n",
       "Date                                                                       \n",
       "2010-01-11   Спорные вопросы по оплате за оказанные в пери...        194.50\n",
       "2010-01-19   \"Газпром\" готов забирать весь объем азербайдж...        189.76\n",
       "2010-01-28   Консорциум во главе с российским ОАО \"Газпром...        182.30\n",
       "2010-02-01   \"Газпром\" не исключает в 2010 г. выпуска обли...        189.85\n",
       "2010-02-03   Переговоры ОАО \"Газпром\" с оператором проекта...        192.70"
      ]
     },
     "execution_count": 25,
     "metadata": {},
     "output_type": "execute_result"
    }
   ],
   "source": [
    "result.head()"
   ]
  },
  {
   "cell_type": "markdown",
   "metadata": {},
   "source": [
    "Делаем лемматизацию текстовых ячеек, но не убираем стоп слова пока, потому что для первой корреляции нам нужна переменная - количество слов в новостях."
   ]
  },
  {
   "cell_type": "code",
   "execution_count": 26,
   "metadata": {},
   "outputs": [],
   "source": [
    "result.Text = result.Text.apply(lambda x: str(x).lower())"
   ]
  },
  {
   "cell_type": "code",
   "execution_count": 27,
   "metadata": {},
   "outputs": [
    {
     "data": {
      "text/html": [
       "<div>\n",
       "<style>\n",
       "    .dataframe thead tr:only-child th {\n",
       "        text-align: right;\n",
       "    }\n",
       "\n",
       "    .dataframe thead th {\n",
       "        text-align: left;\n",
       "    }\n",
       "\n",
       "    .dataframe tbody tr th {\n",
       "        vertical-align: top;\n",
       "    }\n",
       "</style>\n",
       "<table border=\"1\" class=\"dataframe\">\n",
       "  <thead>\n",
       "    <tr style=\"text-align: right;\">\n",
       "      <th></th>\n",
       "      <th>Text</th>\n",
       "      <th>ClosingPrice</th>\n",
       "    </tr>\n",
       "    <tr>\n",
       "      <th>Date</th>\n",
       "      <th></th>\n",
       "      <th></th>\n",
       "    </tr>\n",
       "  </thead>\n",
       "  <tbody>\n",
       "    <tr>\n",
       "      <th>2010-01-11</th>\n",
       "      <td>спорные вопросы по оплате за оказанные в пери...</td>\n",
       "      <td>194.50</td>\n",
       "    </tr>\n",
       "    <tr>\n",
       "      <th>2010-01-19</th>\n",
       "      <td>\"газпром\" готов забирать весь объем азербайдж...</td>\n",
       "      <td>189.76</td>\n",
       "    </tr>\n",
       "    <tr>\n",
       "      <th>2010-01-28</th>\n",
       "      <td>консорциум во главе с российским оао \"газпром...</td>\n",
       "      <td>182.30</td>\n",
       "    </tr>\n",
       "    <tr>\n",
       "      <th>2010-02-01</th>\n",
       "      <td>\"газпром\" не исключает в 2010 г. выпуска обли...</td>\n",
       "      <td>189.85</td>\n",
       "    </tr>\n",
       "    <tr>\n",
       "      <th>2010-02-03</th>\n",
       "      <td>переговоры оао \"газпром\" с оператором проекта...</td>\n",
       "      <td>192.70</td>\n",
       "    </tr>\n",
       "  </tbody>\n",
       "</table>\n",
       "</div>"
      ],
      "text/plain": [
       "                                                         Text  ClosingPrice\n",
       "Date                                                                       \n",
       "2010-01-11   спорные вопросы по оплате за оказанные в пери...        194.50\n",
       "2010-01-19   \"газпром\" готов забирать весь объем азербайдж...        189.76\n",
       "2010-01-28   консорциум во главе с российским оао \"газпром...        182.30\n",
       "2010-02-01   \"газпром\" не исключает в 2010 г. выпуска обли...        189.85\n",
       "2010-02-03   переговоры оао \"газпром\" с оператором проекта...        192.70"
      ]
     },
     "execution_count": 27,
     "metadata": {},
     "output_type": "execute_result"
    }
   ],
   "source": [
    "result.head()"
   ]
  },
  {
   "cell_type": "markdown",
   "metadata": {},
   "source": [
    "В одном из семинаров были приведены функции, помогающие в предоработке текста"
   ]
  },
  {
   "cell_type": "code",
   "execution_count": 28,
   "metadata": {},
   "outputs": [],
   "source": [
    "m = Mystem()\n",
    "regex = re.compile(\"[А-Яа-яёA-Za-z]+\")\n",
    "mystopwords = stopwords.words('russian') + stopwords.words('english') + stopwords.words('german')\n",
    "mystopwords += ['это', 'наш', 'т', 'д', 'этот', 'который', 'свой', 'наш', 'мой', 'твой', 'тот', 'делать', 'друг', 'сделать', \n",
    "                'любой', 'каждый', 'самый', 'хотеть', 'мочь', 'ваш', 'сей', 'весь', 'очень', 'день', 'год', 'м',\n",
    "               'ч', 'руб', 'л', 'например', 'становиться', 'http', 'www', 'https', 'vk', 'vkontakte', 'vk', 'com', 'ru']  "
   ]
  },
  {
   "cell_type": "code",
   "execution_count": 29,
   "metadata": {},
   "outputs": [],
   "source": [
    "def remove_url(text):\n",
    "    text =  re.sub(r\"http\\S+\", \"\", text).strip()\n",
    "    text =  re.sub(r\"vk\\S+\", \"\", text).strip()\n",
    "    text =  re.sub(r\"https\\S+\", \"\", text).strip()\n",
    "    text =  re.sub(r\"VK\\S+\", \"\", text).strip()\n",
    "    return text\n",
    "\n",
    "def words_only(text, regex=regex):\n",
    "    return \" \".join(regex.findall(text))\n",
    "\n",
    "def remove_stopwords(text, mystopwords = mystopwords):\n",
    "    try:\n",
    "        return \" \".join([token for token in text.split() if (token not in mystopwords) and (token.count(token[0]) != len(token))])\n",
    "    except:\n",
    "        return \"\""
   ]
  },
  {
   "cell_type": "code",
   "execution_count": 30,
   "metadata": {},
   "outputs": [],
   "source": [
    "def lemmatize(text, mystem=m):\n",
    "    try:\n",
    "        return \"\".join(m.lemmatize(text)).strip()  \n",
    "    except:\n",
    "        return \"\"\n",
    "\n",
    "def length_filter(text, n_words = 3):\n",
    "    tokens = text.split()\n",
    "    if len(tokens) > n_words:\n",
    "        return text\n",
    "    else:\n",
    "        return \"\"\n",
    "\n",
    "def add_bigrams(texts, min_count = 5): # запись: \"дональд_трамп\"\n",
    "    tokens = [text.split() for text in texts]\n",
    "    bigram = Phrases(tokens, min_count = min_count)\n",
    "    for i in range(len(tokens)):\n",
    "        for token in bigram[tokens[i]]:\n",
    "            if '_' in token:\n",
    "                tokens[i].append(token)\n",
    "    return [' '.join(text) for text in tokens]"
   ]
  },
  {
   "cell_type": "markdown",
   "metadata": {},
   "source": [
    "Вся предобработка входных данных:"
   ]
  },
  {
   "cell_type": "code",
   "execution_count": 31,
   "metadata": {},
   "outputs": [],
   "source": [
    "def preprocess(df):\n",
    "    T = copy(df)\n",
    "    T.Text = T.Text.str.lower()\n",
    "    T.Text = T.Text.apply(remove_url)\n",
    "    T.Text = T.Text.apply(words_only)\n",
    "    T.Text.replace('', np.nan, inplace=True)\n",
    "    T.dropna(subset=['Text'], inplace=True)\n",
    "    T.Text = T.Text.apply(remove_stopwords)\n",
    "    T.Text = T.Text.apply(lemmatize)\n",
    "    T.Text = T.Text.apply(remove_stopwords)  \n",
    "    T.Text = add_bigrams(T.Text)\n",
    "    return T"
   ]
  },
  {
   "cell_type": "markdown",
   "metadata": {},
   "source": [
    "На данном этапе мы не хотим удалять стоп-слова, поэтому преобразуем функцию preprocess()"
   ]
  },
  {
   "cell_type": "code",
   "execution_count": 32,
   "metadata": {},
   "outputs": [],
   "source": [
    "def preprocess_with_stopwords(df):\n",
    "    T = copy(df)\n",
    "    T.Text = T.Text.str.lower()\n",
    "    T.Text = T.Text.apply(remove_url)\n",
    "    T.Text = T.Text.apply(words_only)\n",
    "    T.Text.replace('', np.nan, inplace=True)\n",
    "    T.dropna(subset=['Text'], inplace=True)\n",
    "    T.Text = T.Text.apply(lemmatize)\n",
    "    T.Text = add_bigrams(T.Text)\n",
    "    return T"
   ]
  },
  {
   "cell_type": "code",
   "execution_count": 33,
   "metadata": {},
   "outputs": [],
   "source": [
    "T = copy(result)"
   ]
  },
  {
   "cell_type": "code",
   "execution_count": 34,
   "metadata": {},
   "outputs": [
    {
     "name": "stderr",
     "output_type": "stream",
     "text": [
      "/Users/andrey_lukyanov/anaconda/lib/python3.6/site-packages/gensim/models/phrases.py:494: UserWarning: For a faster implementation, use the gensim.models.phrases.Phraser class\n",
      "  warnings.warn(\"For a faster implementation, use the gensim.models.phrases.Phraser class\")\n"
     ]
    },
    {
     "data": {
      "text/html": [
       "<div>\n",
       "<style>\n",
       "    .dataframe thead tr:only-child th {\n",
       "        text-align: right;\n",
       "    }\n",
       "\n",
       "    .dataframe thead th {\n",
       "        text-align: left;\n",
       "    }\n",
       "\n",
       "    .dataframe tbody tr th {\n",
       "        vertical-align: top;\n",
       "    }\n",
       "</style>\n",
       "<table border=\"1\" class=\"dataframe\">\n",
       "  <thead>\n",
       "    <tr style=\"text-align: right;\">\n",
       "      <th></th>\n",
       "      <th>Text</th>\n",
       "      <th>ClosingPrice</th>\n",
       "    </tr>\n",
       "    <tr>\n",
       "      <th>Date</th>\n",
       "      <th></th>\n",
       "      <th></th>\n",
       "    </tr>\n",
       "  </thead>\n",
       "  <tbody>\n",
       "    <tr>\n",
       "      <th>2010-01-11</th>\n",
       "      <td>спорный вопрос по оплата за оказывать в период...</td>\n",
       "      <td>194.50</td>\n",
       "    </tr>\n",
       "    <tr>\n",
       "      <th>2010-01-19</th>\n",
       "      <td>газпром готовый забирать весь объем азербайджа...</td>\n",
       "      <td>189.76</td>\n",
       "    </tr>\n",
       "    <tr>\n",
       "      <th>2010-01-28</th>\n",
       "      <td>консорциум во глава с российский оао газпром н...</td>\n",
       "      <td>182.30</td>\n",
       "    </tr>\n",
       "    <tr>\n",
       "      <th>2010-02-01</th>\n",
       "      <td>газпром не исключать в г выпуск облигация прим...</td>\n",
       "      <td>189.85</td>\n",
       "    </tr>\n",
       "    <tr>\n",
       "      <th>2010-02-03</th>\n",
       "      <td>переговоры оао газпром с оператор проект сахал...</td>\n",
       "      <td>192.70</td>\n",
       "    </tr>\n",
       "  </tbody>\n",
       "</table>\n",
       "</div>"
      ],
      "text/plain": [
       "                                                         Text  ClosingPrice\n",
       "Date                                                                       \n",
       "2010-01-11  спорный вопрос по оплата за оказывать в период...        194.50\n",
       "2010-01-19  газпром готовый забирать весь объем азербайджа...        189.76\n",
       "2010-01-28  консорциум во глава с российский оао газпром н...        182.30\n",
       "2010-02-01  газпром не исключать в г выпуск облигация прим...        189.85\n",
       "2010-02-03  переговоры оао газпром с оператор проект сахал...        192.70"
      ]
     },
     "execution_count": 34,
     "metadata": {},
     "output_type": "execute_result"
    }
   ],
   "source": [
    "T_with_stopwords = preprocess_with_stopwords(T)\n",
    "T_with_stopwords.head()"
   ]
  },
  {
   "cell_type": "markdown",
   "metadata": {},
   "source": [
    "Создаем новый столбец, который вычисляет длину новостного сообщения. Именно эта переменная нам и понадобится для первой корреляции. Но сначала нужно преобразовать тексты в список слов."
   ]
  },
  {
   "cell_type": "code",
   "execution_count": 35,
   "metadata": {},
   "outputs": [
    {
     "data": {
      "text/html": [
       "<div>\n",
       "<style>\n",
       "    .dataframe thead tr:only-child th {\n",
       "        text-align: right;\n",
       "    }\n",
       "\n",
       "    .dataframe thead th {\n",
       "        text-align: left;\n",
       "    }\n",
       "\n",
       "    .dataframe tbody tr th {\n",
       "        vertical-align: top;\n",
       "    }\n",
       "</style>\n",
       "<table border=\"1\" class=\"dataframe\">\n",
       "  <thead>\n",
       "    <tr style=\"text-align: right;\">\n",
       "      <th></th>\n",
       "      <th>Text</th>\n",
       "      <th>ClosingPrice</th>\n",
       "    </tr>\n",
       "    <tr>\n",
       "      <th>Date</th>\n",
       "      <th></th>\n",
       "      <th></th>\n",
       "    </tr>\n",
       "  </thead>\n",
       "  <tbody>\n",
       "    <tr>\n",
       "      <th>2010-01-11</th>\n",
       "      <td>[спорный, вопрос, по, оплата, за, оказывать, в...</td>\n",
       "      <td>194.50</td>\n",
       "    </tr>\n",
       "    <tr>\n",
       "      <th>2010-01-19</th>\n",
       "      <td>[газпром, готовый, забирать, весь, объем, азер...</td>\n",
       "      <td>189.76</td>\n",
       "    </tr>\n",
       "    <tr>\n",
       "      <th>2010-01-28</th>\n",
       "      <td>[консорциум, во, глава, с, российский, оао, га...</td>\n",
       "      <td>182.30</td>\n",
       "    </tr>\n",
       "    <tr>\n",
       "      <th>2010-02-01</th>\n",
       "      <td>[газпром, не, исключать, в, г, выпуск, облигац...</td>\n",
       "      <td>189.85</td>\n",
       "    </tr>\n",
       "    <tr>\n",
       "      <th>2010-02-03</th>\n",
       "      <td>[переговоры, оао, газпром, с, оператор, проект...</td>\n",
       "      <td>192.70</td>\n",
       "    </tr>\n",
       "  </tbody>\n",
       "</table>\n",
       "</div>"
      ],
      "text/plain": [
       "                                                         Text  ClosingPrice\n",
       "Date                                                                       \n",
       "2010-01-11  [спорный, вопрос, по, оплата, за, оказывать, в...        194.50\n",
       "2010-01-19  [газпром, готовый, забирать, весь, объем, азер...        189.76\n",
       "2010-01-28  [консорциум, во, глава, с, российский, оао, га...        182.30\n",
       "2010-02-01  [газпром, не, исключать, в, г, выпуск, облигац...        189.85\n",
       "2010-02-03  [переговоры, оао, газпром, с, оператор, проект...        192.70"
      ]
     },
     "execution_count": 35,
     "metadata": {},
     "output_type": "execute_result"
    }
   ],
   "source": [
    "T_with_stopwords.Text = T_with_stopwords.Text.apply(lambda x: x.split())\n",
    "T_with_stopwords.head()"
   ]
  },
  {
   "cell_type": "code",
   "execution_count": 36,
   "metadata": {},
   "outputs": [
    {
     "data": {
      "text/html": [
       "<div>\n",
       "<style>\n",
       "    .dataframe thead tr:only-child th {\n",
       "        text-align: right;\n",
       "    }\n",
       "\n",
       "    .dataframe thead th {\n",
       "        text-align: left;\n",
       "    }\n",
       "\n",
       "    .dataframe tbody tr th {\n",
       "        vertical-align: top;\n",
       "    }\n",
       "</style>\n",
       "<table border=\"1\" class=\"dataframe\">\n",
       "  <thead>\n",
       "    <tr style=\"text-align: right;\">\n",
       "      <th></th>\n",
       "      <th>Text</th>\n",
       "      <th>ClosingPrice</th>\n",
       "      <th>len_text</th>\n",
       "    </tr>\n",
       "    <tr>\n",
       "      <th>Date</th>\n",
       "      <th></th>\n",
       "      <th></th>\n",
       "      <th></th>\n",
       "    </tr>\n",
       "  </thead>\n",
       "  <tbody>\n",
       "    <tr>\n",
       "      <th>2010-01-11</th>\n",
       "      <td>[спорный, вопрос, по, оплата, за, оказывать, в...</td>\n",
       "      <td>194.50</td>\n",
       "      <td>66</td>\n",
       "    </tr>\n",
       "    <tr>\n",
       "      <th>2010-01-19</th>\n",
       "      <td>[газпром, готовый, забирать, весь, объем, азер...</td>\n",
       "      <td>189.76</td>\n",
       "      <td>61</td>\n",
       "    </tr>\n",
       "    <tr>\n",
       "      <th>2010-01-28</th>\n",
       "      <td>[консорциум, во, глава, с, российский, оао, га...</td>\n",
       "      <td>182.30</td>\n",
       "      <td>88</td>\n",
       "    </tr>\n",
       "    <tr>\n",
       "      <th>2010-02-01</th>\n",
       "      <td>[газпром, не, исключать, в, г, выпуск, облигац...</td>\n",
       "      <td>189.85</td>\n",
       "      <td>39</td>\n",
       "    </tr>\n",
       "    <tr>\n",
       "      <th>2010-02-03</th>\n",
       "      <td>[переговоры, оао, газпром, с, оператор, проект...</td>\n",
       "      <td>192.70</td>\n",
       "      <td>32</td>\n",
       "    </tr>\n",
       "  </tbody>\n",
       "</table>\n",
       "</div>"
      ],
      "text/plain": [
       "                                                         Text  ClosingPrice  \\\n",
       "Date                                                                          \n",
       "2010-01-11  [спорный, вопрос, по, оплата, за, оказывать, в...        194.50   \n",
       "2010-01-19  [газпром, готовый, забирать, весь, объем, азер...        189.76   \n",
       "2010-01-28  [консорциум, во, глава, с, российский, оао, га...        182.30   \n",
       "2010-02-01  [газпром, не, исключать, в, г, выпуск, облигац...        189.85   \n",
       "2010-02-03  [переговоры, оао, газпром, с, оператор, проект...        192.70   \n",
       "\n",
       "            len_text  \n",
       "Date                  \n",
       "2010-01-11        66  \n",
       "2010-01-19        61  \n",
       "2010-01-28        88  \n",
       "2010-02-01        39  \n",
       "2010-02-03        32  "
      ]
     },
     "execution_count": 36,
     "metadata": {},
     "output_type": "execute_result"
    }
   ],
   "source": [
    "T_with_stopwords['len_text'] = T_with_stopwords.Text.apply(lambda x: len(x))\n",
    "T_with_stopwords.head()"
   ]
  },
  {
   "cell_type": "markdown",
   "metadata": {},
   "source": [
    "## Часть 1. Вводная [3 балла]\n",
    "\n",
    "Проведите предобработку текстов: если считаете нужным, выполните токенизацию, приведение к нижнему регистру, лемматизацию и/или стемминг. Ответьте на следующие вопросы:\n",
    "* Есть ли корреляция между средней длинной текста за день и ценой закрытия?\n",
    "* Есть ли корреляция между количеством упоминаний Алексея Миллера  и ценой закрытия? Учтите разные варианты написания имени.\n",
    "* Упоминаний какого газопровода в статьях больше: \n",
    "    * \"северный поток\"\n",
    "    * \"турецкий поток\"?\n",
    "* Кого упоминают чаще:\n",
    "    * Алексея Миллера\n",
    "    * Владимира Путина?\n",
    "* О каких санкциях пишут в статьях?"
   ]
  },
  {
   "cell_type": "markdown",
   "metadata": {},
   "source": [
    "# Корреляция"
   ]
  },
  {
   "cell_type": "markdown",
   "metadata": {},
   "source": [
    "Приступаем непосредственно к ответу на вопросы."
   ]
  },
  {
   "cell_type": "markdown",
   "metadata": {},
   "source": [
    "### Есть ли корреляция между средней длинной текста за день и ценой закрытия?"
   ]
  },
  {
   "cell_type": "markdown",
   "metadata": {},
   "source": [
    "Здесь сначала идет сам коэффициент, а потом его значимость. H0: Гипотеза об отсутствие какой-либо связи между двумя списками"
   ]
  },
  {
   "cell_type": "code",
   "execution_count": 53,
   "metadata": {},
   "outputs": [
    {
     "name": "stdout",
     "output_type": "stream",
     "text": [
      "Корреляция Пирсона: 0.0136844534731\n",
      "p-value: 0.635523570264\n"
     ]
    }
   ],
   "source": [
    "x = list(T_with_stopwords['ClosingPrice'])\n",
    "y = list(T_with_stopwords['len_text'])\n",
    "corr = pearsonr(x,y)\n",
    "print(\"Корреляция Пирсона:\",corr[0])\n",
    "print(\"p-value:\", corr[1])"
   ]
  },
  {
   "cell_type": "markdown",
   "metadata": {},
   "source": [
    "Вывод: У нас нет оснований отвергнуть гипотезу об отсутствии связи между ценой закрытия и средней длинной текста за день.Корреляция между ценой закрытия и средней длиной новостного сообщения отсутствует."
   ]
  },
  {
   "cell_type": "markdown",
   "metadata": {},
   "source": [
    "### Преобразование колонки с текстом в list, чтоб было удобней работать"
   ]
  },
  {
   "cell_type": "code",
   "execution_count": null,
   "metadata": {},
   "outputs": [],
   "source": [
    "text_list = T_with_stopwords['Text'].tolist()"
   ]
  },
  {
   "cell_type": "code",
   "execution_count": 55,
   "metadata": {},
   "outputs": [],
   "source": [
    "def flatten(lst):\n",
    "    result = []\n",
    "    \n",
    "    for outer_el in text_list:\n",
    "        for inner_el in outer_el:\n",
    "            result.append(inner_el)\n",
    "  \n",
    "    return result\n",
    "  \n",
    "\n",
    "text_list_1 = flatten(text_list)"
   ]
  },
  {
   "cell_type": "markdown",
   "metadata": {},
   "source": [
    "Убираем стоп слова"
   ]
  },
  {
   "cell_type": "code",
   "execution_count": 56,
   "metadata": {},
   "outputs": [
    {
     "name": "stdout",
     "output_type": "stream",
     "text": [
      "[nltk_data] Downloading package stopwords to\n",
      "[nltk_data]     /Users/andrey_lukyanov/nltk_data...\n",
      "[nltk_data]   Package stopwords is already up-to-date!\n"
     ]
    }
   ],
   "source": [
    "from nltk.corpus import stopwords\n",
    "nltk.download('stopwords')\n",
    "mystopwords = stopwords.words('russian')"
   ]
  },
  {
   "cell_type": "markdown",
   "metadata": {},
   "source": [
    "Наиболее частотные биграммы и слова"
   ]
  },
  {
   "cell_type": "code",
   "execution_count": 57,
   "metadata": {},
   "outputs": [
    {
     "data": {
      "text/plain": [
       "[(('газпром', 'нефть'), 675),\n",
       " (('млрд', 'руб'), 450),\n",
       " (('поставка', 'газ'), 189),\n",
       " (('газпром', 'медиа'), 181),\n",
       " (('оао', 'газпром'), 160),\n",
       " (('российский', 'газ'), 143),\n",
       " (('алексей', 'миллер'), 125),\n",
       " (('совет', 'директор'), 125),\n",
       " (('говориться', 'сообщение'), 123),\n",
       " (('млрд', 'кубометр'), 117),\n",
       " (('куб', 'м'), 109),\n",
       " (('цена', 'газ'), 100),\n",
       " (('чистый', 'прибыль'), 95),\n",
       " (('российский', 'компания'), 94),\n",
       " (('российский', 'газовый'), 91),\n",
       " (('нафтогаз', 'украина'), 91),\n",
       " (('председатель', 'правление'), 87),\n",
       " (('компания', 'газпром'), 82),\n",
       " (('природный', 'газ'), 80),\n",
       " (('составлять', 'млрд'), 80),\n",
       " (('nord', 'stream'), 80),\n",
       " (('млрд', 'куб'), 78),\n",
       " (('становиться', 'известно'), 74),\n",
       " (('газ', 'европа'), 72),\n",
       " (('газовый', 'холдинг'), 71),\n",
       " (('известно', 'ъ'), 70),\n",
       " (('как_становиться', 'известно_ъ'), 70),\n",
       " (('прошлый', 'год'), 69),\n",
       " (('газпром', 'энергохолдинг'), 69),\n",
       " (('млн', 'руб'), 69),\n",
       " (('данные', 'ъ'), 68),\n",
       " (('владимир', 'путин'), 67),\n",
       " (('газпром', 'мочь'), 65),\n",
       " (('холдинг', 'газпром'), 64),\n",
       " (('пресс', 'служба'), 60),\n",
       " (('ооо', 'газпром'), 60),\n",
       " (('газпром', 'алексей'), 59),\n",
       " (('газ', 'газпром'), 59),\n",
       " (('роснефть', 'газпром'), 57),\n",
       " (('александр', 'медведев'), 56),\n",
       " (('источник', 'ъ'), 56),\n",
       " (('south', 'stream'), 56),\n",
       " (('газпром', 'экспорт'), 53),\n",
       " (('независимый', 'производитель'), 52),\n",
       " (('кубометр', 'газ'), 50),\n",
       " (('правление', 'газпром'), 50),\n",
       " (('южный', 'поток'), 49),\n",
       " (('газ', 'украина'), 49),\n",
       " (('мочь', 'становиться'), 49),\n",
       " (('около', 'млрд'), 47)]"
      ]
     },
     "execution_count": 57,
     "metadata": {},
     "output_type": "execute_result"
    }
   ],
   "source": [
    "filtered_words = [word for word in text_list_1 if word not in stopwords.words('russian')]\n",
    "bg = list(nltk.bigrams(filtered_words))\n",
    "bgfd = nltk.FreqDist(bg)\n",
    "bgfd.most_common(50)"
   ]
  },
  {
   "cell_type": "markdown",
   "metadata": {},
   "source": [
    "Преобразовываем в словарь список с биграммами и распределением их частот"
   ]
  },
  {
   "cell_type": "code",
   "execution_count": 58,
   "metadata": {},
   "outputs": [
    {
     "data": {
      "text/plain": [
       "62871"
      ]
     },
     "execution_count": 58,
     "metadata": {},
     "output_type": "execute_result"
    }
   ],
   "source": [
    "bigramfreq = dict(bgfd)\n",
    "len(bigramfreq)"
   ]
  },
  {
   "cell_type": "markdown",
   "metadata": {},
   "source": [
    "### Кого упоминают чаще: Алексея Миллера или Владимира Путина?"
   ]
  },
  {
   "cell_type": "markdown",
   "metadata": {},
   "source": [
    "В этом задании можно попробовать 3 способа:\n",
    "* искать имя и фамилию вместе\n",
    "* искать только фамилию\n",
    "* искать только имя"
   ]
  },
  {
   "cell_type": "code",
   "execution_count": 59,
   "metadata": {},
   "outputs": [
    {
     "name": "stdout",
     "output_type": "stream",
     "text": [
      "Алексей Миллер: 125 Владимир Путин: 67\n"
     ]
    }
   ],
   "source": [
    "#биграммы\n",
    "print(\"Алексей Миллер:\", bigramfreq['алексей', 'миллер'], \"Владимир Путин:\", bigramfreq['владимир', 'путин'])"
   ]
  },
  {
   "cell_type": "code",
   "execution_count": 60,
   "metadata": {},
   "outputs": [],
   "source": [
    "bg_one_word = list(filtered_words)\n",
    "word_freq = nltk.FreqDist(bg_one_word)\n",
    "word_freq = dict(word_freq)"
   ]
  },
  {
   "cell_type": "code",
   "execution_count": 61,
   "metadata": {},
   "outputs": [
    {
     "name": "stdout",
     "output_type": "stream",
     "text": [
      "Миллер: 151 Путин: 73\n"
     ]
    }
   ],
   "source": [
    "#фамилия\n",
    "print(\"Миллер:\", word_freq['миллер'], \"Путин:\", word_freq['путин'])"
   ]
  },
  {
   "cell_type": "code",
   "execution_count": 62,
   "metadata": {},
   "outputs": [
    {
     "name": "stdout",
     "output_type": "stream",
     "text": [
      "Алексей: 156 Владимир: 97\n"
     ]
    }
   ],
   "source": [
    "#имя\n",
    "print(\"Алексей:\", word_freq['алексей'], \"Владимир:\", word_freq['владимир'])"
   ]
  },
  {
   "cell_type": "markdown",
   "metadata": {},
   "source": [
    "\n",
    "Здесь сразу можем ответить на этот вопрос: Алексей Миллер упоминается чаще. Во всех статьях Алексей Миллер повторяется 125 раз, а Владимир Путин 67."
   ]
  },
  {
   "cell_type": "markdown",
   "metadata": {},
   "source": [
    "### Упоминаний какого газопровода в статьях больше: \"северный поток\" или \"турецкий поток\"?"
   ]
  },
  {
   "cell_type": "code",
   "execution_count": 63,
   "metadata": {},
   "outputs": [
    {
     "name": "stdout",
     "output_type": "stream",
     "text": [
      "Северный поток: 15 Турецкий поток: 39\n"
     ]
    }
   ],
   "source": [
    "print(\"Северный поток:\", bigramfreq['северный', 'поток'], \"Турецкий поток:\", bigramfreq['турецкий', 'поток'])"
   ]
  },
  {
   "cell_type": "markdown",
   "metadata": {},
   "source": [
    "Вывод: Турецкий поток упомянают чаще чем Северный поток"
   ]
  },
  {
   "cell_type": "markdown",
   "metadata": {},
   "source": [
    "### Корреляция между количеством упоминаний Алексея Миллера и ценой закрытия"
   ]
  },
  {
   "cell_type": "markdown",
   "metadata": {},
   "source": [
    "Добавим колонку с количеством упоминаний Алексея Миллера. Упоминанием будем считать наличие слова \"Миллер\"."
   ]
  },
  {
   "cell_type": "code",
   "execution_count": 64,
   "metadata": {},
   "outputs": [
    {
     "data": {
      "text/html": [
       "<div>\n",
       "<style>\n",
       "    .dataframe thead tr:only-child th {\n",
       "        text-align: right;\n",
       "    }\n",
       "\n",
       "    .dataframe thead th {\n",
       "        text-align: left;\n",
       "    }\n",
       "\n",
       "    .dataframe tbody tr th {\n",
       "        vertical-align: top;\n",
       "    }\n",
       "</style>\n",
       "<table border=\"1\" class=\"dataframe\">\n",
       "  <thead>\n",
       "    <tr style=\"text-align: right;\">\n",
       "      <th></th>\n",
       "      <th>Text</th>\n",
       "      <th>ClosingPrice</th>\n",
       "      <th>len_text</th>\n",
       "      <th>count_miller</th>\n",
       "    </tr>\n",
       "    <tr>\n",
       "      <th>Date</th>\n",
       "      <th></th>\n",
       "      <th></th>\n",
       "      <th></th>\n",
       "      <th></th>\n",
       "    </tr>\n",
       "  </thead>\n",
       "  <tbody>\n",
       "    <tr>\n",
       "      <th>2010-01-11</th>\n",
       "      <td>[спорный, вопрос, по, оплата, за, оказывать, в...</td>\n",
       "      <td>194.50</td>\n",
       "      <td>66</td>\n",
       "      <td>0</td>\n",
       "    </tr>\n",
       "    <tr>\n",
       "      <th>2010-01-19</th>\n",
       "      <td>[газпром, готовый, забирать, весь, объем, азер...</td>\n",
       "      <td>189.76</td>\n",
       "      <td>61</td>\n",
       "      <td>2</td>\n",
       "    </tr>\n",
       "    <tr>\n",
       "      <th>2010-01-28</th>\n",
       "      <td>[консорциум, во, глава, с, российский, оао, га...</td>\n",
       "      <td>182.30</td>\n",
       "      <td>88</td>\n",
       "      <td>0</td>\n",
       "    </tr>\n",
       "    <tr>\n",
       "      <th>2010-02-01</th>\n",
       "      <td>[газпром, не, исключать, в, г, выпуск, облигац...</td>\n",
       "      <td>189.85</td>\n",
       "      <td>39</td>\n",
       "      <td>0</td>\n",
       "    </tr>\n",
       "    <tr>\n",
       "      <th>2010-02-03</th>\n",
       "      <td>[переговоры, оао, газпром, с, оператор, проект...</td>\n",
       "      <td>192.70</td>\n",
       "      <td>32</td>\n",
       "      <td>0</td>\n",
       "    </tr>\n",
       "  </tbody>\n",
       "</table>\n",
       "</div>"
      ],
      "text/plain": [
       "                                                         Text  ClosingPrice  \\\n",
       "Date                                                                          \n",
       "2010-01-11  [спорный, вопрос, по, оплата, за, оказывать, в...        194.50   \n",
       "2010-01-19  [газпром, готовый, забирать, весь, объем, азер...        189.76   \n",
       "2010-01-28  [консорциум, во, глава, с, российский, оао, га...        182.30   \n",
       "2010-02-01  [газпром, не, исключать, в, г, выпуск, облигац...        189.85   \n",
       "2010-02-03  [переговоры, оао, газпром, с, оператор, проект...        192.70   \n",
       "\n",
       "            len_text  count_miller  \n",
       "Date                                \n",
       "2010-01-11        66             0  \n",
       "2010-01-19        61             2  \n",
       "2010-01-28        88             0  \n",
       "2010-02-01        39             0  \n",
       "2010-02-03        32             0  "
      ]
     },
     "execution_count": 64,
     "metadata": {},
     "output_type": "execute_result"
    }
   ],
   "source": [
    "T_with_stopwords['count_miller'] = T_with_stopwords.Text.apply(lambda x: x.count('миллер'))\n",
    "T_with_stopwords.head()"
   ]
  },
  {
   "cell_type": "code",
   "execution_count": 66,
   "metadata": {},
   "outputs": [
    {
     "name": "stdout",
     "output_type": "stream",
     "text": [
      "Корреляция Пирсона: 0.0107477220272\n",
      "p-value: 0.709710290751\n"
     ]
    }
   ],
   "source": [
    "x = list(T_with_stopwords['ClosingPrice'])\n",
    "y = list(T_with_stopwords['count_miller'])\n",
    "\n",
    "corr = pearsonr(x,y)\n",
    "print(\"Корреляция Пирсона:\",corr[0])\n",
    "print(\"p-value:\", corr[1])"
   ]
  },
  {
   "cell_type": "markdown",
   "metadata": {},
   "source": [
    "Вывод: Корреляция опять не значима. У нас нет оснований отвергнуть гипотезу об отсутствии связи между количеством упоминаний слова Миллер и ценой закрытия "
   ]
  },
  {
   "cell_type": "markdown",
   "metadata": {},
   "source": [
    "### О каких санкциях пишут в статьях?"
   ]
  },
  {
   "cell_type": "code",
   "execution_count": 67,
   "metadata": {},
   "outputs": [
    {
     "name": "stdout",
     "output_type": "stream",
     "text": [
      "Displaying 25 of 69 matches:\n",
      "рона договариваться в г не применять штрафной санкция за нарушение контрактный обязательство по объ\n",
      "зательство по транзит однако никакой штрафной санкция для монополия за это не предусматривать с вво\n",
      "работать в страна подпадать под международный санкция на куба россия который не хотеть терять возмо\n",
      "работать в страна подпадать под международный санкция на куба газпром_нефть разработка_месторождени\n",
      "о чтобы устранять наш опасение компания ждать санкция пока еврокомиссия получать хороший комментари\n",
      " минэнерго уже несколько год пытаться вводить санкция к компания и они топ менеджер за неготовность\n",
      "иллер мочь подпадать под визовый и финансовый санкция который европа планировать вводить в отношени\n",
      "то касаться менеджер но после анализ ситуация санкция мочь распространяться и на деятельность росси\n",
      "жание кредит из за вводить в отношение россия санкция сообщать президент газпром нефть александр дю\n",
      "жание кредит из за вводить в отношение россия санкция сообщать президент газпром нефть александр дю\n",
      "вой совладелец геннадий тимченко попадать под санкция сша мочь в будущее выходить из черный список \n",
      "кий что мочь помогать в вывод компания из под санкция первый канал вгтрк газпром медиа национальный\n",
      "сийский компания попадать под очередной виток санкция со сторона сша роснефть новатэк газпромбанк и\n",
      "й проект несмотря на отсутствие прямой запрет санкция мочь приводить к трудность с поставка оборудо\n",
      "ия или предоставление кредит до дата введение санкция предоставление средство со срок погашение до \n",
      "писывать в контракт до дата вступление в сила санкция и не меняться с тот момент говориться в разъя\n",
      "но поддерживать госбанк попадать под западный санкция в список банк который получать возможность ко\n",
      "оект появляться новый проблема из за западный санкция технологический перспектива разработка участо\n",
      "казываться под вопрос именно на каспий эффект санкция мочь проявляться быстро и остро первый_полуго\n",
      "кция под_вопрос газпромбанк гпб подпадать под санкция сша и ес полностью погасить трехлетний синдиц\n",
      " компания по мсфо в газпром нефть уверять что санкция никак не влиять на она деятельность но сущест\n",
      "ать план развитие компания из за секторальный санкция сша и ес вводить в отношение россия газпром н\n",
      "ать план развитие компания из за секторальный санкция сша и ес вводить в отношение россия сербия на\n",
      "составлять млрд руб украина мочь использовать санкция против газпром для радикальный пересмотр меха\n",
      "ский нефтяник продолжать терять партнер из за санкция вслед за роснефть лишаться exxonmobil газпром\n"
     ]
    }
   ],
   "source": [
    "text_list_2 = Text(text_list_1)\n",
    "text_list_2.concordance('санкция', width=100)"
   ]
  },
  {
   "cell_type": "markdown",
   "metadata": {},
   "source": [
    "Во-первых, мы видим, что слово \"санкция\" упоминается всего 69 раз. Наиболее содержательными прилагательными к слову можно назвать \"американский\" и \"западный\". Еще часто встречается \"санкция\" \"сша\"."
   ]
  },
  {
   "cell_type": "code",
   "execution_count": 68,
   "metadata": {},
   "outputs": [
    {
     "name": "stdout",
     "output_type": "stream",
     "text": [
      "Американские санкции: 1 Западные санкции: 7 Санкции США: 5\n"
     ]
    }
   ],
   "source": [
    "print(\"Американские санкции:\", bigramfreq['американский', 'санкция'], \"Западные санкции:\",\n",
    "      bigramfreq['западный', 'санкция'], \"Санкции США:\", bigramfreq['санкция', 'сша'])"
   ]
  },
  {
   "cell_type": "markdown",
   "metadata": {},
   "source": [
    "Мы видим, что примерно одинаковое количество упоминание западных санкций и санкций США."
   ]
  },
  {
   "cell_type": "markdown",
   "metadata": {},
   "source": [
    "В тексах в основном описывается каким образом западные(в лице ЕС) и американские санкции повлияли на работу Гаспрома, Гаспромбанка и других банков, как при этом изменились цены на нефть, каким образом Россия пережила три волны введения санкций(введение эмбарго). Выдим конкретный случай с санкциями против банка Владивосток-СПГ, Роснефти, в чем заключались эти санкции не совсем понятно из текста.  "
   ]
  },
  {
   "cell_type": "markdown",
   "metadata": {},
   "source": [
    "## Часть 2. Классификационная [3 балла]\n",
    "Вам предстоит решить следующую задачу: по текстам новостей за день определить, вырастет или понизится цена закрытия.\n",
    "Для этого:\n",
    "* бинаризуйте признак \"цена закрытия\":  новый признак ClosingPrice_bin равен 1, если по сравнению со вчера цена не упала, и 0 – в обратном случаея;\n",
    "* составьте бучающее и тестовое множество: данные до начала 2016 года используются для обучения, данные с 2016 года и позже – для тестирования.\n",
    "\n",
    "Таким образом, в каждлый момент времени мы знаем: \n",
    "* ClosingPrice_bin – бинарый целевой признак\n",
    "* слова из статей, опубликованных в этот день – объясняющие признаки\n",
    "\n",
    "В этой части задания вам нужно сделать baseline алгоритм и попытаться его улучшить в следующей части. \n",
    "\n",
    "Используйте любой известный вам алгоритм классификации текстов для того, Используйте $tf-idf$ преобразование, сингулярное разложение, нормировку признакого пространства и любые другие техники обработки данных, которые вы считаете нужным. Используйте accuracy и F-measure для оценки качества классификации. Покажите, как  $tf-idf$ преобразование или сингулярное разложение или любая другая использованная вами техника влияет на качество классификации.\n",
    "Если у выбранного вами алгоритма есть гиперпараметры (например, $\\alpha$ в преобразовании Лапласа для метода наивного Байеса), покажите, как изменение гиперпараметра влияет на качество классификации."
   ]
  },
  {
   "cell_type": "code",
   "execution_count": 69,
   "metadata": {},
   "outputs": [
    {
     "data": {
      "text/html": [
       "<div>\n",
       "<style>\n",
       "    .dataframe thead tr:only-child th {\n",
       "        text-align: right;\n",
       "    }\n",
       "\n",
       "    .dataframe thead th {\n",
       "        text-align: left;\n",
       "    }\n",
       "\n",
       "    .dataframe tbody tr th {\n",
       "        vertical-align: top;\n",
       "    }\n",
       "</style>\n",
       "<table border=\"1\" class=\"dataframe\">\n",
       "  <thead>\n",
       "    <tr style=\"text-align: right;\">\n",
       "      <th></th>\n",
       "      <th>Date</th>\n",
       "      <th>Open</th>\n",
       "      <th>ClosingPrice</th>\n",
       "      <th>DailyHigh</th>\n",
       "      <th>DailyLow</th>\n",
       "      <th>VolumePcs</th>\n",
       "    </tr>\n",
       "  </thead>\n",
       "  <tbody>\n",
       "    <tr>\n",
       "      <th>0</th>\n",
       "      <td>2017-12-08</td>\n",
       "      <td>133.43</td>\n",
       "      <td>132.60</td>\n",
       "      <td>133.90</td>\n",
       "      <td>132.00</td>\n",
       "      <td>16037970</td>\n",
       "    </tr>\n",
       "    <tr>\n",
       "      <th>1</th>\n",
       "      <td>2017-12-07</td>\n",
       "      <td>133.70</td>\n",
       "      <td>133.02</td>\n",
       "      <td>133.87</td>\n",
       "      <td>132.81</td>\n",
       "      <td>18198430</td>\n",
       "    </tr>\n",
       "    <tr>\n",
       "      <th>2</th>\n",
       "      <td>2017-12-06</td>\n",
       "      <td>133.33</td>\n",
       "      <td>134.00</td>\n",
       "      <td>134.29</td>\n",
       "      <td>132.91</td>\n",
       "      <td>14641730</td>\n",
       "    </tr>\n",
       "    <tr>\n",
       "      <th>3</th>\n",
       "      <td>2017-12-05</td>\n",
       "      <td>133.48</td>\n",
       "      <td>133.65</td>\n",
       "      <td>133.99</td>\n",
       "      <td>132.78</td>\n",
       "      <td>12684800</td>\n",
       "    </tr>\n",
       "    <tr>\n",
       "      <th>4</th>\n",
       "      <td>2017-12-04</td>\n",
       "      <td>133.01</td>\n",
       "      <td>133.77</td>\n",
       "      <td>134.00</td>\n",
       "      <td>131.93</td>\n",
       "      <td>17818980</td>\n",
       "    </tr>\n",
       "  </tbody>\n",
       "</table>\n",
       "</div>"
      ],
      "text/plain": [
       "         Date    Open  ClosingPrice  DailyHigh  DailyLow  VolumePcs\n",
       "0  2017-12-08  133.43        132.60     133.90    132.00   16037970\n",
       "1  2017-12-07  133.70        133.02     133.87    132.81   18198430\n",
       "2  2017-12-06  133.33        134.00     134.29    132.91   14641730\n",
       "3  2017-12-05  133.48        133.65     133.99    132.78   12684800\n",
       "4  2017-12-04  133.01        133.77     134.00    131.93   17818980"
      ]
     },
     "execution_count": 69,
     "metadata": {},
     "output_type": "execute_result"
    }
   ],
   "source": [
    "pr_all.head()"
   ]
  },
  {
   "cell_type": "code",
   "execution_count": 70,
   "metadata": {},
   "outputs": [
    {
     "data": {
      "text/html": [
       "<div>\n",
       "<style>\n",
       "    .dataframe thead tr:only-child th {\n",
       "        text-align: right;\n",
       "    }\n",
       "\n",
       "    .dataframe thead th {\n",
       "        text-align: left;\n",
       "    }\n",
       "\n",
       "    .dataframe tbody tr th {\n",
       "        vertical-align: top;\n",
       "    }\n",
       "</style>\n",
       "<table border=\"1\" class=\"dataframe\">\n",
       "  <thead>\n",
       "    <tr style=\"text-align: right;\">\n",
       "      <th></th>\n",
       "      <th>Date</th>\n",
       "      <th>Text</th>\n",
       "    </tr>\n",
       "  </thead>\n",
       "  <tbody>\n",
       "    <tr>\n",
       "      <th>0</th>\n",
       "      <td>2017-11-09</td>\n",
       "      <td>Компания рассчитывает на решение по газовому с...</td>\n",
       "    </tr>\n",
       "    <tr>\n",
       "      <th>1</th>\n",
       "      <td>2017-11-08</td>\n",
       "      <td>Как и предполагал “Ъ”, «Газпром», воспользова...</td>\n",
       "    </tr>\n",
       "    <tr>\n",
       "      <th>2</th>\n",
       "      <td>2017-11-01</td>\n",
       "      <td>Новая редакция американских санкций ставит по...</td>\n",
       "    </tr>\n",
       "    <tr>\n",
       "      <th>3</th>\n",
       "      <td>2017-10-30</td>\n",
       "      <td>Как стало известно “Ъ”, известный на рынке ри...</td>\n",
       "    </tr>\n",
       "    <tr>\n",
       "      <th>4</th>\n",
       "      <td>2017-10-23</td>\n",
       "      <td>НОВАТЭК, который через пять лет собирается за...</td>\n",
       "    </tr>\n",
       "  </tbody>\n",
       "</table>\n",
       "</div>"
      ],
      "text/plain": [
       "         Date                                               Text\n",
       "0  2017-11-09  Компания рассчитывает на решение по газовому с...\n",
       "1  2017-11-08   Как и предполагал “Ъ”, «Газпром», воспользова...\n",
       "2  2017-11-01   Новая редакция американских санкций ставит по...\n",
       "3  2017-10-30   Как стало известно “Ъ”, известный на рынке ри...\n",
       "4  2017-10-23   НОВАТЭК, который через пять лет собирается за..."
      ]
     },
     "execution_count": 70,
     "metadata": {},
     "output_type": "execute_result"
    }
   ],
   "source": [
    "df.head()"
   ]
  },
  {
   "cell_type": "markdown",
   "metadata": {},
   "source": [
    "Идея - создать колонку с lead-ом переменной (т.е. каждому значению переменной ClosingPrice будет соответвовать следующее значение этой же переменной). Это нужно для того, чтобы сравнить цену в разные дни. Но для того, чтобы мы могли вычитать, нужно предварительно привести значения этой переменной к типу float (сейчас тип string)."
   ]
  },
  {
   "cell_type": "code",
   "execution_count": 71,
   "metadata": {},
   "outputs": [],
   "source": [
    "#смещаем значения на один день назад\n",
    "pr_all['ClosingPrice_Delta'] = pr_all.shift(periods=-1, freq=None, axis=0)['ClosingPrice']"
   ]
  },
  {
   "cell_type": "code",
   "execution_count": 72,
   "metadata": {},
   "outputs": [
    {
     "data": {
      "text/html": [
       "<div>\n",
       "<style>\n",
       "    .dataframe thead tr:only-child th {\n",
       "        text-align: right;\n",
       "    }\n",
       "\n",
       "    .dataframe thead th {\n",
       "        text-align: left;\n",
       "    }\n",
       "\n",
       "    .dataframe tbody tr th {\n",
       "        vertical-align: top;\n",
       "    }\n",
       "</style>\n",
       "<table border=\"1\" class=\"dataframe\">\n",
       "  <thead>\n",
       "    <tr style=\"text-align: right;\">\n",
       "      <th></th>\n",
       "      <th>Date</th>\n",
       "      <th>Open</th>\n",
       "      <th>ClosingPrice</th>\n",
       "      <th>DailyHigh</th>\n",
       "      <th>DailyLow</th>\n",
       "      <th>VolumePcs</th>\n",
       "      <th>ClosingPrice_Delta</th>\n",
       "    </tr>\n",
       "  </thead>\n",
       "  <tbody>\n",
       "    <tr>\n",
       "      <th>0</th>\n",
       "      <td>2017-12-08</td>\n",
       "      <td>133.43</td>\n",
       "      <td>132.60</td>\n",
       "      <td>133.90</td>\n",
       "      <td>132.00</td>\n",
       "      <td>16037970</td>\n",
       "      <td>133.02</td>\n",
       "    </tr>\n",
       "    <tr>\n",
       "      <th>1</th>\n",
       "      <td>2017-12-07</td>\n",
       "      <td>133.70</td>\n",
       "      <td>133.02</td>\n",
       "      <td>133.87</td>\n",
       "      <td>132.81</td>\n",
       "      <td>18198430</td>\n",
       "      <td>134.00</td>\n",
       "    </tr>\n",
       "    <tr>\n",
       "      <th>2</th>\n",
       "      <td>2017-12-06</td>\n",
       "      <td>133.33</td>\n",
       "      <td>134.00</td>\n",
       "      <td>134.29</td>\n",
       "      <td>132.91</td>\n",
       "      <td>14641730</td>\n",
       "      <td>133.65</td>\n",
       "    </tr>\n",
       "    <tr>\n",
       "      <th>3</th>\n",
       "      <td>2017-12-05</td>\n",
       "      <td>133.48</td>\n",
       "      <td>133.65</td>\n",
       "      <td>133.99</td>\n",
       "      <td>132.78</td>\n",
       "      <td>12684800</td>\n",
       "      <td>133.77</td>\n",
       "    </tr>\n",
       "    <tr>\n",
       "      <th>4</th>\n",
       "      <td>2017-12-04</td>\n",
       "      <td>133.01</td>\n",
       "      <td>133.77</td>\n",
       "      <td>134.00</td>\n",
       "      <td>131.93</td>\n",
       "      <td>17818980</td>\n",
       "      <td>133.02</td>\n",
       "    </tr>\n",
       "  </tbody>\n",
       "</table>\n",
       "</div>"
      ],
      "text/plain": [
       "         Date    Open  ClosingPrice  DailyHigh  DailyLow  VolumePcs  \\\n",
       "0  2017-12-08  133.43        132.60     133.90    132.00   16037970   \n",
       "1  2017-12-07  133.70        133.02     133.87    132.81   18198430   \n",
       "2  2017-12-06  133.33        134.00     134.29    132.91   14641730   \n",
       "3  2017-12-05  133.48        133.65     133.99    132.78   12684800   \n",
       "4  2017-12-04  133.01        133.77     134.00    131.93   17818980   \n",
       "\n",
       "   ClosingPrice_Delta  \n",
       "0              133.02  \n",
       "1              134.00  \n",
       "2              133.65  \n",
       "3              133.77  \n",
       "4              133.02  "
      ]
     },
     "execution_count": 72,
     "metadata": {},
     "output_type": "execute_result"
    }
   ],
   "source": [
    "pr_all.head()"
   ]
  },
  {
   "cell_type": "code",
   "execution_count": 73,
   "metadata": {},
   "outputs": [],
   "source": [
    "#Считаем дельту\n",
    "pr_all['ClosingPrice_Delta'] = pr_all['ClosingPrice'] - pr_all['ClosingPrice_Delta']"
   ]
  },
  {
   "cell_type": "code",
   "execution_count": 74,
   "metadata": {},
   "outputs": [
    {
     "data": {
      "text/html": [
       "<div>\n",
       "<style>\n",
       "    .dataframe thead tr:only-child th {\n",
       "        text-align: right;\n",
       "    }\n",
       "\n",
       "    .dataframe thead th {\n",
       "        text-align: left;\n",
       "    }\n",
       "\n",
       "    .dataframe tbody tr th {\n",
       "        vertical-align: top;\n",
       "    }\n",
       "</style>\n",
       "<table border=\"1\" class=\"dataframe\">\n",
       "  <thead>\n",
       "    <tr style=\"text-align: right;\">\n",
       "      <th></th>\n",
       "      <th>Date</th>\n",
       "      <th>Open</th>\n",
       "      <th>ClosingPrice</th>\n",
       "      <th>DailyHigh</th>\n",
       "      <th>DailyLow</th>\n",
       "      <th>VolumePcs</th>\n",
       "      <th>ClosingPrice_Delta</th>\n",
       "    </tr>\n",
       "  </thead>\n",
       "  <tbody>\n",
       "    <tr>\n",
       "      <th>0</th>\n",
       "      <td>2017-12-08</td>\n",
       "      <td>133.43</td>\n",
       "      <td>132.60</td>\n",
       "      <td>133.90</td>\n",
       "      <td>132.00</td>\n",
       "      <td>16037970</td>\n",
       "      <td>-0.42</td>\n",
       "    </tr>\n",
       "    <tr>\n",
       "      <th>1</th>\n",
       "      <td>2017-12-07</td>\n",
       "      <td>133.70</td>\n",
       "      <td>133.02</td>\n",
       "      <td>133.87</td>\n",
       "      <td>132.81</td>\n",
       "      <td>18198430</td>\n",
       "      <td>-0.98</td>\n",
       "    </tr>\n",
       "    <tr>\n",
       "      <th>2</th>\n",
       "      <td>2017-12-06</td>\n",
       "      <td>133.33</td>\n",
       "      <td>134.00</td>\n",
       "      <td>134.29</td>\n",
       "      <td>132.91</td>\n",
       "      <td>14641730</td>\n",
       "      <td>0.35</td>\n",
       "    </tr>\n",
       "    <tr>\n",
       "      <th>3</th>\n",
       "      <td>2017-12-05</td>\n",
       "      <td>133.48</td>\n",
       "      <td>133.65</td>\n",
       "      <td>133.99</td>\n",
       "      <td>132.78</td>\n",
       "      <td>12684800</td>\n",
       "      <td>-0.12</td>\n",
       "    </tr>\n",
       "    <tr>\n",
       "      <th>4</th>\n",
       "      <td>2017-12-04</td>\n",
       "      <td>133.01</td>\n",
       "      <td>133.77</td>\n",
       "      <td>134.00</td>\n",
       "      <td>131.93</td>\n",
       "      <td>17818980</td>\n",
       "      <td>0.75</td>\n",
       "    </tr>\n",
       "  </tbody>\n",
       "</table>\n",
       "</div>"
      ],
      "text/plain": [
       "         Date    Open  ClosingPrice  DailyHigh  DailyLow  VolumePcs  \\\n",
       "0  2017-12-08  133.43        132.60     133.90    132.00   16037970   \n",
       "1  2017-12-07  133.70        133.02     133.87    132.81   18198430   \n",
       "2  2017-12-06  133.33        134.00     134.29    132.91   14641730   \n",
       "3  2017-12-05  133.48        133.65     133.99    132.78   12684800   \n",
       "4  2017-12-04  133.01        133.77     134.00    131.93   17818980   \n",
       "\n",
       "   ClosingPrice_Delta  \n",
       "0               -0.42  \n",
       "1               -0.98  \n",
       "2                0.35  \n",
       "3               -0.12  \n",
       "4                0.75  "
      ]
     },
     "execution_count": 74,
     "metadata": {},
     "output_type": "execute_result"
    }
   ],
   "source": [
    "pr_all.head()"
   ]
  },
  {
   "cell_type": "markdown",
   "metadata": {},
   "source": [
    "Для удобства четко пропишем условия формирования новой колонки:\n",
    "\n",
    "* 1 - цена закрытия выросла или равна прошлому дню\n",
    "* 0 - цена закрытия упала"
   ]
  },
  {
   "cell_type": "code",
   "execution_count": 75,
   "metadata": {},
   "outputs": [],
   "source": [
    "#создаем новую колонку и заполняем ее нулями\n",
    "pr_all['ClosingPrice_bin'] = 0\n",
    "\n",
    "#заполняем бинарную переменную\n",
    "mask = pr_all.ClosingPrice_Delta >= 0\n",
    "column_name = 'ClosingPrice_bin'\n",
    "pr_all.loc[mask, column_name] = 1"
   ]
  },
  {
   "cell_type": "code",
   "execution_count": 76,
   "metadata": {},
   "outputs": [
    {
     "data": {
      "text/html": [
       "<div>\n",
       "<style>\n",
       "    .dataframe thead tr:only-child th {\n",
       "        text-align: right;\n",
       "    }\n",
       "\n",
       "    .dataframe thead th {\n",
       "        text-align: left;\n",
       "    }\n",
       "\n",
       "    .dataframe tbody tr th {\n",
       "        vertical-align: top;\n",
       "    }\n",
       "</style>\n",
       "<table border=\"1\" class=\"dataframe\">\n",
       "  <thead>\n",
       "    <tr style=\"text-align: right;\">\n",
       "      <th></th>\n",
       "      <th>Date</th>\n",
       "      <th>Open</th>\n",
       "      <th>ClosingPrice</th>\n",
       "      <th>DailyHigh</th>\n",
       "      <th>DailyLow</th>\n",
       "      <th>VolumePcs</th>\n",
       "      <th>ClosingPrice_Delta</th>\n",
       "      <th>ClosingPrice_bin</th>\n",
       "    </tr>\n",
       "  </thead>\n",
       "  <tbody>\n",
       "    <tr>\n",
       "      <th>0</th>\n",
       "      <td>2017-12-08</td>\n",
       "      <td>133.43</td>\n",
       "      <td>132.60</td>\n",
       "      <td>133.90</td>\n",
       "      <td>132.00</td>\n",
       "      <td>16037970</td>\n",
       "      <td>-0.42</td>\n",
       "      <td>0</td>\n",
       "    </tr>\n",
       "    <tr>\n",
       "      <th>1</th>\n",
       "      <td>2017-12-07</td>\n",
       "      <td>133.70</td>\n",
       "      <td>133.02</td>\n",
       "      <td>133.87</td>\n",
       "      <td>132.81</td>\n",
       "      <td>18198430</td>\n",
       "      <td>-0.98</td>\n",
       "      <td>0</td>\n",
       "    </tr>\n",
       "    <tr>\n",
       "      <th>2</th>\n",
       "      <td>2017-12-06</td>\n",
       "      <td>133.33</td>\n",
       "      <td>134.00</td>\n",
       "      <td>134.29</td>\n",
       "      <td>132.91</td>\n",
       "      <td>14641730</td>\n",
       "      <td>0.35</td>\n",
       "      <td>1</td>\n",
       "    </tr>\n",
       "    <tr>\n",
       "      <th>3</th>\n",
       "      <td>2017-12-05</td>\n",
       "      <td>133.48</td>\n",
       "      <td>133.65</td>\n",
       "      <td>133.99</td>\n",
       "      <td>132.78</td>\n",
       "      <td>12684800</td>\n",
       "      <td>-0.12</td>\n",
       "      <td>0</td>\n",
       "    </tr>\n",
       "    <tr>\n",
       "      <th>4</th>\n",
       "      <td>2017-12-04</td>\n",
       "      <td>133.01</td>\n",
       "      <td>133.77</td>\n",
       "      <td>134.00</td>\n",
       "      <td>131.93</td>\n",
       "      <td>17818980</td>\n",
       "      <td>0.75</td>\n",
       "      <td>1</td>\n",
       "    </tr>\n",
       "  </tbody>\n",
       "</table>\n",
       "</div>"
      ],
      "text/plain": [
       "         Date    Open  ClosingPrice  DailyHigh  DailyLow  VolumePcs  \\\n",
       "0  2017-12-08  133.43        132.60     133.90    132.00   16037970   \n",
       "1  2017-12-07  133.70        133.02     133.87    132.81   18198430   \n",
       "2  2017-12-06  133.33        134.00     134.29    132.91   14641730   \n",
       "3  2017-12-05  133.48        133.65     133.99    132.78   12684800   \n",
       "4  2017-12-04  133.01        133.77     134.00    131.93   17818980   \n",
       "\n",
       "   ClosingPrice_Delta  ClosingPrice_bin  \n",
       "0               -0.42                 0  \n",
       "1               -0.98                 0  \n",
       "2                0.35                 1  \n",
       "3               -0.12                 0  \n",
       "4                0.75                 1  "
      ]
     },
     "execution_count": 76,
     "metadata": {},
     "output_type": "execute_result"
    }
   ],
   "source": [
    "pr_all.head()"
   ]
  },
  {
   "cell_type": "code",
   "execution_count": 77,
   "metadata": {},
   "outputs": [
    {
     "data": {
      "text/plain": [
       "datetime.date"
      ]
     },
     "execution_count": 77,
     "metadata": {},
     "output_type": "execute_result"
    }
   ],
   "source": [
    "type(pr_all.Date[0])"
   ]
  },
  {
   "cell_type": "markdown",
   "metadata": {},
   "source": [
    "Дату нам преобразовывать уже не нужно, так как мы сделали это в прошлом пункте."
   ]
  },
  {
   "cell_type": "code",
   "execution_count": 78,
   "metadata": {},
   "outputs": [
    {
     "data": {
      "text/html": [
       "<div>\n",
       "<style>\n",
       "    .dataframe thead tr:only-child th {\n",
       "        text-align: right;\n",
       "    }\n",
       "\n",
       "    .dataframe thead th {\n",
       "        text-align: left;\n",
       "    }\n",
       "\n",
       "    .dataframe tbody tr th {\n",
       "        vertical-align: top;\n",
       "    }\n",
       "</style>\n",
       "<table border=\"1\" class=\"dataframe\">\n",
       "  <thead>\n",
       "    <tr style=\"text-align: right;\">\n",
       "      <th></th>\n",
       "      <th>Date</th>\n",
       "      <th>ClosingPrice_bin</th>\n",
       "    </tr>\n",
       "  </thead>\n",
       "  <tbody>\n",
       "    <tr>\n",
       "      <th>0</th>\n",
       "      <td>2017-12-08</td>\n",
       "      <td>0</td>\n",
       "    </tr>\n",
       "    <tr>\n",
       "      <th>1</th>\n",
       "      <td>2017-12-07</td>\n",
       "      <td>0</td>\n",
       "    </tr>\n",
       "    <tr>\n",
       "      <th>2</th>\n",
       "      <td>2017-12-06</td>\n",
       "      <td>1</td>\n",
       "    </tr>\n",
       "    <tr>\n",
       "      <th>3</th>\n",
       "      <td>2017-12-05</td>\n",
       "      <td>0</td>\n",
       "    </tr>\n",
       "    <tr>\n",
       "      <th>4</th>\n",
       "      <td>2017-12-04</td>\n",
       "      <td>1</td>\n",
       "    </tr>\n",
       "  </tbody>\n",
       "</table>\n",
       "</div>"
      ],
      "text/plain": [
       "         Date  ClosingPrice_bin\n",
       "0  2017-12-08                 0\n",
       "1  2017-12-07                 0\n",
       "2  2017-12-06                 1\n",
       "3  2017-12-05                 0\n",
       "4  2017-12-04                 1"
      ]
     },
     "execution_count": 78,
     "metadata": {},
     "output_type": "execute_result"
    }
   ],
   "source": [
    "stock_date = pr_all.loc[:,['Date', 'ClosingPrice_bin']]\n",
    "stock_date.head()"
   ]
  },
  {
   "cell_type": "code",
   "execution_count": 79,
   "metadata": {},
   "outputs": [
    {
     "data": {
      "text/plain": [
       "(1988, 2)"
      ]
     },
     "execution_count": 79,
     "metadata": {},
     "output_type": "execute_result"
    }
   ],
   "source": [
    "stock_date.shape"
   ]
  },
  {
   "cell_type": "code",
   "execution_count": 80,
   "metadata": {},
   "outputs": [
    {
     "data": {
      "text/plain": [
       "0"
      ]
     },
     "execution_count": 80,
     "metadata": {},
     "output_type": "execute_result"
    }
   ],
   "source": [
    "stock_date.ClosingPrice_bin.isnull().sum()"
   ]
  },
  {
   "cell_type": "code",
   "execution_count": 81,
   "metadata": {},
   "outputs": [
    {
     "data": {
      "text/html": [
       "<div>\n",
       "<style>\n",
       "    .dataframe thead tr:only-child th {\n",
       "        text-align: right;\n",
       "    }\n",
       "\n",
       "    .dataframe thead th {\n",
       "        text-align: left;\n",
       "    }\n",
       "\n",
       "    .dataframe tbody tr th {\n",
       "        vertical-align: top;\n",
       "    }\n",
       "</style>\n",
       "<table border=\"1\" class=\"dataframe\">\n",
       "  <thead>\n",
       "    <tr style=\"text-align: right;\">\n",
       "      <th></th>\n",
       "      <th>Date</th>\n",
       "      <th>Text</th>\n",
       "    </tr>\n",
       "  </thead>\n",
       "  <tbody>\n",
       "    <tr>\n",
       "      <th>0</th>\n",
       "      <td>2017-11-09</td>\n",
       "      <td>Компания рассчитывает на решение по газовому с...</td>\n",
       "    </tr>\n",
       "    <tr>\n",
       "      <th>1</th>\n",
       "      <td>2017-11-08</td>\n",
       "      <td>Как и предполагал “Ъ”, «Газпром», воспользова...</td>\n",
       "    </tr>\n",
       "    <tr>\n",
       "      <th>2</th>\n",
       "      <td>2017-11-01</td>\n",
       "      <td>Новая редакция американских санкций ставит по...</td>\n",
       "    </tr>\n",
       "    <tr>\n",
       "      <th>3</th>\n",
       "      <td>2017-10-30</td>\n",
       "      <td>Как стало известно “Ъ”, известный на рынке ри...</td>\n",
       "    </tr>\n",
       "    <tr>\n",
       "      <th>4</th>\n",
       "      <td>2017-10-23</td>\n",
       "      <td>НОВАТЭК, который через пять лет собирается за...</td>\n",
       "    </tr>\n",
       "  </tbody>\n",
       "</table>\n",
       "</div>"
      ],
      "text/plain": [
       "         Date                                               Text\n",
       "0  2017-11-09  Компания рассчитывает на решение по газовому с...\n",
       "1  2017-11-08   Как и предполагал “Ъ”, «Газпром», воспользова...\n",
       "2  2017-11-01   Новая редакция американских санкций ставит по...\n",
       "3  2017-10-30   Как стало известно “Ъ”, известный на рынке ри...\n",
       "4  2017-10-23   НОВАТЭК, который через пять лет собирается за..."
      ]
     },
     "execution_count": 81,
     "metadata": {},
     "output_type": "execute_result"
    }
   ],
   "source": [
    "df.head()"
   ]
  },
  {
   "cell_type": "markdown",
   "metadata": {},
   "source": [
    "Теперь нам нужно сопоставить нововсти с бинарной переменной."
   ]
  },
  {
   "cell_type": "code",
   "execution_count": 86,
   "metadata": {},
   "outputs": [],
   "source": [
    "A = df.sort_values('Date').set_index('Date')\n",
    "B = stock_date.sort_values('Date').set_index('Date')"
   ]
  },
  {
   "cell_type": "code",
   "execution_count": 87,
   "metadata": {},
   "outputs": [],
   "source": [
    "result = A.join(B).sort_index()"
   ]
  },
  {
   "cell_type": "code",
   "execution_count": 88,
   "metadata": {},
   "outputs": [
    {
     "data": {
      "text/plain": [
       "0"
      ]
     },
     "execution_count": 88,
     "metadata": {},
     "output_type": "execute_result"
    }
   ],
   "source": [
    "result.ClosingPrice_bin.isnull().sum()"
   ]
  },
  {
   "cell_type": "code",
   "execution_count": 89,
   "metadata": {},
   "outputs": [
    {
     "data": {
      "text/html": [
       "<div>\n",
       "<style>\n",
       "    .dataframe thead tr:only-child th {\n",
       "        text-align: right;\n",
       "    }\n",
       "\n",
       "    .dataframe thead th {\n",
       "        text-align: left;\n",
       "    }\n",
       "\n",
       "    .dataframe tbody tr th {\n",
       "        vertical-align: top;\n",
       "    }\n",
       "</style>\n",
       "<table border=\"1\" class=\"dataframe\">\n",
       "  <thead>\n",
       "    <tr style=\"text-align: right;\">\n",
       "      <th></th>\n",
       "      <th>Text</th>\n",
       "      <th>ClosingPrice_bin</th>\n",
       "    </tr>\n",
       "    <tr>\n",
       "      <th>Date</th>\n",
       "      <th></th>\n",
       "      <th></th>\n",
       "    </tr>\n",
       "  </thead>\n",
       "  <tbody>\n",
       "    <tr>\n",
       "      <th>2010-01-11</th>\n",
       "      <td>Спорные вопросы по оплате за оказанные в пери...</td>\n",
       "      <td>0</td>\n",
       "    </tr>\n",
       "    <tr>\n",
       "      <th>2010-01-19</th>\n",
       "      <td>\"Газпром\" готов забирать весь объем азербайдж...</td>\n",
       "      <td>0</td>\n",
       "    </tr>\n",
       "    <tr>\n",
       "      <th>2010-01-28</th>\n",
       "      <td>Консорциум во главе с российским ОАО \"Газпром...</td>\n",
       "      <td>1</td>\n",
       "    </tr>\n",
       "    <tr>\n",
       "      <th>2010-02-01</th>\n",
       "      <td>\"Газпром\" не исключает в 2010 г. выпуска обли...</td>\n",
       "      <td>1</td>\n",
       "    </tr>\n",
       "    <tr>\n",
       "      <th>2010-02-03</th>\n",
       "      <td>Переговоры ОАО \"Газпром\" с оператором проекта...</td>\n",
       "      <td>1</td>\n",
       "    </tr>\n",
       "  </tbody>\n",
       "</table>\n",
       "</div>"
      ],
      "text/plain": [
       "                                                         Text  \\\n",
       "Date                                                            \n",
       "2010-01-11   Спорные вопросы по оплате за оказанные в пери...   \n",
       "2010-01-19   \"Газпром\" готов забирать весь объем азербайдж...   \n",
       "2010-01-28   Консорциум во главе с российским ОАО \"Газпром...   \n",
       "2010-02-01   \"Газпром\" не исключает в 2010 г. выпуска обли...   \n",
       "2010-02-03   Переговоры ОАО \"Газпром\" с оператором проекта...   \n",
       "\n",
       "            ClosingPrice_bin  \n",
       "Date                          \n",
       "2010-01-11                 0  \n",
       "2010-01-19                 0  \n",
       "2010-01-28                 1  \n",
       "2010-02-01                 1  \n",
       "2010-02-03                 1  "
      ]
     },
     "execution_count": 89,
     "metadata": {},
     "output_type": "execute_result"
    }
   ],
   "source": [
    "result.head()"
   ]
  },
  {
   "cell_type": "code",
   "execution_count": 90,
   "metadata": {},
   "outputs": [
    {
     "data": {
      "text/html": [
       "<div>\n",
       "<style>\n",
       "    .dataframe thead tr:only-child th {\n",
       "        text-align: right;\n",
       "    }\n",
       "\n",
       "    .dataframe thead th {\n",
       "        text-align: left;\n",
       "    }\n",
       "\n",
       "    .dataframe tbody tr th {\n",
       "        vertical-align: top;\n",
       "    }\n",
       "</style>\n",
       "<table border=\"1\" class=\"dataframe\">\n",
       "  <thead>\n",
       "    <tr style=\"text-align: right;\">\n",
       "      <th></th>\n",
       "      <th>Text</th>\n",
       "      <th>ClosingPrice_bin</th>\n",
       "      <th>Date</th>\n",
       "    </tr>\n",
       "  </thead>\n",
       "  <tbody>\n",
       "    <tr>\n",
       "      <th>0</th>\n",
       "      <td>Спорные вопросы по оплате за оказанные в пери...</td>\n",
       "      <td>0</td>\n",
       "      <td>2010-01-11</td>\n",
       "    </tr>\n",
       "    <tr>\n",
       "      <th>1</th>\n",
       "      <td>\"Газпром\" готов забирать весь объем азербайдж...</td>\n",
       "      <td>0</td>\n",
       "      <td>2010-01-19</td>\n",
       "    </tr>\n",
       "    <tr>\n",
       "      <th>2</th>\n",
       "      <td>Консорциум во главе с российским ОАО \"Газпром...</td>\n",
       "      <td>1</td>\n",
       "      <td>2010-01-28</td>\n",
       "    </tr>\n",
       "    <tr>\n",
       "      <th>3</th>\n",
       "      <td>\"Газпром\" не исключает в 2010 г. выпуска обли...</td>\n",
       "      <td>1</td>\n",
       "      <td>2010-02-01</td>\n",
       "    </tr>\n",
       "    <tr>\n",
       "      <th>4</th>\n",
       "      <td>Переговоры ОАО \"Газпром\" с оператором проекта...</td>\n",
       "      <td>1</td>\n",
       "      <td>2010-02-03</td>\n",
       "    </tr>\n",
       "  </tbody>\n",
       "</table>\n",
       "</div>"
      ],
      "text/plain": [
       "                                                Text  ClosingPrice_bin  \\\n",
       "0   Спорные вопросы по оплате за оказанные в пери...                 0   \n",
       "1   \"Газпром\" готов забирать весь объем азербайдж...                 0   \n",
       "2   Консорциум во главе с российским ОАО \"Газпром...                 1   \n",
       "3   \"Газпром\" не исключает в 2010 г. выпуска обли...                 1   \n",
       "4   Переговоры ОАО \"Газпром\" с оператором проекта...                 1   \n",
       "\n",
       "         Date  \n",
       "0  2010-01-11  \n",
       "1  2010-01-19  \n",
       "2  2010-01-28  \n",
       "3  2010-02-01  \n",
       "4  2010-02-03  "
      ]
     },
     "execution_count": 90,
     "metadata": {},
     "output_type": "execute_result"
    }
   ],
   "source": [
    "result['Date'] = result.index\n",
    "result = result.set_index(np.arange(len(result)))\n",
    "result.head()"
   ]
  },
  {
   "cell_type": "markdown",
   "metadata": {},
   "source": [
    "Отделим ClosingPrice_bin в переменную у. Тем самым получим вектор ответов"
   ]
  },
  {
   "cell_type": "code",
   "execution_count": 162,
   "metadata": {},
   "outputs": [
    {
     "data": {
      "text/html": [
       "<div>\n",
       "<style>\n",
       "    .dataframe thead tr:only-child th {\n",
       "        text-align: right;\n",
       "    }\n",
       "\n",
       "    .dataframe thead th {\n",
       "        text-align: left;\n",
       "    }\n",
       "\n",
       "    .dataframe tbody tr th {\n",
       "        vertical-align: top;\n",
       "    }\n",
       "</style>\n",
       "<table border=\"1\" class=\"dataframe\">\n",
       "  <thead>\n",
       "    <tr style=\"text-align: right;\">\n",
       "      <th></th>\n",
       "      <th>Text</th>\n",
       "    </tr>\n",
       "  </thead>\n",
       "  <tbody>\n",
       "    <tr>\n",
       "      <th>0</th>\n",
       "      <td>Спорные вопросы по оплате за оказанные в пери...</td>\n",
       "    </tr>\n",
       "    <tr>\n",
       "      <th>1</th>\n",
       "      <td>\"Газпром\" готов забирать весь объем азербайдж...</td>\n",
       "    </tr>\n",
       "    <tr>\n",
       "      <th>2</th>\n",
       "      <td>Консорциум во главе с российским ОАО \"Газпром...</td>\n",
       "    </tr>\n",
       "    <tr>\n",
       "      <th>3</th>\n",
       "      <td>\"Газпром\" не исключает в 2010 г. выпуска обли...</td>\n",
       "    </tr>\n",
       "    <tr>\n",
       "      <th>4</th>\n",
       "      <td>Переговоры ОАО \"Газпром\" с оператором проекта...</td>\n",
       "    </tr>\n",
       "  </tbody>\n",
       "</table>\n",
       "</div>"
      ],
      "text/plain": [
       "                                                Text\n",
       "0   Спорные вопросы по оплате за оказанные в пери...\n",
       "1   \"Газпром\" готов забирать весь объем азербайдж...\n",
       "2   Консорциум во главе с российским ОАО \"Газпром...\n",
       "3   \"Газпром\" не исключает в 2010 г. выпуска обли...\n",
       "4   Переговоры ОАО \"Газпром\" с оператором проекта..."
      ]
     },
     "execution_count": 162,
     "metadata": {},
     "output_type": "execute_result"
    }
   ],
   "source": [
    "texts = result[['Text']]\n",
    "texts.head()"
   ]
  },
  {
   "cell_type": "code",
   "execution_count": 163,
   "metadata": {},
   "outputs": [
    {
     "data": {
      "text/plain": [
       "array([0, 0, 1, ..., 1, 1, 0])"
      ]
     },
     "execution_count": 163,
     "metadata": {},
     "output_type": "execute_result"
    }
   ],
   "source": [
    "y = result.ClosingPrice_bin\n",
    "y.values"
   ]
  },
  {
   "cell_type": "code",
   "execution_count": 164,
   "metadata": {},
   "outputs": [
    {
     "data": {
      "text/plain": [
       "((1202, 1), (1202,))"
      ]
     },
     "execution_count": 164,
     "metadata": {},
     "output_type": "execute_result"
    }
   ],
   "source": [
    "texts.shape, y.shape"
   ]
  },
  {
   "cell_type": "markdown",
   "metadata": {},
   "source": [
    "### Нужно предоработать данные"
   ]
  },
  {
   "cell_type": "markdown",
   "metadata": {},
   "source": [
    "Функции, помогающие преобразовать текст, были приведены в первом задании. Для удобства, приведем здесь итоговую. Вся предобработка входных данных:"
   ]
  },
  {
   "cell_type": "code",
   "execution_count": 165,
   "metadata": {},
   "outputs": [],
   "source": [
    "def preprocess(df):\n",
    "    T = copy(df)\n",
    "    T.Text = T.Text.str.lower()\n",
    "    T.Text = T.Text.apply(remove_url)\n",
    "    T.Text = T.Text.apply(words_only)\n",
    "    T.Text.replace('', np.nan, inplace=True)\n",
    "    T.dropna(subset=['Text'], inplace=True)\n",
    "    T.Text = T.Text.apply(remove_stopwords)\n",
    "    T.Text = T.Text.apply(lemmatize)\n",
    "    T.Text = T.Text.apply(remove_stopwords)  \n",
    "    T.Text = add_bigrams(T.Text)\n",
    "    return T"
   ]
  },
  {
   "cell_type": "code",
   "execution_count": 166,
   "metadata": {},
   "outputs": [
    {
     "data": {
      "text/html": [
       "<div>\n",
       "<style>\n",
       "    .dataframe thead tr:only-child th {\n",
       "        text-align: right;\n",
       "    }\n",
       "\n",
       "    .dataframe thead th {\n",
       "        text-align: left;\n",
       "    }\n",
       "\n",
       "    .dataframe tbody tr th {\n",
       "        vertical-align: top;\n",
       "    }\n",
       "</style>\n",
       "<table border=\"1\" class=\"dataframe\">\n",
       "  <thead>\n",
       "    <tr style=\"text-align: right;\">\n",
       "      <th></th>\n",
       "      <th>Text</th>\n",
       "    </tr>\n",
       "  </thead>\n",
       "  <tbody>\n",
       "    <tr>\n",
       "      <th>0</th>\n",
       "      <td>Спорные вопросы по оплате за оказанные в пери...</td>\n",
       "    </tr>\n",
       "    <tr>\n",
       "      <th>1</th>\n",
       "      <td>\"Газпром\" готов забирать весь объем азербайдж...</td>\n",
       "    </tr>\n",
       "    <tr>\n",
       "      <th>2</th>\n",
       "      <td>Консорциум во главе с российским ОАО \"Газпром...</td>\n",
       "    </tr>\n",
       "    <tr>\n",
       "      <th>3</th>\n",
       "      <td>\"Газпром\" не исключает в 2010 г. выпуска обли...</td>\n",
       "    </tr>\n",
       "    <tr>\n",
       "      <th>4</th>\n",
       "      <td>Переговоры ОАО \"Газпром\" с оператором проекта...</td>\n",
       "    </tr>\n",
       "  </tbody>\n",
       "</table>\n",
       "</div>"
      ],
      "text/plain": [
       "                                                Text\n",
       "0   Спорные вопросы по оплате за оказанные в пери...\n",
       "1   \"Газпром\" готов забирать весь объем азербайдж...\n",
       "2   Консорциум во главе с российским ОАО \"Газпром...\n",
       "3   \"Газпром\" не исключает в 2010 г. выпуска обли...\n",
       "4   Переговоры ОАО \"Газпром\" с оператором проекта..."
      ]
     },
     "execution_count": 166,
     "metadata": {},
     "output_type": "execute_result"
    }
   ],
   "source": [
    "texts.head()"
   ]
  },
  {
   "cell_type": "code",
   "execution_count": 167,
   "metadata": {},
   "outputs": [
    {
     "name": "stderr",
     "output_type": "stream",
     "text": [
      "/Users/andrey_lukyanov/anaconda/lib/python3.6/site-packages/gensim/models/phrases.py:494: UserWarning: For a faster implementation, use the gensim.models.phrases.Phraser class\n",
      "  warnings.warn(\"For a faster implementation, use the gensim.models.phrases.Phraser class\")\n"
     ]
    },
    {
     "data": {
      "text/html": [
       "<div>\n",
       "<style>\n",
       "    .dataframe thead tr:only-child th {\n",
       "        text-align: right;\n",
       "    }\n",
       "\n",
       "    .dataframe thead th {\n",
       "        text-align: left;\n",
       "    }\n",
       "\n",
       "    .dataframe tbody tr th {\n",
       "        vertical-align: top;\n",
       "    }\n",
       "</style>\n",
       "<table border=\"1\" class=\"dataframe\">\n",
       "  <thead>\n",
       "    <tr style=\"text-align: right;\">\n",
       "      <th></th>\n",
       "      <th>Text</th>\n",
       "    </tr>\n",
       "  </thead>\n",
       "  <tbody>\n",
       "    <tr>\n",
       "      <th>0</th>\n",
       "      <td>спорный вопрос оплата оказывать период услуга ...</td>\n",
       "    </tr>\n",
       "    <tr>\n",
       "      <th>1</th>\n",
       "      <td>газпром готовый забирать объем азербайджанский...</td>\n",
       "    </tr>\n",
       "    <tr>\n",
       "      <th>2</th>\n",
       "      <td>консорциум глава российский оао газпром нефть ...</td>\n",
       "    </tr>\n",
       "    <tr>\n",
       "      <th>3</th>\n",
       "      <td>газпром исключать выпуск облигация примерно по...</td>\n",
       "    </tr>\n",
       "    <tr>\n",
       "      <th>4</th>\n",
       "      <td>переговоры оао газпром оператор проект сахалин...</td>\n",
       "    </tr>\n",
       "  </tbody>\n",
       "</table>\n",
       "</div>"
      ],
      "text/plain": [
       "                                                Text\n",
       "0  спорный вопрос оплата оказывать период услуга ...\n",
       "1  газпром готовый забирать объем азербайджанский...\n",
       "2  консорциум глава российский оао газпром нефть ...\n",
       "3  газпром исключать выпуск облигация примерно по...\n",
       "4  переговоры оао газпром оператор проект сахалин..."
      ]
     },
     "execution_count": 167,
     "metadata": {},
     "output_type": "execute_result"
    }
   ],
   "source": [
    "ptexts = preprocess(texts)\n",
    "ptexts.head()"
   ]
  },
  {
   "cell_type": "code",
   "execution_count": 338,
   "metadata": {},
   "outputs": [
    {
     "data": {
      "text/plain": [
       "'спорный вопрос оплата оказывать период услуга транспортировка природный газ территория польша должный урегулировать основа принцип отсутствие взаимный претензия переговоры продолжаться сообщать риа новость управление информация оао газпром газпром обещать покупать газ захотеть экспортировать азербайджан потенциальный поставщик сырье конкурировать российский газопровод южный поток проект набукко природный_газ сообщать_риа управление_информация газопровод_южный'"
      ]
     },
     "execution_count": 338,
     "metadata": {},
     "output_type": "execute_result"
    }
   ],
   "source": [
    "ptexts.Text[0]"
   ]
  },
  {
   "cell_type": "markdown",
   "metadata": {},
   "source": [
    "## CountVectorizer"
   ]
  },
  {
   "cell_type": "markdown",
   "metadata": {},
   "source": [
    "Для начала попробуем обучить модели по CountVectorizer. В качестве признаков оставим только слова, появляющиеся в текстах более 90 раз."
   ]
  },
  {
   "cell_type": "code",
   "execution_count": 344,
   "metadata": {},
   "outputs": [],
   "source": [
    "tf = CountVectorizer(analyzer='word', ngram_range=(1,1), min_df = 90, stop_words=mystopwords)\n",
    "data = tf.fit_transform(ptexts.Text).toarray()\n",
    "X = pd.DataFrame(data=data, columns=tf.get_feature_names())"
   ]
  },
  {
   "cell_type": "markdown",
   "metadata": {},
   "source": [
    "Надо разбить тексты на обучающее и тестовое подмножества"
   ]
  },
  {
   "cell_type": "code",
   "execution_count": 345,
   "metadata": {},
   "outputs": [
    {
     "name": "stdout",
     "output_type": "stream",
     "text": [
      "Индекс первого элемента, относящегося к 2016 году: 935\n"
     ]
    }
   ],
   "source": [
    "result['Year'] = result.Date.apply(lambda x: x.year)\n",
    "\n",
    "d = result.Date.values[0]\n",
    "\n",
    "y2016 = np.where(result.Year == 2016)[0][0]\n",
    "print('Индекс первого элемента, относящегося к 2016 году:', y2016)\n",
    "\n",
    "X_train = X[:y2016]\n",
    "X_test = X[y2016:]\n",
    "\n",
    "y_train = y[:y2016]\n",
    "y_test = y[y2016:]"
   ]
  },
  {
   "cell_type": "code",
   "execution_count": 346,
   "metadata": {},
   "outputs": [
    {
     "data": {
      "text/plain": [
       "((935, 100), (267, 100), (935,), (267,))"
      ]
     },
     "execution_count": 346,
     "metadata": {},
     "output_type": "execute_result"
    }
   ],
   "source": [
    "X_train.shape, X_test.shape, y_train.shape, y_test.shape"
   ]
  },
  {
   "cell_type": "markdown",
   "metadata": {},
   "source": [
    "Теперь обучим модель"
   ]
  },
  {
   "cell_type": "code",
   "execution_count": 314,
   "metadata": {},
   "outputs": [],
   "source": [
    "def make_model(model, X_train, X_test, y_train, y_test):\n",
    "    '''\n",
    "    Обучает модель и оценивает ее качество (метрики: accuracy, f1-measure)\n",
    "    \n",
    "    Parameters\n",
    "    ----------\n",
    "    model - название модели (классификатора) с параметрами, например: model=MultinomialNB()\n",
    "    X_train, y_train - обучающие подвыборки матрицы признаков Х и вектора ответов у\n",
    "    X_test, y_test - тестовые подвыборки матрицы признаков Х и вектора ответов у\n",
    "    \n",
    "    '''\n",
    "    \n",
    "    startTime = datetime.now()\n",
    "    temp_model = clone(model)\n",
    "    y_pred = temp_model.fit(X_train, y_train).predict(X_test)\n",
    "    accuracy = accuracy_score(y_test, y_pred)\n",
    "    f1 = f1_score(y_test, y_pred)\n",
    "    print('Accuracy:', accuracy)\n",
    "    print('F1-measure:', f1)\n",
    "    print('Затраченное время:', datetime.now() - startTime)\n",
    "    print(y_pred)"
   ]
  },
  {
   "cell_type": "code",
   "execution_count": 350,
   "metadata": {},
   "outputs": [
    {
     "name": "stdout",
     "output_type": "stream",
     "text": [
      "C: 1 Accuracy: 0.535580524345 F1-measure: 0.451327433628\n",
      "C: 11 Accuracy: 0.516853932584 F1-measure: 0.431718061674\n",
      "C: 21 Accuracy: 0.516853932584 F1-measure: 0.431718061674\n",
      "C: 31 Accuracy: 0.516853932584 F1-measure: 0.431718061674\n",
      "C: 41 Accuracy: 0.516853932584 F1-measure: 0.431718061674\n",
      "C: 51 Accuracy: 0.516853932584 F1-measure: 0.431718061674\n",
      "C: 61 Accuracy: 0.516853932584 F1-measure: 0.431718061674\n",
      "C: 71 Accuracy: 0.516853932584 F1-measure: 0.431718061674\n",
      "C: 81 Accuracy: 0.516853932584 F1-measure: 0.431718061674\n",
      "C: 91 Accuracy: 0.516853932584 F1-measure: 0.431718061674\n"
     ]
    }
   ],
   "source": [
    "#LogisticRegression\n",
    "Cs = np.arange(1, 100, 10)\n",
    "\n",
    "for C in Cs:\n",
    "    lr = LogisticRegression(penalty=\"l2\", fit_intercept=True, max_iter=100, C=C, solver=\"lbfgs\", random_state=42)\n",
    "\n",
    "    lr.fit(X_train, y_train)\n",
    "    \n",
    "    y_pred = lr.predict(X_test)\n",
    "    accuracy = accuracy_score(y_test, y_pred)\n",
    "    f1 = f1_score(y_test, y_pred)\n",
    "    print('C:', C, 'Accuracy:', accuracy, 'F1-measure:', f1) "
   ]
  },
  {
   "cell_type": "code",
   "execution_count": 351,
   "metadata": {},
   "outputs": [
    {
     "name": "stdout",
     "output_type": "stream",
     "text": [
      "Alpha: 1 Accuracy: 0.520599250936 F1-measure: 0.5\n",
      "Alpha: 11 Accuracy: 0.52808988764 F1-measure: 0.5078125\n",
      "Alpha: 21 Accuracy: 0.531835205993 F1-measure: 0.517374517375\n",
      "Alpha: 31 Accuracy: 0.524344569288 F1-measure: 0.509652509653\n",
      "Alpha: 41 Accuracy: 0.516853932584 F1-measure: 0.505747126437\n",
      "Alpha: 51 Accuracy: 0.524344569288 F1-measure: 0.51711026616\n",
      "Alpha: 61 Accuracy: 0.520599250936 F1-measure: 0.515151515152\n",
      "Alpha: 71 Accuracy: 0.516853932584 F1-measure: 0.509505703422\n",
      "Alpha: 81 Accuracy: 0.513108614232 F1-measure: 0.507575757576\n",
      "Alpha: 91 Accuracy: 0.50936329588 F1-measure: 0.501901140684\n"
     ]
    }
   ],
   "source": [
    "#MultinomialNB\n",
    "alphas = np.arange(1, 100, 10)\n",
    "\n",
    "for alpha in alphas:\n",
    "    mnb = MultinomialNB(alpha=alpha)\n",
    "\n",
    "    mnb.fit(X_train, y_train)\n",
    "    \n",
    "    y_pred = mnb.predict(X_test)\n",
    "    accuracy = accuracy_score(y_test, y_pred)\n",
    "    f1 = f1_score(y_test, y_pred)\n",
    "    print('Alpha:', alpha, 'Accuracy:', accuracy, 'F1-measure:', f1) "
   ]
  },
  {
   "cell_type": "code",
   "execution_count": 353,
   "metadata": {},
   "outputs": [
    {
     "name": "stdout",
     "output_type": "stream",
     "text": [
      "Alpha: 0.1 Accuracy: 0.524344569288 F1-measure: 0.473029045643\n",
      "Alpha: 10.1 Accuracy: 0.456928838951 F1-measure: 0.627249357326\n",
      "Alpha: 20.1 Accuracy: 0.543071161049 F1-measure: 0.0\n",
      "Alpha: 30.1 Accuracy: 0.456928838951 F1-measure: 0.627249357326\n",
      "Alpha: 40.1 Accuracy: 0.456928838951 F1-measure: 0.627249357326\n",
      "Alpha: 50.1 Accuracy: 0.456928838951 F1-measure: 0.627249357326\n",
      "Alpha: 60.1 Accuracy: 0.543071161049 F1-measure: 0.0\n",
      "Alpha: 70.1 Accuracy: 0.543071161049 F1-measure: 0.0\n",
      "Alpha: 80.1 Accuracy: 0.543071161049 F1-measure: 0.0\n",
      "Alpha: 90.1 Accuracy: 0.456928838951 F1-measure: 0.627249357326\n"
     ]
    },
    {
     "name": "stderr",
     "output_type": "stream",
     "text": [
      "/Users/andrey_lukyanov/anaconda/lib/python3.6/site-packages/sklearn/linear_model/stochastic_gradient.py:128: FutureWarning: max_iter and tol parameters have been added in <class 'sklearn.linear_model.stochastic_gradient.SGDClassifier'> in 0.19. If both are left unset, they default to max_iter=5 and tol=None. If tol is not None, max_iter defaults to max_iter=1000. From 0.21, default max_iter will be 1000, and default tol will be 1e-3.\n",
      "  \"and default tol will be 1e-3.\" % type(self), FutureWarning)\n",
      "/Users/andrey_lukyanov/anaconda/lib/python3.6/site-packages/sklearn/metrics/classification.py:1135: UndefinedMetricWarning: F-score is ill-defined and being set to 0.0 due to no predicted samples.\n",
      "  'precision', 'predicted', average, warn_for)\n"
     ]
    }
   ],
   "source": [
    "#SGDClassifier\n",
    "alphas = np.arange(0.1, 100, 10)\n",
    "\n",
    "for alpha in alphas:\n",
    "    sgdc = SGDClassifier(alpha=alpha)\n",
    "\n",
    "    sgdc.fit(X_train, y_train)\n",
    "    \n",
    "    y_pred = sgdc.predict(X_test)\n",
    "    accuracy = accuracy_score(y_test, y_pred)\n",
    "    f1 = f1_score(y_test, y_pred)\n",
    "    print('Alpha:', alpha, 'Accuracy:', accuracy, 'F1-measure:', f1) "
   ]
  },
  {
   "cell_type": "code",
   "execution_count": 318,
   "metadata": {},
   "outputs": [],
   "source": [
    "from sklearn.svm import SVC"
   ]
  },
  {
   "cell_type": "code",
   "execution_count": 360,
   "metadata": {},
   "outputs": [
    {
     "name": "stderr",
     "output_type": "stream",
     "text": [
      "/Users/andrey_lukyanov/anaconda/lib/python3.6/site-packages/sklearn/metrics/classification.py:1135: UndefinedMetricWarning: F-score is ill-defined and being set to 0.0 due to no predicted samples.\n",
      "  'precision', 'predicted', average, warn_for)\n"
     ]
    },
    {
     "name": "stdout",
     "output_type": "stream",
     "text": [
      "C: 0.1 Accuracy: 0.543071161049 F1-measure: 0.0\n",
      "C: 5.1 Accuracy: 0.513108614232 F1-measure: 0.507575757576\n",
      "C: 10.1 Accuracy: 0.520599250936 F1-measure: 0.522388059701\n",
      "C: 15.1 Accuracy: 0.513108614232 F1-measure: 0.511278195489\n",
      "C: 20.1 Accuracy: 0.516853932584 F1-measure: 0.505747126437\n",
      "C: 25.1 Accuracy: 0.505617977528 F1-measure: 0.492307692308\n",
      "C: 30.1 Accuracy: 0.516853932584 F1-measure: 0.501930501931\n",
      "C: 35.1 Accuracy: 0.50936329588 F1-measure: 0.490272373541\n",
      "C: 40.1 Accuracy: 0.513108614232 F1-measure: 0.503816793893\n",
      "C: 45.1 Accuracy: 0.505617977528 F1-measure: 0.5\n"
     ]
    }
   ],
   "source": [
    "#SVC rbf\n",
    "Cs = np.arange(0.1, 50, 5)\n",
    "\n",
    "for C in Cs:\n",
    "    svc = SVC(C=C, kernel='rbf', degree=3)\n",
    "\n",
    "    svc.fit(X_train, y_train)\n",
    "    \n",
    "    y_pred = svc.predict(X_test)\n",
    "    accuracy = accuracy_score(y_test, y_pred)\n",
    "    f1 = f1_score(y_test, y_pred)\n",
    "    print('C:', C, 'Accuracy:', accuracy, 'F1-measure:', f1) "
   ]
  },
  {
   "cell_type": "code",
   "execution_count": 361,
   "metadata": {},
   "outputs": [
    {
     "name": "stderr",
     "output_type": "stream",
     "text": [
      "/Users/andrey_lukyanov/anaconda/lib/python3.6/site-packages/sklearn/metrics/classification.py:1135: UndefinedMetricWarning: F-score is ill-defined and being set to 0.0 due to no predicted samples.\n",
      "  'precision', 'predicted', average, warn_for)\n"
     ]
    },
    {
     "name": "stdout",
     "output_type": "stream",
     "text": [
      "C: 0.1 Accuracy: 0.543071161049 F1-measure: 0.0\n",
      "C: 5.1 Accuracy: 0.531835205993 F1-measure: 0.161073825503\n",
      "C: 10.1 Accuracy: 0.539325842697 F1-measure: 0.185430463576\n",
      "C: 15.1 Accuracy: 0.524344569288 F1-measure: 0.18064516129\n",
      "C: 20.1 Accuracy: 0.516853932584 F1-measure: 0.218181818182\n",
      "C: 25.1 Accuracy: 0.520599250936 F1-measure: 0.228915662651\n",
      "C: 30.1 Accuracy: 0.516853932584 F1-measure: 0.254335260116\n",
      "C: 35.1 Accuracy: 0.505617977528 F1-measure: 0.241379310345\n",
      "C: 40.1 Accuracy: 0.501872659176 F1-measure: 0.248587570621\n",
      "C: 45.1 Accuracy: 0.50936329588 F1-measure: 0.242774566474\n"
     ]
    }
   ],
   "source": [
    "#SVC poly\n",
    "Cs = np.arange(0.1, 50, 5)\n",
    "\n",
    "for C in Cs:\n",
    "    svc = SVC(C=C, kernel='poly', degree=3)\n",
    "\n",
    "    svc.fit(X_train, y_train)\n",
    "    \n",
    "    y_pred = svc.predict(X_test)\n",
    "    accuracy = accuracy_score(y_test, y_pred)\n",
    "    f1 = f1_score(y_test, y_pred)\n",
    "    print('C:', C, 'Accuracy:', accuracy, 'F1-measure:', f1) "
   ]
  },
  {
   "cell_type": "code",
   "execution_count": 367,
   "metadata": {},
   "outputs": [],
   "source": [
    "from sklearn.ensemble import GradientBoostingClassifier"
   ]
  },
  {
   "cell_type": "code",
   "execution_count": 368,
   "metadata": {},
   "outputs": [
    {
     "name": "stdout",
     "output_type": "stream",
     "text": [
      "Estimators: 10 Accuracy: 0.550561797753 F1-measure: 0.259259259259\n",
      "Estimators: 50 Accuracy: 0.505617977528 F1-measure: 0.492307692308\n",
      "Estimators: 100 Accuracy: 0.50936329588 F1-measure: 0.490272373541\n",
      "Estimators: 150 Accuracy: 0.498127340824 F1-measure: 0.472440944882\n",
      "Estimators: 200 Accuracy: 0.50936329588 F1-measure: 0.478087649402\n",
      "Estimators: 250 Accuracy: 0.505617977528 F1-measure: 0.488372093023\n",
      "Estimators: 300 Accuracy: 0.516853932584 F1-measure: 0.494117647059\n",
      "Estimators: 350 Accuracy: 0.539325842697 F1-measure: 0.502024291498\n"
     ]
    }
   ],
   "source": [
    "#GradientBoostingClassifier\n",
    "n_estimators = np.array([10, 50, 100, 150, 200, 250, 300, 350])\n",
    "\n",
    "for n_est in n_estimators:\n",
    "    clf = GradientBoostingClassifier(n_estimators = n_est)\n",
    "\n",
    "    clf.fit(X_train, y_train)\n",
    "    \n",
    "    y_pred = clf.predict(X_test)\n",
    "    accuracy = accuracy_score(y_test, y_pred)\n",
    "    f1 = f1_score(y_test, y_pred)\n",
    "    print('Estimators:', n_est, 'Accuracy:', accuracy, 'F1-measure:', f1) "
   ]
  },
  {
   "cell_type": "markdown",
   "metadata": {},
   "source": [
    "## TF-IDF"
   ]
  },
  {
   "cell_type": "markdown",
   "metadata": {},
   "source": [
    "Пробуем то же самое с TF-IDF"
   ]
  },
  {
   "cell_type": "code",
   "execution_count": 369,
   "metadata": {},
   "outputs": [],
   "source": [
    "from sklearn.feature_extraction.text import TfidfVectorizer"
   ]
  },
  {
   "cell_type": "code",
   "execution_count": 370,
   "metadata": {},
   "outputs": [],
   "source": [
    "tfidf = TfidfVectorizer(analyzer='word', ngram_range=(1,1), min_df = 90, stop_words=mystopwords)\n",
    "data = tfidf.fit_transform(ptexts.Text).toarray()\n",
    "X = pd.DataFrame(data=data, columns=tfidf.get_feature_names())"
   ]
  },
  {
   "cell_type": "markdown",
   "metadata": {},
   "source": [
    "Надо разбить тексты на обучающее и тестовое подмножества"
   ]
  },
  {
   "cell_type": "code",
   "execution_count": 371,
   "metadata": {},
   "outputs": [
    {
     "name": "stdout",
     "output_type": "stream",
     "text": [
      "Индекс первого элемента, относящегося к 2016 году: 935\n"
     ]
    }
   ],
   "source": [
    "result['Year'] = result.Date.apply(lambda x: x.year)\n",
    "\n",
    "d = result.Date.values[0]\n",
    "\n",
    "y2016 = np.where(result.Year == 2016)[0][0]\n",
    "print('Индекс первого элемента, относящегося к 2016 году:', y2016)\n",
    "\n",
    "X_train = X[:y2016]\n",
    "X_test = X[y2016:]\n",
    "\n",
    "y_train = y[:y2016]\n",
    "y_test = y[y2016:]"
   ]
  },
  {
   "cell_type": "code",
   "execution_count": 372,
   "metadata": {},
   "outputs": [
    {
     "data": {
      "text/plain": [
       "((935, 100), (267, 100), (935,), (267,))"
      ]
     },
     "execution_count": 372,
     "metadata": {},
     "output_type": "execute_result"
    }
   ],
   "source": [
    "X_train.shape, X_test.shape, y_train.shape, y_test.shape"
   ]
  },
  {
   "cell_type": "code",
   "execution_count": 373,
   "metadata": {},
   "outputs": [
    {
     "name": "stdout",
     "output_type": "stream",
     "text": [
      "C: 1 Accuracy: 0.513108614232 F1-measure: 0.475806451613\n",
      "C: 11 Accuracy: 0.50936329588 F1-measure: 0.478087649402\n",
      "C: 21 Accuracy: 0.505617977528 F1-measure: 0.472\n",
      "C: 31 Accuracy: 0.516853932584 F1-measure: 0.490118577075\n",
      "C: 41 Accuracy: 0.513108614232 F1-measure: 0.488188976378\n",
      "C: 51 Accuracy: 0.513108614232 F1-measure: 0.488188976378\n",
      "C: 61 Accuracy: 0.513108614232 F1-measure: 0.488188976378\n",
      "C: 71 Accuracy: 0.513108614232 F1-measure: 0.488188976378\n",
      "C: 81 Accuracy: 0.513108614232 F1-measure: 0.488188976378\n",
      "C: 91 Accuracy: 0.513108614232 F1-measure: 0.488188976378\n"
     ]
    }
   ],
   "source": [
    "#LogisticRegression\n",
    "Cs = np.arange(1, 100, 10)\n",
    "\n",
    "for C in Cs:\n",
    "    lr = LogisticRegression(penalty=\"l2\", fit_intercept=True, max_iter=100, C=C, solver=\"lbfgs\", random_state=42)\n",
    "\n",
    "    lr.fit(X_train, y_train)\n",
    "    \n",
    "    y_pred = lr.predict(X_test)\n",
    "    accuracy = accuracy_score(y_test, y_pred)\n",
    "    f1 = f1_score(y_test, y_pred)\n",
    "    print('C:', C, 'Accuracy:', accuracy, 'F1-measure:', f1) "
   ]
  },
  {
   "cell_type": "code",
   "execution_count": 374,
   "metadata": {},
   "outputs": [
    {
     "name": "stdout",
     "output_type": "stream",
     "text": [
      "Alpha: 1 Accuracy: 0.520599250936 F1-measure: 0.466666666667\n",
      "Alpha: 11 Accuracy: 0.513108614232 F1-measure: 0.439655172414\n",
      "Alpha: 21 Accuracy: 0.524344569288 F1-measure: 0.440528634361\n",
      "Alpha: 31 Accuracy: 0.535580524345 F1-measure: 0.436363636364\n",
      "Alpha: 41 Accuracy: 0.539325842697 F1-measure: 0.427906976744\n",
      "Alpha: 51 Accuracy: 0.52808988764 F1-measure: 0.4\n",
      "Alpha: 61 Accuracy: 0.52808988764 F1-measure: 0.376237623762\n",
      "Alpha: 71 Accuracy: 0.520599250936 F1-measure: 0.353535353535\n",
      "Alpha: 81 Accuracy: 0.516853932584 F1-measure: 0.345177664975\n",
      "Alpha: 91 Accuracy: 0.513108614232 F1-measure: 0.329896907216\n"
     ]
    }
   ],
   "source": [
    "#MultinomialNB\n",
    "alphas = np.arange(1, 100, 10)\n",
    "\n",
    "for alpha in alphas:\n",
    "    mnb = MultinomialNB(alpha=alpha)\n",
    "\n",
    "    mnb.fit(X_train, y_train)\n",
    "    \n",
    "    y_pred = mnb.predict(X_test)\n",
    "    accuracy = accuracy_score(y_test, y_pred)\n",
    "    f1 = f1_score(y_test, y_pred)\n",
    "    print('Alpha:', alpha, 'Accuracy:', accuracy, 'F1-measure:', f1) "
   ]
  },
  {
   "cell_type": "code",
   "execution_count": 375,
   "metadata": {},
   "outputs": [
    {
     "name": "stdout",
     "output_type": "stream",
     "text": [
      "Alpha: 0.1 Accuracy: 0.430711610487 F1-measure: 0.577777777778\n",
      "Alpha: 10.1 Accuracy: 0.456928838951 F1-measure: 0.627249357326\n",
      "Alpha: 20.1 Accuracy: 0.456928838951 F1-measure: 0.627249357326\n",
      "Alpha: 30.1 Accuracy: 0.456928838951 F1-measure: 0.627249357326\n",
      "Alpha: 40.1 Accuracy: 0.456928838951 F1-measure: 0.627249357326\n",
      "Alpha: 50.1 Accuracy: 0.543071161049 F1-measure: 0.0\n",
      "Alpha: 60.1 Accuracy: 0.456928838951 F1-measure: 0.627249357326\n",
      "Alpha: 70.1 Accuracy: 0.543071161049 F1-measure: 0.0\n",
      "Alpha: 80.1 Accuracy: 0.456928838951 F1-measure: 0.627249357326\n",
      "Alpha: 90.1 Accuracy: 0.543071161049 F1-measure: 0.0\n"
     ]
    },
    {
     "name": "stderr",
     "output_type": "stream",
     "text": [
      "/Users/andrey_lukyanov/anaconda/lib/python3.6/site-packages/sklearn/linear_model/stochastic_gradient.py:128: FutureWarning: max_iter and tol parameters have been added in <class 'sklearn.linear_model.stochastic_gradient.SGDClassifier'> in 0.19. If both are left unset, they default to max_iter=5 and tol=None. If tol is not None, max_iter defaults to max_iter=1000. From 0.21, default max_iter will be 1000, and default tol will be 1e-3.\n",
      "  \"and default tol will be 1e-3.\" % type(self), FutureWarning)\n",
      "/Users/andrey_lukyanov/anaconda/lib/python3.6/site-packages/sklearn/metrics/classification.py:1135: UndefinedMetricWarning: F-score is ill-defined and being set to 0.0 due to no predicted samples.\n",
      "  'precision', 'predicted', average, warn_for)\n"
     ]
    }
   ],
   "source": [
    "#SGDClassifier\n",
    "alphas = np.arange(0.1, 100, 10)\n",
    "\n",
    "for alpha in alphas:\n",
    "    sgdc = SGDClassifier(alpha=alpha)\n",
    "\n",
    "    sgdc.fit(X_train, y_train)\n",
    "    \n",
    "    y_pred = sgdc.predict(X_test)\n",
    "    accuracy = accuracy_score(y_test, y_pred)\n",
    "    f1 = f1_score(y_test, y_pred)\n",
    "    print('Alpha:', alpha, 'Accuracy:', accuracy, 'F1-measure:', f1) "
   ]
  },
  {
   "cell_type": "code",
   "execution_count": 376,
   "metadata": {},
   "outputs": [],
   "source": [
    "from sklearn.svm import SVC"
   ]
  },
  {
   "cell_type": "code",
   "execution_count": 377,
   "metadata": {},
   "outputs": [
    {
     "name": "stderr",
     "output_type": "stream",
     "text": [
      "/Users/andrey_lukyanov/anaconda/lib/python3.6/site-packages/sklearn/metrics/classification.py:1135: UndefinedMetricWarning: F-score is ill-defined and being set to 0.0 due to no predicted samples.\n",
      "  'precision', 'predicted', average, warn_for)\n"
     ]
    },
    {
     "name": "stdout",
     "output_type": "stream",
     "text": [
      "C: 0.1 Accuracy: 0.543071161049 F1-measure: 0.0\n",
      "C: 5.1 Accuracy: 0.543071161049 F1-measure: 0.031746031746\n",
      "C: 10.1 Accuracy: 0.52808988764 F1-measure: 0.405660377358\n",
      "C: 15.1 Accuracy: 0.558052434457 F1-measure: 0.495726495726\n",
      "C: 20.1 Accuracy: 0.554307116105 F1-measure: 0.502092050209\n",
      "C: 25.1 Accuracy: 0.531835205993 F1-measure: 0.476987447699\n",
      "C: 30.1 Accuracy: 0.539325842697 F1-measure: 0.485355648536\n",
      "C: 35.1 Accuracy: 0.535580524345 F1-measure: 0.487603305785\n",
      "C: 40.1 Accuracy: 0.535580524345 F1-measure: 0.487603305785\n",
      "C: 45.1 Accuracy: 0.531835205993 F1-measure: 0.48132780083\n"
     ]
    }
   ],
   "source": [
    "#SVC rbf\n",
    "Cs = np.arange(0.1, 50, 5)\n",
    "\n",
    "for C in Cs:\n",
    "    svc = SVC(C=C, kernel='rbf', degree=3)\n",
    "\n",
    "    svc.fit(X_train, y_train)\n",
    "    \n",
    "    y_pred = svc.predict(X_test)\n",
    "    accuracy = accuracy_score(y_test, y_pred)\n",
    "    f1 = f1_score(y_test, y_pred)\n",
    "    print('C:', C, 'Accuracy:', accuracy, 'F1-measure:', f1) "
   ]
  },
  {
   "cell_type": "code",
   "execution_count": 378,
   "metadata": {},
   "outputs": [
    {
     "name": "stderr",
     "output_type": "stream",
     "text": [
      "/Users/andrey_lukyanov/anaconda/lib/python3.6/site-packages/sklearn/metrics/classification.py:1135: UndefinedMetricWarning: F-score is ill-defined and being set to 0.0 due to no predicted samples.\n",
      "  'precision', 'predicted', average, warn_for)\n"
     ]
    },
    {
     "name": "stdout",
     "output_type": "stream",
     "text": [
      "C: 0.1 Accuracy: 0.543071161049 F1-measure: 0.0\n",
      "C: 5.1 Accuracy: 0.543071161049 F1-measure: 0.0\n",
      "C: 10.1 Accuracy: 0.543071161049 F1-measure: 0.0\n",
      "C: 15.1 Accuracy: 0.543071161049 F1-measure: 0.0\n",
      "C: 20.1 Accuracy: 0.543071161049 F1-measure: 0.0\n",
      "C: 25.1 Accuracy: 0.543071161049 F1-measure: 0.0\n",
      "C: 30.1 Accuracy: 0.543071161049 F1-measure: 0.0\n",
      "C: 35.1 Accuracy: 0.543071161049 F1-measure: 0.0\n",
      "C: 40.1 Accuracy: 0.543071161049 F1-measure: 0.0\n",
      "C: 45.1 Accuracy: 0.543071161049 F1-measure: 0.0\n"
     ]
    }
   ],
   "source": [
    "#SVC poly\n",
    "Cs = np.arange(0.1, 50, 5)\n",
    "\n",
    "for C in Cs:\n",
    "    svc = SVC(C=C, kernel='poly', degree=3)\n",
    "\n",
    "    svc.fit(X_train, y_train)\n",
    "    \n",
    "    y_pred = svc.predict(X_test)\n",
    "    accuracy = accuracy_score(y_test, y_pred)\n",
    "    f1 = f1_score(y_test, y_pred)\n",
    "    print('C:', C, 'Accuracy:', accuracy, 'F1-measure:', f1) "
   ]
  },
  {
   "cell_type": "code",
   "execution_count": 379,
   "metadata": {},
   "outputs": [],
   "source": [
    "from sklearn.ensemble import GradientBoostingClassifier"
   ]
  },
  {
   "cell_type": "code",
   "execution_count": 380,
   "metadata": {},
   "outputs": [
    {
     "name": "stdout",
     "output_type": "stream",
     "text": [
      "Estimators: 10 Accuracy: 0.505617977528 F1-measure: 0.4\n",
      "Estimators: 50 Accuracy: 0.505617977528 F1-measure: 0.445378151261\n",
      "Estimators: 100 Accuracy: 0.49063670412 F1-measure: 0.451612903226\n",
      "Estimators: 150 Accuracy: 0.520599250936 F1-measure: 0.475409836066\n",
      "Estimators: 200 Accuracy: 0.539325842697 F1-measure: 0.506024096386\n",
      "Estimators: 250 Accuracy: 0.531835205993 F1-measure: 0.513618677043\n",
      "Estimators: 300 Accuracy: 0.498127340824 F1-measure: 0.4765625\n",
      "Estimators: 350 Accuracy: 0.501872659176 F1-measure: 0.478431372549\n"
     ]
    }
   ],
   "source": [
    "#GradientBoostingClassifier\n",
    "n_estimators = np.array([10, 50, 100, 150, 200, 250, 300, 350])\n",
    "\n",
    "for n_est in n_estimators:\n",
    "    clf = GradientBoostingClassifier(n_estimators = n_est)\n",
    "\n",
    "    clf.fit(X_train, y_train)\n",
    "    \n",
    "    y_pred = clf.predict(X_test)\n",
    "    accuracy = accuracy_score(y_test, y_pred)\n",
    "    f1 = f1_score(y_test, y_pred)\n",
    "    print('Estimators:', n_est, 'Accuracy:', accuracy, 'F1-measure:', f1) "
   ]
  },
  {
   "cell_type": "markdown",
   "metadata": {},
   "source": [
    "В среднем у CountVectorizer-выборки качество было немного выше. Все равно все модели плохие. Однако svc rbf по TF-IDF с параметром С = 20.1 показал точность 55.4 и F1 = 0.5. Будем считать, что это бейслайн."
   ]
  },
  {
   "cell_type": "markdown",
   "metadata": {},
   "source": [
    "## Часть 3. Творческая [4 балла]\n",
    "Придумайте и попытайтесь сделать еще что-нибудь, чтобы улучшить качество классификации. \n",
    "Направления развития:\n",
    "* Морфологический признаки: \n",
    "    * использовать в качестве признаков только существительные или только именованные сущности;\n",
    "* Модели скрытых тем:\n",
    "    * использовать в качестве признаков скрытые темы;\n",
    "    * использовать в качестве признаков динамические скрытые темы \n",
    "    пример тут: (https://github.com/RaRe-Technologies/gensim/blob/develop/docs/notebooks/dtm_example.ipynb)\n",
    "* Синтаксические признаки:\n",
    "    * использовать SOV-тройки в качестве признаков\n",
    "    * кластеризовать SOV-тройки по усредненным эмбеддингам  (обученные word2vec модели можно скачать отсюда: (http://rusvectores.org/ru/models/ или https://github.com/facebookresearch/fastText/blob/master/pretrained-vectors.md) и использовать только центроиды кластеров в качестве признаков\n",
    "* что-нибудь еще     "
   ]
  },
  {
   "cell_type": "markdown",
   "metadata": {},
   "source": [
    "## Пробуем LSI"
   ]
  },
  {
   "cell_type": "code",
   "execution_count": 437,
   "metadata": {},
   "outputs": [],
   "source": [
    "from gensim.models import LsiModel\n",
    "from sklearn.feature_extraction.text import CountVectorizer\n",
    "from gensim.models import Doc2Vec"
   ]
  },
  {
   "cell_type": "markdown",
   "metadata": {},
   "source": [
    "Будем сразу работать с данными CountVectorizer."
   ]
  },
  {
   "cell_type": "code",
   "execution_count": 438,
   "metadata": {},
   "outputs": [],
   "source": [
    "tf = CountVectorizer(analyzer='word', ngram_range=(1,1), min_df = 90, stop_words=mystopwords)\n",
    "data = tf.fit_transform(ptexts.Text).toarray()\n",
    "X = pd.DataFrame(data=data, columns=tf.get_feature_names())"
   ]
  },
  {
   "cell_type": "markdown",
   "metadata": {},
   "source": [
    "Надо разбить тексты на обучающее и тестовое подмножества"
   ]
  },
  {
   "cell_type": "code",
   "execution_count": 439,
   "metadata": {},
   "outputs": [
    {
     "name": "stdout",
     "output_type": "stream",
     "text": [
      "Индекс первого элемента, относящегося к 2016 году: 935\n"
     ]
    }
   ],
   "source": [
    "ptexts['Year'] = result.Date.apply(lambda x: x.year)\n",
    "\n",
    "d = result.Date.values[0]\n",
    "\n",
    "y2016 = np.where(ptexts.Year == 2016)[0][0]\n",
    "print('Индекс первого элемента, относящегося к 2016 году:', y2016)\n",
    "\n",
    "X_train_init = ptexts[:y2016]\n",
    "X_test_init = ptexts[y2016:]\n",
    "\n",
    "y_train = y[:y2016]\n",
    "y_test = y[y2016:]"
   ]
  },
  {
   "cell_type": "code",
   "execution_count": 440,
   "metadata": {},
   "outputs": [
    {
     "data": {
      "text/plain": [
       "((935, 2), (267, 2))"
      ]
     },
     "execution_count": 440,
     "metadata": {},
     "output_type": "execute_result"
    }
   ],
   "source": [
    "X_train_init.shape, X_test_init.shape"
   ]
  },
  {
   "cell_type": "markdown",
   "metadata": {},
   "source": [
    "Некоторые фрагменты скрипта возьмем из одного из семинаров. Сначала преобразуем X_train."
   ]
  },
  {
   "cell_type": "code",
   "execution_count": 441,
   "metadata": {},
   "outputs": [],
   "source": [
    "texts = list(X_train_init.Text)"
   ]
  },
  {
   "cell_type": "code",
   "execution_count": 442,
   "metadata": {},
   "outputs": [],
   "source": [
    "texts = [[word for word in text.split()] for text in texts]\n",
    "\n",
    "from collections import defaultdict ## задаем частотный словарь\n",
    "frequency = defaultdict(int)\n",
    "for text in texts:\n",
    "    for token in text:\n",
    "        frequency[token] += 1\n",
    "\n",
    "texts = [[token for token in text if frequency[token] > 1] for text in texts]"
   ]
  },
  {
   "cell_type": "code",
   "execution_count": 443,
   "metadata": {},
   "outputs": [
    {
     "name": "stdout",
     "output_type": "stream",
     "text": [
      "Dictionary(4735 unique tokens: ['азербайджан', 'взаимный', 'вопрос', 'газ', 'газопровод']...)\n"
     ]
    }
   ],
   "source": [
    "dictionary = corpora.Dictionary(texts) ## инициализируем словарь \n",
    "print(dictionary) "
   ]
  },
  {
   "cell_type": "code",
   "execution_count": 444,
   "metadata": {},
   "outputs": [],
   "source": [
    "corpus = [dictionary.doc2bow(text) for text in texts] ## здесь хранится непосрдественно векторная модель  "
   ]
  },
  {
   "cell_type": "code",
   "execution_count": 445,
   "metadata": {},
   "outputs": [
    {
     "name": "stdout",
     "output_type": "stream",
     "text": [
      "LsiModel(num_terms=4735, num_topics=10, decay=1.0, chunksize=20000)\n"
     ]
    }
   ],
   "source": [
    "from gensim import corpora, models, similarities\n",
    "lsi = models.LsiModel(corpus, id2word=dictionary, num_topics=10)\n",
    "print(lsi)"
   ]
  },
  {
   "cell_type": "code",
   "execution_count": 446,
   "metadata": {},
   "outputs": [
    {
     "name": "stdout",
     "output_type": "stream",
     "text": [
      "(0, '0.705*\"газпром\" + 0.284*\"компания\" + 0.227*\"газ\" + 0.225*\"нефть\" + 0.195*\"газпром_нефть\" + 0.173*\"млрд\" + 0.140*\"сообщать\" + 0.115*\"российский\" + 0.089*\"цена\" + 0.085*\"проект\"')\n",
      "(1, '0.549*\"нефть\" + 0.486*\"газпром_нефть\" + -0.433*\"газ\" + -0.143*\"поставка\" + 0.135*\"компания\" + -0.132*\"украина\" + -0.105*\"российский\" + -0.091*\"газовый\" + -0.087*\"газопровод\" + -0.073*\"европа\"')\n",
      "(2, '0.681*\"млрд\" + 0.290*\"прибыль\" + 0.203*\"чистый\" + 0.179*\"компания\" + -0.119*\"нефть\" + 0.118*\"оао\" + -0.109*\"газпром\" + -0.108*\"газ\" + 0.106*\"чистый_прибыль\" + 0.102*\"отчет\"')\n",
      "(3, '-0.449*\"компания\" + 0.408*\"газ\" + 0.294*\"нефть\" + 0.221*\"цена\" + 0.219*\"газпром_нефть\" + 0.207*\"млрд\" + 0.174*\"поставка\" + 0.146*\"украина\" + -0.129*\"проект\" + -0.120*\"газпром\"')\n",
      "(4, '-0.519*\"компания\" + -0.384*\"цена\" + 0.244*\"газпром\" + 0.189*\"млрд\" + -0.168*\"газ\" + -0.131*\"российский\" + 0.126*\"медиа\" + 0.106*\"сообщать\" + -0.105*\"монополия\" + 0.103*\"газпром_медиа\"')\n",
      "(5, '0.395*\"проект\" + -0.249*\"сообщать\" + 0.246*\"роснефть\" + -0.215*\"компания\" + -0.205*\"украина\" + -0.161*\"сказать\" + -0.142*\"газ\" + 0.142*\"рынок\" + 0.136*\"газопровод\" + 0.121*\"месторождение\"')\n",
      "(6, '0.426*\"цена\" + -0.208*\"российский\" + -0.183*\"поставка\" + -0.180*\"компания\" + 0.174*\"газпром\" + -0.173*\"млн\" + 0.171*\"сказать\" + -0.158*\"украина\" + -0.149*\"проект\" + -0.135*\"нефть\"')\n",
      "(7, '-0.271*\"газпромбанк\" + 0.261*\"проект\" + 0.221*\"млрд\" + 0.182*\"компания\" + -0.173*\"медиа\" + -0.169*\"млн\" + 0.151*\"месторождение\" + -0.149*\"газпром_медиа\" + -0.146*\"банк\" + -0.142*\"цена\"')\n",
      "(8, '-0.331*\"газпромбанк\" + 0.329*\"газпром\" + -0.265*\"банк\" + -0.172*\"участие\" + -0.148*\"тендер\" + -0.147*\"переговоры\" + -0.117*\"российский\" + -0.113*\"млрд\" + -0.110*\"рынок\" + -0.110*\"проект\"')\n",
      "(9, '0.227*\"тендер\" + 0.215*\"участие\" + -0.203*\"месторождение\" + -0.186*\"сообщать\" + -0.178*\"цена\" + -0.178*\"миллер\" + -0.159*\"алексей\" + 0.151*\"оао\" + 0.140*\"пока\" + -0.138*\"правление\"')\n"
     ]
    }
   ],
   "source": [
    "for i in lsi.print_topics():\n",
    "    print(i)"
   ]
  },
  {
   "cell_type": "code",
   "execution_count": 447,
   "metadata": {},
   "outputs": [],
   "source": [
    "vector = lsi[corpus]\n",
    "\n",
    "corp_topics = []\n",
    "for i in vector:\n",
    "    doc = []\n",
    "    for j in i:\n",
    "        doc.append(j[1])\n",
    "    corp_topics.append(doc)"
   ]
  },
  {
   "cell_type": "code",
   "execution_count": 448,
   "metadata": {},
   "outputs": [],
   "source": [
    "X_train = np.array(corp_topics)"
   ]
  },
  {
   "cell_type": "code",
   "execution_count": 449,
   "metadata": {},
   "outputs": [
    {
     "data": {
      "text/plain": [
       "(935, 10)"
      ]
     },
     "execution_count": 449,
     "metadata": {},
     "output_type": "execute_result"
    }
   ],
   "source": [
    "X_train.shape"
   ]
  },
  {
   "cell_type": "code",
   "execution_count": 450,
   "metadata": {},
   "outputs": [
    {
     "data": {
      "text/plain": [
       "(935, 10)"
      ]
     },
     "execution_count": 450,
     "metadata": {},
     "output_type": "execute_result"
    }
   ],
   "source": [
    "X_train.shape"
   ]
  },
  {
   "cell_type": "code",
   "execution_count": 451,
   "metadata": {},
   "outputs": [],
   "source": [
    "texts = list(X_test_init.Text)"
   ]
  },
  {
   "cell_type": "code",
   "execution_count": 452,
   "metadata": {},
   "outputs": [],
   "source": [
    "texts = [[word for word in text.split()] for text in texts]\n",
    "\n",
    "from collections import defaultdict ## задаем частотный словарь\n",
    "frequency = defaultdict(int)\n",
    "for text in texts:\n",
    "    for token in text:\n",
    "        frequency[token] += 1\n",
    "\n",
    "texts = [[token for token in text if frequency[token] > 1] for text in texts]"
   ]
  },
  {
   "cell_type": "code",
   "execution_count": 453,
   "metadata": {},
   "outputs": [
    {
     "name": "stdout",
     "output_type": "stream",
     "text": [
      "Dictionary(2119 unique tokens: ['актив', 'александр', 'газпром', 'газпром_медиа', 'гендиректор']...)\n"
     ]
    }
   ],
   "source": [
    "dictionary = corpora.Dictionary(texts) ## инициализируем словарь \n",
    "print(dictionary) "
   ]
  },
  {
   "cell_type": "code",
   "execution_count": 454,
   "metadata": {},
   "outputs": [],
   "source": [
    "corpus = [dictionary.doc2bow(text) for text in texts] ## здесь хранится непосрдественно векторная модель  "
   ]
  },
  {
   "cell_type": "code",
   "execution_count": 455,
   "metadata": {},
   "outputs": [],
   "source": [
    "vector = lsi[corpus]\n",
    "\n",
    "corp_topics = []\n",
    "for i in vector:\n",
    "    doc = []\n",
    "    for j in i:\n",
    "        doc.append(j[1])\n",
    "    corp_topics.append(doc)"
   ]
  },
  {
   "cell_type": "code",
   "execution_count": 456,
   "metadata": {},
   "outputs": [],
   "source": [
    "X_test = np.array(corp_topics)"
   ]
  },
  {
   "cell_type": "code",
   "execution_count": 457,
   "metadata": {},
   "outputs": [
    {
     "data": {
      "text/plain": [
       "(267, 10)"
      ]
     },
     "execution_count": 457,
     "metadata": {},
     "output_type": "execute_result"
    }
   ],
   "source": [
    "X_test.shape"
   ]
  },
  {
   "cell_type": "code",
   "execution_count": 458,
   "metadata": {},
   "outputs": [
    {
     "name": "stderr",
     "output_type": "stream",
     "text": [
      "/Users/andrey_lukyanov/anaconda/lib/python3.6/site-packages/sklearn/metrics/classification.py:1135: UndefinedMetricWarning: F-score is ill-defined and being set to 0.0 due to no predicted samples.\n",
      "  'precision', 'predicted', average, warn_for)\n"
     ]
    },
    {
     "name": "stdout",
     "output_type": "stream",
     "text": [
      "C: 0.1 Accuracy: 0.543071161049 F1-measure: 0.0\n",
      "C: 5.1 Accuracy: 0.449438202247 F1-measure: 0.599455040872\n",
      "C: 10.1 Accuracy: 0.456928838951 F1-measure: 0.582132564841\n",
      "C: 15.1 Accuracy: 0.47191011236 F1-measure: 0.595988538682\n",
      "C: 20.1 Accuracy: 0.47191011236 F1-measure: 0.593659942363\n",
      "C: 25.1 Accuracy: 0.445692883895 F1-measure: 0.55421686747\n",
      "C: 30.1 Accuracy: 0.460674157303 F1-measure: 0.552795031056\n",
      "C: 35.1 Accuracy: 0.460674157303 F1-measure: 0.547169811321\n",
      "C: 40.1 Accuracy: 0.456928838951 F1-measure: 0.533762057878\n",
      "C: 45.1 Accuracy: 0.464419475655 F1-measure: 0.531147540984\n"
     ]
    }
   ],
   "source": [
    "#SVC rbf\n",
    "Cs = np.arange(0.1, 50, 5)\n",
    "\n",
    "for C in Cs:\n",
    "    svc = SVC(C=C, kernel='rbf', degree=3)\n",
    "\n",
    "    svc.fit(X_train, y_train)\n",
    "    \n",
    "    y_pred = svc.predict(X_test)\n",
    "    accuracy = accuracy_score(y_test, y_pred)\n",
    "    f1 = f1_score(y_test, y_pred)\n",
    "    print('C:', C, 'Accuracy:', accuracy, 'F1-measure:', f1) "
   ]
  },
  {
   "cell_type": "code",
   "execution_count": 459,
   "metadata": {},
   "outputs": [
    {
     "name": "stdout",
     "output_type": "stream",
     "text": [
      "Estimators: 10 Accuracy: 0.498127340824 F1-measure: 0.556291390728\n",
      "Estimators: 50 Accuracy: 0.50936329588 F1-measure: 0.55593220339\n",
      "Estimators: 100 Accuracy: 0.50936329588 F1-measure: 0.516605166052\n",
      "Estimators: 150 Accuracy: 0.505617977528 F1-measure: 0.541666666667\n",
      "Estimators: 200 Accuracy: 0.468164794007 F1-measure: 0.510344827586\n",
      "Estimators: 250 Accuracy: 0.494382022472 F1-measure: 0.529616724739\n",
      "Estimators: 300 Accuracy: 0.505617977528 F1-measure: 0.535211267606\n",
      "Estimators: 350 Accuracy: 0.516853932584 F1-measure: 0.544169611307\n"
     ]
    }
   ],
   "source": [
    "#GradientBoostingClassifier\n",
    "n_estimators = np.array([10, 50, 100, 150, 200, 250, 300, 350])\n",
    "\n",
    "for n_est in n_estimators:\n",
    "    clf = GradientBoostingClassifier(n_estimators = n_est)\n",
    "\n",
    "    clf.fit(X_train, y_train)\n",
    "    \n",
    "    y_pred = clf.predict(X_test)\n",
    "    accuracy = accuracy_score(y_test, y_pred)\n",
    "    f1 = f1_score(y_test, y_pred)\n",
    "    print('Estimators:', n_est, 'Accuracy:', accuracy, 'F1-measure:', f1) "
   ]
  },
  {
   "cell_type": "markdown",
   "metadata": {},
   "source": [
    "В результате наша точность стала ниже, но F1 мера в среднем повысилась."
   ]
  },
  {
   "cell_type": "markdown",
   "metadata": {},
   "source": [
    "## Попытка SVD"
   ]
  },
  {
   "cell_type": "markdown",
   "metadata": {},
   "source": [
    "### Сначала работаем с CountVectorizer"
   ]
  },
  {
   "cell_type": "code",
   "execution_count": 460,
   "metadata": {},
   "outputs": [],
   "source": [
    "tf = CountVectorizer(analyzer='word', ngram_range=(1,1), min_df = 90, stop_words=mystopwords)\n",
    "data = tf.fit_transform(ptexts.Text).toarray()\n",
    "X = pd.DataFrame(data=data, columns=tf.get_feature_names())"
   ]
  },
  {
   "cell_type": "markdown",
   "metadata": {},
   "source": [
    "Надо разбить тексты на обучающее и тестовое подмножества"
   ]
  },
  {
   "cell_type": "code",
   "execution_count": 461,
   "metadata": {},
   "outputs": [
    {
     "name": "stdout",
     "output_type": "stream",
     "text": [
      "Индекс первого элемента, относящегося к 2016 году: 935\n"
     ]
    }
   ],
   "source": [
    "result['Year'] = result.Date.apply(lambda x: x.year)\n",
    "\n",
    "d = result.Date.values[0]\n",
    "\n",
    "y2016 = np.where(result.Year == 2016)[0][0]\n",
    "print('Индекс первого элемента, относящегося к 2016 году:', y2016)\n",
    "\n",
    "X_train = X[:y2016]\n",
    "X_test = X[y2016:]\n",
    "\n",
    "y_train = y[:y2016]\n",
    "y_test = y[y2016:]"
   ]
  },
  {
   "cell_type": "code",
   "execution_count": 462,
   "metadata": {},
   "outputs": [
    {
     "data": {
      "text/plain": [
       "((935, 100), (267, 100), (935,), (267,))"
      ]
     },
     "execution_count": 462,
     "metadata": {},
     "output_type": "execute_result"
    }
   ],
   "source": [
    "X_train.shape, X_test.shape, y_train.shape, y_test.shape"
   ]
  },
  {
   "cell_type": "code",
   "execution_count": 464,
   "metadata": {},
   "outputs": [],
   "source": [
    "from sklearn.decomposition import TruncatedSVD\n",
    "from sklearn.pipeline import make_pipeline"
   ]
  },
  {
   "cell_type": "code",
   "execution_count": 497,
   "metadata": {},
   "outputs": [
    {
     "name": "stdout",
     "output_type": "stream",
     "text": [
      "Components: 1 Accuracy: 0.513108614232 F1-measure: 0.0972222222222\n",
      "Components: 4 Accuracy: 0.505617977528 F1-measure: 0.56862745098\n",
      "Components: 7 Accuracy: 0.513108614232 F1-measure: 0.475806451613\n",
      "Components: 10 Accuracy: 0.524344569288 F1-measure: 0.485829959514\n",
      "Components: 13 Accuracy: 0.483146067416 F1-measure: 0.420168067227\n",
      "Components: 16 Accuracy: 0.468164794007 F1-measure: 0.366071428571\n",
      "Components: 19 Accuracy: 0.49063670412 F1-measure: 0.392857142857\n",
      "Components: 22 Accuracy: 0.468164794007 F1-measure: 0.418032786885\n",
      "Components: 25 Accuracy: 0.520599250936 F1-measure: 0.448275862069\n",
      "Components: 28 Accuracy: 0.513108614232 F1-measure: 0.356435643564\n",
      "Components: 31 Accuracy: 0.550561797753 F1-measure: 0.387755102041\n",
      "Components: 34 Accuracy: 0.543071161049 F1-measure: 0.364583333333\n",
      "Components: 37 Accuracy: 0.520599250936 F1-measure: 0.311827956989\n",
      "Components: 40 Accuracy: 0.524344569288 F1-measure: 0.211180124224\n",
      "Components: 43 Accuracy: 0.539325842697 F1-measure: 0.263473053892\n",
      "Components: 46 Accuracy: 0.531835205993 F1-measure: 0.242424242424\n",
      "Components: 49 Accuracy: 0.535580524345 F1-measure: 0.173333333333\n"
     ]
    }
   ],
   "source": [
    "components = np.arange(1, 50, 3)\n",
    "\n",
    "\n",
    "for component in components:\n",
    "    svd = TruncatedSVD(component)\n",
    "    svc = SVC(C = 100, gamma = 10)\n",
    "    \n",
    "    x_train_svd = svd.fit_transform(X_train)\n",
    "    x_test_svd = svd.fit_transform(X_test)\n",
    "\n",
    "    svc.fit(x_train_svd, y_train)\n",
    "    \n",
    "    y_pred = svc.predict(x_test_svd)\n",
    "    accuracy = accuracy_score(y_test, y_pred)\n",
    "    f1 = f1_score(y_test, y_pred)\n",
    "    print('Components:', component, 'Accuracy:', accuracy, 'F1-measure:', f1)    "
   ]
  },
  {
   "cell_type": "markdown",
   "metadata": {},
   "source": [
    "### Теперь пробуем с TF-IDF"
   ]
  },
  {
   "cell_type": "code",
   "execution_count": 467,
   "metadata": {},
   "outputs": [],
   "source": [
    "tfidf = TfidfVectorizer(analyzer='word', ngram_range=(1,1), min_df = 90, stop_words=mystopwords)\n",
    "data = tfidf.fit_transform(ptexts.Text).toarray()\n",
    "X = pd.DataFrame(data=data, columns=tfidf.get_feature_names())"
   ]
  },
  {
   "cell_type": "markdown",
   "metadata": {},
   "source": [
    "Надо разбить тексты на обучающее и тестовое подмножества"
   ]
  },
  {
   "cell_type": "code",
   "execution_count": 468,
   "metadata": {},
   "outputs": [
    {
     "name": "stdout",
     "output_type": "stream",
     "text": [
      "Индекс первого элемента, относящегося к 2016 году: 935\n"
     ]
    }
   ],
   "source": [
    "result['Year'] = result.Date.apply(lambda x: x.year)\n",
    "\n",
    "d = result.Date.values[0]\n",
    "\n",
    "y2016 = np.where(result.Year == 2016)[0][0]\n",
    "print('Индекс первого элемента, относящегося к 2016 году:', y2016)\n",
    "\n",
    "X_train = X[:y2016]\n",
    "X_test = X[y2016:]\n",
    "\n",
    "y_train = y[:y2016]\n",
    "y_test = y[y2016:]"
   ]
  },
  {
   "cell_type": "code",
   "execution_count": 469,
   "metadata": {},
   "outputs": [
    {
     "data": {
      "text/plain": [
       "((935, 100), (267, 100), (935,), (267,))"
      ]
     },
     "execution_count": 469,
     "metadata": {},
     "output_type": "execute_result"
    }
   ],
   "source": [
    "X_train.shape, X_test.shape, y_train.shape, y_test.shape"
   ]
  },
  {
   "cell_type": "code",
   "execution_count": 470,
   "metadata": {},
   "outputs": [],
   "source": [
    "from sklearn.decomposition import TruncatedSVD\n",
    "from sklearn.pipeline import make_pipeline"
   ]
  },
  {
   "cell_type": "code",
   "execution_count": 499,
   "metadata": {},
   "outputs": [
    {
     "name": "stdout",
     "output_type": "stream",
     "text": [
      "Components: 1 Accuracy: 0.513108614232 F1-measure: 0.0972222222222\n",
      "Components: 4 Accuracy: 0.498127340824 F1-measure: 0.570512820513\n",
      "Components: 7 Accuracy: 0.513108614232 F1-measure: 0.471544715447\n",
      "Components: 10 Accuracy: 0.539325842697 F1-measure: 0.489626556017\n",
      "Components: 13 Accuracy: 0.494382022472 F1-measure: 0.415584415584\n",
      "Components: 16 Accuracy: 0.456928838951 F1-measure: 0.366812227074\n",
      "Components: 19 Accuracy: 0.49063670412 F1-measure: 0.37037037037\n",
      "Components: 22 Accuracy: 0.516853932584 F1-measure: 0.41095890411\n",
      "Components: 25 Accuracy: 0.531835205993 F1-measure: 0.444444444444\n",
      "Components: 28 Accuracy: 0.501872659176 F1-measure: 0.398190045249\n",
      "Components: 31 Accuracy: 0.558052434457 F1-measure: 0.397959183673\n",
      "Components: 34 Accuracy: 0.573033707865 F1-measure: 0.43\n",
      "Components: 37 Accuracy: 0.543071161049 F1-measure: 0.282352941176\n",
      "Components: 40 Accuracy: 0.539325842697 F1-measure: 0.305084745763\n",
      "Components: 43 Accuracy: 0.52808988764 F1-measure: 0.20253164557\n",
      "Components: 46 Accuracy: 0.554307116105 F1-measure: 0.269938650307\n",
      "Components: 49 Accuracy: 0.516853932584 F1-measure: 0.156862745098\n"
     ]
    }
   ],
   "source": [
    "components = np.arange(1, 50, 3)\n",
    "\n",
    "\n",
    "for component in components:\n",
    "    svd = TruncatedSVD(component)\n",
    "    svc = SVC(C = 100, gamma = 10)\n",
    "    \n",
    "    x_train_svd = svd.fit_transform(X_train)\n",
    "    x_test_svd = svd.fit_transform(X_test)\n",
    "\n",
    "    svc.fit(x_train_svd, y_train)\n",
    "    \n",
    "    y_pred = svc.predict(x_test_svd)\n",
    "    accuracy = accuracy_score(y_test, y_pred)\n",
    "    f1 = f1_score(y_test, y_pred)\n",
    "    print('Components:', component, 'Accuracy:', accuracy, 'F1-measure:', f1)    "
   ]
  },
  {
   "cell_type": "markdown",
   "metadata": {},
   "source": [
    "Все примерно одинаково плохо, но в случае данных CountVectorizer при 34 главных компонентах SVD показал точность 0.573033707865 и F-меру 0.43. В отношении точности это улучшило бейслайн."
   ]
  },
  {
   "cell_type": "markdown",
   "metadata": {},
   "source": [
    "## Сдача домашнего задания\n",
    "\n",
    "Дедлайн сдачи домашнего задания:  23:59 22.03.2018. Каждый день просрочки дедлайна штрафуется -1 баллом.\n",
    "\n",
    "Результаты домашнего задания должны быть оформлены в виде отчета в jupyter notebook.\n",
    "Нормальный отчёт должен включать в себя:\n",
    "* Краткую постановку задачи и формулировку задания\n",
    "* Описание минимума необходимой теории и/или описание используемых инструментов \n",
    "* Подробный пошаговый рассказ о проделанной работе\n",
    "* **Аккуратно** оформленные результаты\n",
    "* Подробные и внятные ответы на все заданные вопросы \n",
    "* Внятные выводы – не стоит относится к домашнему заданию как к последовательности сугубо технических шагов, а стоит относится скорее как к небольшому практическому исследованию, у которого есть своя цель и свое назначение.\n",
    "\n",
    "Задание выполняется в группе до трех человек. Не забудьте перечислить фамилии всех, кто работал над домашнем задании, в jupyter notebook.  \n",
    "\n",
    "В случае использования какого-либо строннего источника информации обязательно дайте на него ссылку (поскольку другие тоже могут на него наткнуться). Плагиат наказывается нулём баллов за задание и предвзятым отношением в будущем.\n",
    "\n",
    "\n",
    "При возникновении проблем с выполнением задания обращайтесь с вопросами к преподавателю по семинарским занятиям в вашей группе или у учебным ассистентам.\n",
    "\n",
    "Учебный ассистент по ДЗ 2: Таисия Глушкова (email: glushkovato@gmail.com, telegram: @glushkovato).\n",
    "\n",
    "\n",
    "Небрежное оформление отчета существенно отразится на итоговой оценке. Весь код из отчёта должен быть воспроизводимым, если для этого нужны какие-то дополнительные действия, установленные модули и т.п. — всё это должно быть прописано в отчете в явном виде.\n",
    "\n",
    "Сдача отчетов осуществляется через систему AnyTask.\n",
    "\n"
   ]
  }
 ],
 "metadata": {
  "kernelspec": {
   "display_name": "Python 3",
   "language": "python",
   "name": "python3"
  },
  "language_info": {
   "codemirror_mode": {
    "name": "ipython",
    "version": 3
   },
   "file_extension": ".py",
   "mimetype": "text/x-python",
   "name": "python",
   "nbconvert_exporter": "python",
   "pygments_lexer": "ipython3",
   "version": "3.6.2"
  }
 },
 "nbformat": 4,
 "nbformat_minor": 2
}

{
 "cells": [
  {
   "cell_type": "markdown",
   "metadata": {},
   "source": [
    "# Майнор \"Прикладные задачи анализа данных\"\n",
    "## Домашнее задание 1 [10 баллов] до 23:59 17.02.2018\n",
    "\n",
    "В этом домашнем задании вам потребуется написать генератор описания прогноза погоды на следующую неделю в каком-нибудь городе. Домашнее задание состоит из трех частей:\n",
    "1. Скачивание данных о состоянии погоды в городе с gismeteo.ru\n",
    "2. Генерация описания прогноза\n",
    "3. Творческая часть\n",
    "\n",
    "Все три части можно считать независимыми – вы можете сделать одну или две из них, однако мы настоятельно советуем выполнить все три. Все инструкции по выполнению домашнего задания – ниже. \n",
    "\n"
   ]
  },
  {
   "cell_type": "markdown",
   "metadata": {},
   "source": [
    "## <font color='#565F76'>Работу выполняли</font>\n",
    "* <font color='#565F76'>__Лукьянов Андрей__</font>\n",
    "* <font color='#565F76'>__Лягушкина Дарья__</font>\n",
    "* <font color='#565F76'>__Родыгина Анастасия__</font>"
   ]
  },
  {
   "cell_type": "markdown",
   "metadata": {},
   "source": [
    "### 1. Сбор данных [3 балла]\n",
    "\n",
    "Выберите произвольным образом город в России и найдите прогноз погоды в нем на ближайшие 10 дней на сайте gismeteo.ru.\n",
    "\n",
    "Пример: прогноз на 10 ближайших дней в Москве – https://www.gismeteo.ru/weather-moscow-4368/10-days/\n",
    "\n",
    "Используя известные вам библиотеки для работы с протоколом http и html кодом, извлеките прогноз на ближайшие 10 дней, начиная со дня, когда вы начали делать домашнее задание.  \n",
    "\n",
    "Резльтатом сбора данных должна быть таблица со следующими строками:\n",
    "* минимальная температура\n",
    "* максимальна температура\n",
    "* скорость ветра\n",
    "* уровень осадков \n",
    "\n",
    "В столбцах таблицы должны быть даты и дни недели.  Пример итоговой таблицы вы найдете в следующей части задания. "
   ]
  },
  {
   "cell_type": "markdown",
   "metadata": {},
   "source": [
    "<font color='#565F76'>__Для выполнения этого задания мы использовали scrapy - фреймворк, позволяющий парсить (или, проще говоря, \"доставать\") данные с сайтов. С его помощью мы смогли создать паука и в результате получить json-файл (\"data.json\") с прогнозом погоды на ближайшие 10 дней. Нам также пришлось обратиться к регулярным выражениям, чтобы преобразовать данные в более удобный формат.__</font>"
   ]
  },
  {
   "cell_type": "markdown",
   "metadata": {},
   "source": [
    "## <font color='#565F76'>Наш паук, выполняющий задание, находится в том же архиве, что и этот ноутбук.</font>"
   ]
  },
  {
   "cell_type": "markdown",
   "metadata": {},
   "source": [
    "### 2. Генератор описания прогноза погоды [4 балла]\n",
    "\n",
    "Если у вас не получилось извлечь прогноз погоды в предыдущей части задания, воспользуйтесь таблицей ниже.\n",
    "В ней приведен прогноз четырех показателей на ближайшие 10 дней в Москве – минимальная и максимальная температура, скорость ветра и уровень осадков. "
   ]
  },
  {
   "cell_type": "markdown",
   "metadata": {},
   "source": [
    "|                | 02.02 (пт) | 03.02 (сб) | 04.02 (вс)| 05.02 (пн) | 06.02 (вт) | 07.02 (пн) | 08.02 (ср) | 09.02 (ср) | 10.02 (сб) | 11.02 (вс)\n",
    "|----------------|-------|-------|-------|-------|-------|-------|-------|\n",
    "| минимальная температура    | -9    | -1    | -8    | -13    | -12    | -15    | -21    | -14 |-8 |-8\n",
    "| максимальная температура    | -1    | +1    | -2    | -9   | -11    | -12    | -16    |-5    |-6    |-5|\n",
    "| скорость ветра | 10    | 13    | 15    | 15   |11    | 6    | 7 | 9 | 8 |12\n",
    "| уровень осадков         | 1.35  | 8.6  | 15.5  | 6.6   | 2.7   | 2.1   | 0   | 3.2   |0.8  | 0.4"
   ]
  },
  {
   "cell_type": "markdown",
   "metadata": {},
   "source": [
    "Прогноз погоды должен состоять из следующих (или подобным им) предложений, генерируемых по шаблонам (ниже три шаблона):\n",
    "* В день1 похолодает / потеплеет на X градус (-а, -ов) по сравнению с день2\n",
    "    * *В четверг в НазваниеГорода потеплеет на 7 градусов по сравнению со средой*\n",
    "* Скорость ветра изменится на X единиц в день1 по сравнению с день2.\n",
    "    * *Скорость ветра изменится на 3 единицы в понедельник по сравнению с пятницей*\n",
    "* Уровень осадков повысится / понизится на X единиц за Y дней. \n",
    "    * *Уровень осадков понится на 3.85 единиц за 7 дней*\n",
    "\n",
    "Вместо НазваниеГорода подставьте название выбранного вами города, используя фунцкии для согласования существительных с предлогами. "
   ]
  },
  {
   "cell_type": "markdown",
   "metadata": {},
   "source": [
    "<font color='#565F76'>__В этом задании нам понадобилась библиотека pymorphy, которая умеет определять и менять формы слова в соответствии с родом, числом и падежом. Это помогло нам создать шаблоны на правильном русском языке.__</font>"
   ]
  },
  {
   "cell_type": "code",
   "execution_count": 1,
   "metadata": {},
   "outputs": [],
   "source": [
    "import pymorphy2\n",
    "morph = pymorphy2.MorphAnalyzer()"
   ]
  },
  {
   "cell_type": "markdown",
   "metadata": {
    "collapsed": true
   },
   "source": [
    " <font color='#565F76'>__Шаблон 1: В день1 похолодает / потеплеет на X градус (-а, -ов) по сравнению с день2.__</font>"
   ]
  },
  {
   "cell_type": "markdown",
   "metadata": {},
   "source": [
    " <font color='#565F76'>__Описание каждой функции можно найти в Docstring.__</font>"
   ]
  },
  {
   "cell_type": "code",
   "execution_count": 2,
   "metadata": {},
   "outputs": [],
   "source": [
    "def degree(day, gap_degree, comparative_day):\n",
    "    \"\"\"\n",
    "    Генерирует текст прогноза изменения температуры.\n",
    "    \n",
    "    day  -  type: string, lower case. День, для которого делается прогноз.\n",
    "    gap_degree  -  type: int. Изменение температуры.\n",
    "    comparative_day  -  type: string, lower case. День, по сравнению с которым делается прогноз.\n",
    "    \n",
    "    Return: Шаблон 1: В день1 похолодает / потеплеет на X градус (-а, -ов) по сравнению с день2\n",
    "    \n",
    "    \"\"\"\n",
    "    if gap_degree >= 0:\n",
    "        weather = \"потеплеет на\"\n",
    "    elif gap_degree <0 :\n",
    "        weather = \"похолодает на\"\n",
    "        gap_degree = gap_degree*(-1)\n",
    "        \n",
    "    #Вторник - единственный день, с которым нужно использовать предлог \"Во\", а не \"в\"\n",
    "    if day == \"вторник\":\n",
    "        predlog = 'Во'\n",
    "    else:\n",
    "        predlog = 'В'\n",
    "    \n",
    "    #Вторник,среда - единственные дни, с которыми нужно использовать предлог \"со\", а не \"с\", насчет среды слегка сомневаюсь\n",
    "    if comparative_day == \"вторник\" or comparative_day == \"среда\":\n",
    "        predlog2 = 'со'\n",
    "    else:\n",
    "        predlog2 = 'с'\n",
    "    day1 = morph.parse(day)[0]\n",
    "    comparative_day1 = morph.parse(comparative_day)[0]\n",
    "    parsed_word = morph.parse('градусы')[0]\n",
    "    prognoz = ' '.join([predlog, day1.inflect({'accs'}).word, 'в Москве', weather, str(gap_degree),\n",
    "                        parsed_word.make_agree_with_number(gap_degree).word, 'по сравнению', predlog2,\n",
    "                        comparative_day1.inflect({'ablt'}).word + '.'])\n",
    "    return prognoz"
   ]
  },
  {
   "cell_type": "code",
   "execution_count": 12,
   "metadata": {},
   "outputs": [
    {
     "data": {
      "text/plain": [
       "'В четверг в Москве потеплеет на 8 градусов по сравнению со средой.'"
      ]
     },
     "execution_count": 12,
     "metadata": {},
     "output_type": "execute_result"
    }
   ],
   "source": [
    "degree('четверг', 8, 'среда')"
   ]
  },
  {
   "cell_type": "markdown",
   "metadata": {
    "collapsed": true
   },
   "source": [
    " <font color='#565F76'>__Шаблон 2: Скорость ветра изменится на X единиц в день1 по сравнению с день2.__</font>"
   ]
  },
  {
   "cell_type": "code",
   "execution_count": 13,
   "metadata": {},
   "outputs": [],
   "source": [
    "def wind(day, gap_wind, comparative_day):\n",
    "    \"\"\"\n",
    "    Генерирует текст прогноза изменения скорости ветра.\n",
    "    \n",
    "    day  -  type: string, lower case. День, для которого делается прогноз.\n",
    "    gap_wind  -  type: int. Изменение скорости ветра.\n",
    "    comparative_day  -  type: string, lower case. День, по сравнению с которым делается прогноз.\n",
    "    \n",
    "    Return: Скорость ветра изменится на X единиц в день1 по сравнению с день2.\n",
    "    \n",
    "    \"\"\"\n",
    "    #Вторник - единственный день, с которым нужно использовать предлог \"Во\", а не \"в\"\n",
    "    if day == \"вторник\":\n",
    "        predlog = 'во'\n",
    "    else:\n",
    "        predlog = 'в'\n",
    "    #Вторник,среда - единственные дни, с которыми нужно использовать предлог \"со\", а не \"с\"\n",
    "    if comparative_day == \"вторник\" or comparative_day == \"среда\":\n",
    "        predlog2 = 'со'\n",
    "    else:\n",
    "        predlog2 = 'с'\n",
    "    day1 = morph.parse(day)[0]\n",
    "    comparative_day1 = morph.parse(comparative_day)[0]\n",
    "    parsed_word = morph.parse('единица')[0]\n",
    "    prognoz = ' '.join(['Скорость ветра изменится на', str(gap_wind),\n",
    "                        parsed_word.make_agree_with_number(gap_wind).word, predlog, day1.inflect({'accs'}).word,\n",
    "                        'по сравнению', predlog2, comparative_day1.inflect({'ablt'}).word + '.'])\n",
    "    return prognoz"
   ]
  },
  {
   "cell_type": "code",
   "execution_count": 14,
   "metadata": {},
   "outputs": [
    {
     "data": {
      "text/plain": [
       "'Скорость ветра изменится на 5 единиц во вторник по сравнению со средой.'"
      ]
     },
     "execution_count": 14,
     "metadata": {},
     "output_type": "execute_result"
    }
   ],
   "source": [
    "wind('вторник', 5, 'среда')"
   ]
  },
  {
   "cell_type": "markdown",
   "metadata": {
    "collapsed": true
   },
   "source": [
    " <font color='#565F76'>__Шаблон 3: Уровень осадков повысится / понизится на X единиц за Y дней.__ </font>"
   ]
  },
  {
   "cell_type": "code",
   "execution_count": 15,
   "metadata": {},
   "outputs": [],
   "source": [
    "def precipitation(gap_rain, n_days):\n",
    "    \"\"\"\n",
    "    Генерирует текст прогноза изменения уровня осадков за n дней.\n",
    "    \n",
    "    gap_rain  -  type: float. Изменение уровня осадков.\n",
    "    n_days  -  type: int. Количество дней.\n",
    "    \n",
    "    Return: Уровень осадков повысится / понизится на X единиц за Y дней.\n",
    "    \n",
    "    \"\"\"\n",
    "    \n",
    "    if gap_rain >= 0:\n",
    "        rain = \"повысится на\"\n",
    "    elif gap_rain < 0:\n",
    "        rain = \"понизится на\"\n",
    "        gap_rain = gap_rain*(-1)\n",
    "    parsed_word = morph.parse('единица')[0]\n",
    "    parsed_word_2 = morph.parse('день')[0]\n",
    "    prognoz = ' '.join(['Уровень осадков', rain, str(gap_rain), parsed_word.make_agree_with_number(gap_rain).word,\n",
    "                        'за', str(n_days), parsed_word_2.make_agree_with_number(n_days).word + '.'])\n",
    "    return prognoz"
   ]
  },
  {
   "cell_type": "code",
   "execution_count": 16,
   "metadata": {},
   "outputs": [
    {
     "data": {
      "text/plain": [
       "'Уровень осадков понизится на 10 единиц за 2 дня.'"
      ]
     },
     "execution_count": 16,
     "metadata": {},
     "output_type": "execute_result"
    }
   ],
   "source": [
    "precipitation(-10, 2)"
   ]
  },
  {
   "cell_type": "code",
   "execution_count": 17,
   "metadata": {},
   "outputs": [
    {
     "name": "stdout",
     "output_type": "stream",
     "text": [
      "[\n",
      "{\n",
      "  \"Dates\": [\n",
      "    \"13.02 (вт)\",\n",
      "    \"14.02 (ср)\",\n",
      "    \"15.02 (чт)\",\n",
      "    \"16.02 (пт)\",\n",
      "    \"17.02 (сб)\",\n",
      "    \"18.02 (вс)\",\n",
      "    \"19.02 (пн)\",\n",
      "    \"20.02 (вт)\",\n",
      "    \"21.02 (ср)\",\n",
      "    \"22.02 (чт)\"\n",
      "  ],\n",
      "  \"Max temperature\": [\n",
      "    \"−6\",\n",
      "    \"−9\",\n",
      "    \"−10\",\n",
      "    \"−5\",\n",
      "    \"−5\",\n",
      "    \"−3\",\n",
      "    \"−1\",\n",
      "    \"−4\",\n",
      "    \"−5\",\n",
      "    \"−7\"\n",
      "  ],\n",
      "  \"Min temperature\": [\n",
      "    \"−13\",\n",
      "    \"−14\",\n",
      "    \"−18\",\n",
      "    \"−9\",\n",
      "    \"−7\",\n",
      "    \"−6\",\n",
      "    \"−6\",\n",
      "    \"−7\",\n",
      "    \"−8\",\n",
      "    \"−12\"\n",
      "  ],\n",
      "  \"Wind Speed\": [\n",
      "    \"6\",\n",
      "    \"8\",\n",
      "    \"6\",\n",
      "    \"8\",\n",
      "    \"9\",\n",
      "    \"7\",\n",
      "    \"11\",\n",
      "    \"9\",\n",
      "    \"5\",\n",
      "    \"5\"\n",
      "  ],\n",
      "  \"Precipitation\": [\n",
      "    \"0\",\n",
      "    \"0\",\n",
      "    \"0,1\",\n",
      "    \"0,8\",\n",
      "    \"2,8\",\n",
      "    \"1,2\",\n",
      "    \"0,4\",\n",
      "    \"0\",\n",
      "    \"0,6\",\n",
      "    \"0,4\"\n",
      "  ]\n",
      "}\n",
      "]\n"
     ]
    }
   ],
   "source": [
    "with open(r\"data.json\", 'r',encoding = \"utf-8\") as infile:\n",
    "    data = infile.read()\n",
    "    print(data)"
   ]
  },
  {
   "cell_type": "code",
   "execution_count": 18,
   "metadata": {},
   "outputs": [
    {
     "data": {
      "text/html": [
       "<div>\n",
       "<style>\n",
       "    .dataframe thead tr:only-child th {\n",
       "        text-align: right;\n",
       "    }\n",
       "\n",
       "    .dataframe thead th {\n",
       "        text-align: left;\n",
       "    }\n",
       "\n",
       "    .dataframe tbody tr th {\n",
       "        vertical-align: top;\n",
       "    }\n",
       "</style>\n",
       "<table border=\"1\" class=\"dataframe\">\n",
       "  <thead>\n",
       "    <tr style=\"text-align: right;\">\n",
       "      <th></th>\n",
       "      <th>Dates</th>\n",
       "      <th>Max temperature</th>\n",
       "      <th>Min temperature</th>\n",
       "      <th>Precipitation</th>\n",
       "      <th>Wind Speed</th>\n",
       "    </tr>\n",
       "  </thead>\n",
       "  <tbody>\n",
       "    <tr>\n",
       "      <th>0</th>\n",
       "      <td>[13.02 (вт), 14.02 (ср), 15.02 (чт), 16.02 (пт...</td>\n",
       "      <td>[−6, −9, −10, −5, −5, −3, −1, −4, −5, −7]</td>\n",
       "      <td>[−13, −14, −18, −9, −7, −6, −6, −7, −8, −12]</td>\n",
       "      <td>[0, 0, 0,1, 0,8, 2,8, 1,2, 0,4, 0, 0,6, 0,4]</td>\n",
       "      <td>[6, 8, 6, 8, 9, 7, 11, 9, 5, 5]</td>\n",
       "    </tr>\n",
       "  </tbody>\n",
       "</table>\n",
       "</div>"
      ],
      "text/plain": [
       "                                               Dates  \\\n",
       "0  [13.02 (вт), 14.02 (ср), 15.02 (чт), 16.02 (пт...   \n",
       "\n",
       "                             Max temperature  \\\n",
       "0  [−6, −9, −10, −5, −5, −3, −1, −4, −5, −7]   \n",
       "\n",
       "                                Min temperature  \\\n",
       "0  [−13, −14, −18, −9, −7, −6, −6, −7, −8, −12]   \n",
       "\n",
       "                                  Precipitation  \\\n",
       "0  [0, 0, 0,1, 0,8, 2,8, 1,2, 0,4, 0, 0,6, 0,4]   \n",
       "\n",
       "                        Wind Speed  \n",
       "0  [6, 8, 6, 8, 9, 7, 11, 9, 5, 5]  "
      ]
     },
     "execution_count": 18,
     "metadata": {},
     "output_type": "execute_result"
    }
   ],
   "source": [
    "import pandas as pd\n",
    "\n",
    "df = pd.read_json('data.json')\n",
    "df"
   ]
  },
  {
   "cell_type": "code",
   "execution_count": 19,
   "metadata": {},
   "outputs": [
    {
     "data": {
      "text/html": [
       "<div>\n",
       "<style>\n",
       "    .dataframe thead tr:only-child th {\n",
       "        text-align: right;\n",
       "    }\n",
       "\n",
       "    .dataframe thead th {\n",
       "        text-align: left;\n",
       "    }\n",
       "\n",
       "    .dataframe tbody tr th {\n",
       "        vertical-align: top;\n",
       "    }\n",
       "</style>\n",
       "<table border=\"1\" class=\"dataframe\">\n",
       "  <thead>\n",
       "    <tr style=\"text-align: right;\">\n",
       "      <th></th>\n",
       "      <th>Max temperature</th>\n",
       "      <th>Min temperature</th>\n",
       "      <th>Precipitation</th>\n",
       "      <th>Wind Speed</th>\n",
       "    </tr>\n",
       "  </thead>\n",
       "  <tbody>\n",
       "    <tr>\n",
       "      <th>0</th>\n",
       "      <td>−6</td>\n",
       "      <td>−13</td>\n",
       "      <td>0</td>\n",
       "      <td>6</td>\n",
       "    </tr>\n",
       "    <tr>\n",
       "      <th>1</th>\n",
       "      <td>−9</td>\n",
       "      <td>−14</td>\n",
       "      <td>0</td>\n",
       "      <td>8</td>\n",
       "    </tr>\n",
       "    <tr>\n",
       "      <th>2</th>\n",
       "      <td>−10</td>\n",
       "      <td>−18</td>\n",
       "      <td>0,1</td>\n",
       "      <td>6</td>\n",
       "    </tr>\n",
       "    <tr>\n",
       "      <th>3</th>\n",
       "      <td>−5</td>\n",
       "      <td>−9</td>\n",
       "      <td>0,8</td>\n",
       "      <td>8</td>\n",
       "    </tr>\n",
       "    <tr>\n",
       "      <th>4</th>\n",
       "      <td>−5</td>\n",
       "      <td>−7</td>\n",
       "      <td>2,8</td>\n",
       "      <td>9</td>\n",
       "    </tr>\n",
       "  </tbody>\n",
       "</table>\n",
       "</div>"
      ],
      "text/plain": [
       "  Max temperature Min temperature Precipitation Wind Speed\n",
       "0              −6             −13             0          6\n",
       "1              −9             −14             0          8\n",
       "2             −10             −18           0,1          6\n",
       "3              −5              −9           0,8          8\n",
       "4              −5              −7           2,8          9"
      ]
     },
     "execution_count": 19,
     "metadata": {},
     "output_type": "execute_result"
    }
   ],
   "source": [
    "#Превращаем это в нормальный DataFrame, но выглядит как-то очень сложно\n",
    "Dates = pd.DataFrame(df['Dates'][0])\n",
    "Max_temp = pd.DataFrame(df['Max temperature'][0])\n",
    "Min_temp = pd.DataFrame(df['Min temperature'][0])\n",
    "Precip = pd.DataFrame(df['Precipitation'][0])\n",
    "Wind_Speed = pd.DataFrame(df['Wind Speed'][0])\n",
    "table = pd.concat((Max_temp,Min_temp,Precip,Wind_Speed), axis=1)\n",
    "table.columns = [\"Max temperature\", \"Min temperature\",\"Precipitation\",\"Wind Speed\"]\n",
    "table.head()"
   ]
  },
  {
   "cell_type": "code",
   "execution_count": 20,
   "metadata": {},
   "outputs": [
    {
     "data": {
      "text/html": [
       "<div>\n",
       "<style>\n",
       "    .dataframe thead tr:only-child th {\n",
       "        text-align: right;\n",
       "    }\n",
       "\n",
       "    .dataframe thead th {\n",
       "        text-align: left;\n",
       "    }\n",
       "\n",
       "    .dataframe tbody tr th {\n",
       "        vertical-align: top;\n",
       "    }\n",
       "</style>\n",
       "<table border=\"1\" class=\"dataframe\">\n",
       "  <thead>\n",
       "    <tr style=\"text-align: right;\">\n",
       "      <th></th>\n",
       "      <th>Date</th>\n",
       "    </tr>\n",
       "  </thead>\n",
       "  <tbody>\n",
       "    <tr>\n",
       "      <th>0</th>\n",
       "      <td>13.02 (вт)</td>\n",
       "    </tr>\n",
       "    <tr>\n",
       "      <th>1</th>\n",
       "      <td>14.02 (ср)</td>\n",
       "    </tr>\n",
       "    <tr>\n",
       "      <th>2</th>\n",
       "      <td>15.02 (чт)</td>\n",
       "    </tr>\n",
       "    <tr>\n",
       "      <th>3</th>\n",
       "      <td>16.02 (пт)</td>\n",
       "    </tr>\n",
       "    <tr>\n",
       "      <th>4</th>\n",
       "      <td>17.02 (сб)</td>\n",
       "    </tr>\n",
       "  </tbody>\n",
       "</table>\n",
       "</div>"
      ],
      "text/plain": [
       "         Date\n",
       "0  13.02 (вт)\n",
       "1  14.02 (ср)\n",
       "2  15.02 (чт)\n",
       "3  16.02 (пт)\n",
       "4  17.02 (сб)"
      ]
     },
     "execution_count": 20,
     "metadata": {},
     "output_type": "execute_result"
    }
   ],
   "source": [
    "Dates.columns = ['Date']\n",
    "Dates.head()"
   ]
  },
  {
   "cell_type": "code",
   "execution_count": 21,
   "metadata": {},
   "outputs": [
    {
     "data": {
      "text/html": [
       "<div>\n",
       "<style>\n",
       "    .dataframe thead tr:only-child th {\n",
       "        text-align: right;\n",
       "    }\n",
       "\n",
       "    .dataframe thead th {\n",
       "        text-align: left;\n",
       "    }\n",
       "\n",
       "    .dataframe tbody tr th {\n",
       "        vertical-align: top;\n",
       "    }\n",
       "</style>\n",
       "<table border=\"1\" class=\"dataframe\">\n",
       "  <thead>\n",
       "    <tr style=\"text-align: right;\">\n",
       "      <th></th>\n",
       "      <th>Max temperature</th>\n",
       "      <th>Min temperature</th>\n",
       "      <th>Precipitation</th>\n",
       "      <th>Wind Speed</th>\n",
       "    </tr>\n",
       "  </thead>\n",
       "  <tbody>\n",
       "    <tr>\n",
       "      <th>13.02 (вт)</th>\n",
       "      <td>−6</td>\n",
       "      <td>−13</td>\n",
       "      <td>0</td>\n",
       "      <td>6</td>\n",
       "    </tr>\n",
       "    <tr>\n",
       "      <th>14.02 (ср)</th>\n",
       "      <td>−9</td>\n",
       "      <td>−14</td>\n",
       "      <td>0</td>\n",
       "      <td>8</td>\n",
       "    </tr>\n",
       "    <tr>\n",
       "      <th>15.02 (чт)</th>\n",
       "      <td>−10</td>\n",
       "      <td>−18</td>\n",
       "      <td>0,1</td>\n",
       "      <td>6</td>\n",
       "    </tr>\n",
       "    <tr>\n",
       "      <th>16.02 (пт)</th>\n",
       "      <td>−5</td>\n",
       "      <td>−9</td>\n",
       "      <td>0,8</td>\n",
       "      <td>8</td>\n",
       "    </tr>\n",
       "    <tr>\n",
       "      <th>17.02 (сб)</th>\n",
       "      <td>−5</td>\n",
       "      <td>−7</td>\n",
       "      <td>2,8</td>\n",
       "      <td>9</td>\n",
       "    </tr>\n",
       "    <tr>\n",
       "      <th>18.02 (вс)</th>\n",
       "      <td>−3</td>\n",
       "      <td>−6</td>\n",
       "      <td>1,2</td>\n",
       "      <td>7</td>\n",
       "    </tr>\n",
       "    <tr>\n",
       "      <th>19.02 (пн)</th>\n",
       "      <td>−1</td>\n",
       "      <td>−6</td>\n",
       "      <td>0,4</td>\n",
       "      <td>11</td>\n",
       "    </tr>\n",
       "    <tr>\n",
       "      <th>20.02 (вт)</th>\n",
       "      <td>−4</td>\n",
       "      <td>−7</td>\n",
       "      <td>0</td>\n",
       "      <td>9</td>\n",
       "    </tr>\n",
       "    <tr>\n",
       "      <th>21.02 (ср)</th>\n",
       "      <td>−5</td>\n",
       "      <td>−8</td>\n",
       "      <td>0,6</td>\n",
       "      <td>5</td>\n",
       "    </tr>\n",
       "    <tr>\n",
       "      <th>22.02 (чт)</th>\n",
       "      <td>−7</td>\n",
       "      <td>−12</td>\n",
       "      <td>0,4</td>\n",
       "      <td>5</td>\n",
       "    </tr>\n",
       "  </tbody>\n",
       "</table>\n",
       "</div>"
      ],
      "text/plain": [
       "           Max temperature Min temperature Precipitation Wind Speed\n",
       "13.02 (вт)              −6             −13             0          6\n",
       "14.02 (ср)              −9             −14             0          8\n",
       "15.02 (чт)             −10             −18           0,1          6\n",
       "16.02 (пт)              −5              −9           0,8          8\n",
       "17.02 (сб)              −5              −7           2,8          9\n",
       "18.02 (вс)              −3              −6           1,2          7\n",
       "19.02 (пн)              −1              −6           0,4         11\n",
       "20.02 (вт)              −4              −7             0          9\n",
       "21.02 (ср)              −5              −8           0,6          5\n",
       "22.02 (чт)              −7             −12           0,4          5"
      ]
     },
     "execution_count": 21,
     "metadata": {},
     "output_type": "execute_result"
    }
   ],
   "source": [
    "table = table.set_index(Dates.Date.values)\n",
    "table"
   ]
  },
  {
   "cell_type": "markdown",
   "metadata": {},
   "source": [
    "##  <font color='#565F76'>Вуаля! </font>"
   ]
  },
  {
   "cell_type": "code",
   "execution_count": 22,
   "metadata": {
    "scrolled": true
   },
   "outputs": [
    {
     "data": {
      "text/html": [
       "<div>\n",
       "<style>\n",
       "    .dataframe thead tr:only-child th {\n",
       "        text-align: right;\n",
       "    }\n",
       "\n",
       "    .dataframe thead th {\n",
       "        text-align: left;\n",
       "    }\n",
       "\n",
       "    .dataframe tbody tr th {\n",
       "        vertical-align: top;\n",
       "    }\n",
       "</style>\n",
       "<table border=\"1\" class=\"dataframe\">\n",
       "  <thead>\n",
       "    <tr style=\"text-align: right;\">\n",
       "      <th></th>\n",
       "      <th>13.02 (вт)</th>\n",
       "      <th>14.02 (ср)</th>\n",
       "      <th>15.02 (чт)</th>\n",
       "      <th>16.02 (пт)</th>\n",
       "      <th>17.02 (сб)</th>\n",
       "      <th>18.02 (вс)</th>\n",
       "      <th>19.02 (пн)</th>\n",
       "      <th>20.02 (вт)</th>\n",
       "      <th>21.02 (ср)</th>\n",
       "      <th>22.02 (чт)</th>\n",
       "    </tr>\n",
       "  </thead>\n",
       "  <tbody>\n",
       "    <tr>\n",
       "      <th>Max temperature</th>\n",
       "      <td>−6</td>\n",
       "      <td>−9</td>\n",
       "      <td>−10</td>\n",
       "      <td>−5</td>\n",
       "      <td>−5</td>\n",
       "      <td>−3</td>\n",
       "      <td>−1</td>\n",
       "      <td>−4</td>\n",
       "      <td>−5</td>\n",
       "      <td>−7</td>\n",
       "    </tr>\n",
       "    <tr>\n",
       "      <th>Min temperature</th>\n",
       "      <td>−13</td>\n",
       "      <td>−14</td>\n",
       "      <td>−18</td>\n",
       "      <td>−9</td>\n",
       "      <td>−7</td>\n",
       "      <td>−6</td>\n",
       "      <td>−6</td>\n",
       "      <td>−7</td>\n",
       "      <td>−8</td>\n",
       "      <td>−12</td>\n",
       "    </tr>\n",
       "    <tr>\n",
       "      <th>Precipitation</th>\n",
       "      <td>0</td>\n",
       "      <td>0</td>\n",
       "      <td>0,1</td>\n",
       "      <td>0,8</td>\n",
       "      <td>2,8</td>\n",
       "      <td>1,2</td>\n",
       "      <td>0,4</td>\n",
       "      <td>0</td>\n",
       "      <td>0,6</td>\n",
       "      <td>0,4</td>\n",
       "    </tr>\n",
       "    <tr>\n",
       "      <th>Wind Speed</th>\n",
       "      <td>6</td>\n",
       "      <td>8</td>\n",
       "      <td>6</td>\n",
       "      <td>8</td>\n",
       "      <td>9</td>\n",
       "      <td>7</td>\n",
       "      <td>11</td>\n",
       "      <td>9</td>\n",
       "      <td>5</td>\n",
       "      <td>5</td>\n",
       "    </tr>\n",
       "  </tbody>\n",
       "</table>\n",
       "</div>"
      ],
      "text/plain": [
       "                13.02 (вт) 14.02 (ср) 15.02 (чт) 16.02 (пт) 17.02 (сб)  \\\n",
       "Max temperature         −6         −9        −10         −5         −5   \n",
       "Min temperature        −13        −14        −18         −9         −7   \n",
       "Precipitation            0          0        0,1        0,8        2,8   \n",
       "Wind Speed               6          8          6          8          9   \n",
       "\n",
       "                18.02 (вс) 19.02 (пн) 20.02 (вт) 21.02 (ср) 22.02 (чт)  \n",
       "Max temperature         −3         −1         −4         −5         −7  \n",
       "Min temperature         −6         −6         −7         −8        −12  \n",
       "Precipitation          1,2        0,4          0        0,6        0,4  \n",
       "Wind Speed               7         11          9          5          5  "
      ]
     },
     "execution_count": 22,
     "metadata": {},
     "output_type": "execute_result"
    }
   ],
   "source": [
    "table.T"
   ]
  },
  {
   "cell_type": "code",
   "execution_count": 23,
   "metadata": {},
   "outputs": [],
   "source": [
    "import re"
   ]
  },
  {
   "cell_type": "code",
   "execution_count": 24,
   "metadata": {},
   "outputs": [
    {
     "data": {
      "text/plain": [
       "'14.02 (ср)'"
      ]
     },
     "execution_count": 24,
     "metadata": {},
     "output_type": "execute_result"
    }
   ],
   "source": [
    "Dates['Date'][1]"
   ]
  },
  {
   "cell_type": "code",
   "execution_count": 25,
   "metadata": {},
   "outputs": [
    {
     "data": {
      "text/plain": [
       "'вторник'"
      ]
     },
     "execution_count": 25,
     "metadata": {},
     "output_type": "execute_result"
    }
   ],
   "source": [
    "result = re.search('ср|вт', Dates['Date'] [0])\n",
    "days_of_week = {'пн': \"понедельник\",\n",
    "                'вт': \"вторник\",\n",
    "                'ср': \"среда\",\n",
    "                'чт': \"четверг\",\n",
    "                'пт': \"пятница\",\n",
    "                'сб': \"суббота\",\n",
    "                'вс': \"воскресенье\"}\n",
    "days_of_week[result.group(0)]"
   ]
  },
  {
   "cell_type": "code",
   "execution_count": 26,
   "metadata": {},
   "outputs": [
    {
     "data": {
      "text/plain": [
       "'среда'"
      ]
     },
     "execution_count": 26,
     "metadata": {},
     "output_type": "execute_result"
    }
   ],
   "source": [
    "days_of_week['ср']"
   ]
  },
  {
   "cell_type": "markdown",
   "metadata": {
    "collapsed": true
   },
   "source": [
    " <font color='#565F76'>__Пока начинаем наши прогнозы на день позже с 14 числа__</font>"
   ]
  },
  {
   "cell_type": "code",
   "execution_count": 27,
   "metadata": {},
   "outputs": [
    {
     "name": "stdout",
     "output_type": "stream",
     "text": [
      "14.02 (ср)\n",
      "В среду в Москве похолодает на 1 градус по сравнению со вторником.\n",
      "Скорость ветра изменится на 2 единицы в среду по сравнению со вторником.\n",
      "Уровень осадков повысится на 0.0 единиц за 1 день.\n",
      "15.02 (чт)\n",
      "В четверг в Москве похолодает на 4 градуса по сравнению со средой.\n",
      "Скорость ветра изменится на -2 единиц в четверг по сравнению со средой.\n",
      "Уровень осадков повысится на 0.1 единиц за 2 дня.\n",
      "16.02 (пт)\n",
      "В пятницу в Москве потеплеет на 9 градусов по сравнению с четвергом.\n",
      "Скорость ветра изменится на 2 единицы в пятницу по сравнению с четвергом.\n",
      "Уровень осадков повысится на 0.8 единиц за 3 дня.\n",
      "17.02 (сб)\n",
      "В субботу в Москве потеплеет на 2 градуса по сравнению с пятницей.\n",
      "Скорость ветра изменится на 1 единица в субботу по сравнению с пятницей.\n",
      "Уровень осадков повысится на 2.8 единицы за 4 дня.\n",
      "18.02 (вс)\n",
      "В воскресенье в Москве потеплеет на 1 градус по сравнению с субботой.\n",
      "Скорость ветра изменится на -2 единиц в воскресенье по сравнению с субботой.\n",
      "Уровень осадков повысится на 1.2 единиц за 5 дней.\n",
      "19.02 (пн)\n",
      "В понедельник в Москве потеплеет на 0 градусов по сравнению с воскресеньем.\n",
      "Скорость ветра изменится на 4 единицы в понедельник по сравнению с воскресеньем.\n",
      "Уровень осадков повысится на 0.4 единиц за 6 дней.\n",
      "20.02 (вт)\n",
      "Во вторник в Москве похолодает на 1 градус по сравнению с понедельником.\n",
      "Скорость ветра изменится на -2 единиц во вторник по сравнению с понедельником.\n",
      "Уровень осадков повысится на 0.0 единиц за 7 дней.\n",
      "21.02 (ср)\n",
      "В среду в Москве похолодает на 1 градус по сравнению со вторником.\n",
      "Скорость ветра изменится на -4 единиц в среду по сравнению со вторником.\n",
      "Уровень осадков повысится на 0.6 единиц за 8 дней.\n",
      "22.02 (чт)\n",
      "В четверг в Москве похолодает на 4 градуса по сравнению со средой.\n",
      "Скорость ветра изменится на 0 единиц в четверг по сравнению со средой.\n",
      "Уровень осадков повысится на 0.4 единиц за 9 дней.\n"
     ]
    }
   ],
   "source": [
    "i = 1\n",
    "while i < len(table):\n",
    "    print(Dates['Date'][i])\n",
    "    result1 = re.search('пн|вт|ср|чт|пт|сб|вс', Dates['Date'][i])\n",
    "    day = days_of_week[result1.group(0)]\n",
    "    degree1 = re.sub('−', '-', table['Min temperature'][i])\n",
    "    degree2 = re.sub('−', '-', table['Min temperature'][i-1])\n",
    "    gap_degree = int(degree1) - int(degree2)\n",
    "    result2 = re.search('пн|вт|ср|чт|пт|сб|вс', Dates['Date'][i-1])\n",
    "    comparative_day = days_of_week[result2.group(0)]\n",
    "    \n",
    "    wind1 = re.sub('−', '-', table['Wind Speed'][i])\n",
    "    wind2 = re.sub('−', '-', table['Wind Speed'][i-1])\n",
    "    gap_wind = int(wind1) - int(wind2)\n",
    "    \n",
    "    rain1 = re.sub(',', '.', table['Precipitation'][0])\n",
    "    rain2 = re.sub(',', '.', table['Precipitation'][i])\n",
    "    gap_rain = float(rain2) - float(rain1)\n",
    "    n_days = i\n",
    "    \n",
    "    i += 1\n",
    "    print(degree(day, gap_degree, comparative_day))\n",
    "    print(wind(day, gap_wind, comparative_day))\n",
    "    print(precipitation(gap_rain, n_days))"
   ]
  },
  {
   "cell_type": "markdown",
   "metadata": {},
   "source": [
    "### 3. Ответьте на вопросы [3 балла]\n",
    "* В каких других задачах (помимо описания прогноза погоды) может понадобиться генерировать текст по шаблонам? В каких задачах может понадобиться генерировать текст об изменении числовых показателей по шаблонам?"
   ]
  },
  {
   "cell_type": "markdown",
   "metadata": {},
   "source": [
    "#### Текст по шаблонам\n",
    "* <font color='#565F76'>__Автоматический ответ на сообщения__</font>\n",
    "* <font color='#565F76'>__Создание ботов__</font>\n",
    "* <font color='#565F76'>__Проверка введенных пользователем данных (Пример: ИМЯ, ты согласен/согласна, что данные введены верно?) __</font>\n",
    "* <font color='#565F76'>__Генерирование отзывов__</font>"
   ]
  },
  {
   "cell_type": "markdown",
   "metadata": {},
   "source": [
    "#### Текст об изменении числовых показателей по шаблонам\n",
    "* <font color='#565F76'>__Уведомления в приложениях (Пример: у Вас N непрочитанных сообщений от ИМЯ, Вы потратили N бонусов/бонуса)__</font>\n",
    "* <font color='#565F76'>__Описание товара на сайте (Пример: на складе осталось N столов/стола)__</font>\n",
    "* <font color='#565F76'>__Валютные показатели (Пример: рубль вырос на N единиц)__</font>\n",
    "* <font color='#565F76'>__Персональная статистика (Пример: за последний/последнюю ПЕРИОД_ВРЕМЕНИ Вашу страницу посетило на N пользователей больше/меньше, чем в/на прошлом/прошлой ПЕРИОД_ВРЕМЕНИ)__</font>"
   ]
  },
  {
   "cell_type": "markdown",
   "metadata": {},
   "source": [
    "* Шаблоны, которые вы использовали в этом задании, имеют фиксированную структуру. Фактически, ваша задача заключалась в том, чтобы подставить в шаблон число и согласовать единицы измерения с этим числом или подставить в шаблон название города и согласовать его с предлогом. Как можно разнообразить эти шаблоны? Как знание синтаксической структуры предложения может помочь в этой задаче? "
   ]
  },
  {
   "cell_type": "markdown",
   "metadata": {},
   "source": [
    "####  Как можно разнообразить эти шаблоны\n",
    "* <font color='#565F76'>__Очевидно, нужно сделать структуру более подвижной.__</font>\n",
    "* <font color='#565F76'>__Включить менее типичные конструкции предложений.__</font>\n",
    "* <font color='#565F76'>__Менять последовательность слов.__</font>\n",
    "* <font color='#565F76'>__Добавлять поясняющие предложения. Например: сегодня возьмите с собой зонтик потому что ожидается дождь.__</font>"
   ]
  },
  {
   "cell_type": "markdown",
   "metadata": {},
   "source": [
    "## Сдача домашнего задания\n",
    "\n",
    "Дедлайн сдачи домашнего задания:  23:59 17.02.2018.\n",
    "\n",
    "Результаты домашнего задания должны быть оформлены в виде отчета в jupyter notebook.\n",
    "Нормальный отчёт должен включать в себя:\n",
    "* Краткую постановку задачи и формулировку задания\n",
    "* Описание минимума необходимой теории и/или описание используемых инструментов \n",
    "* Подробный пошаговый рассказ о проделанной работе\n",
    "* **Аккуратно** оформленные результаты\n",
    "* Подробные и внятные ответы на все заданные вопросы \n",
    "* Внятные выводы – не стоит относится к домашнему заданию как к последовательности сугубо технических шагов, а стоит относится скорее как к небольшому практическому исследованию, у которого есть своя цель и свое назначение.\n",
    "\n",
    "Задание выполняется в группе до трех человек. Не забудьте перечислить фамилии всех, кто работал над домашнем задании, в jupyter notebook.  \n",
    "\n",
    "В случае использования какого-либо строннего источника информации обязательно дайте на него ссылку (поскольку другие тоже могут на него наткнуться). Плагиат наказывается нулём баллов за задание и предвзятым отношением в будущем.\n",
    "\n",
    "\n",
    "При возникновении проблем с выполнением задания обращайтесь с вопросами к преподавателю по семинарским занятиям в вашей группе или у учебным ассистентам.\n",
    "\n",
    "Учебный ассистент по ДЗ 1: Анна Лапидус (email: anyalapidus@list.ru, telegram: @alpids).\n",
    "\n",
    "\n",
    "Небрежное оформление отчета существенно отразится на итоговой оценке. Весь код из отчёта должен быть воспроизводимым, если для этого нужны какие-то дополнительные действия, установленные модули и т.п. — всё это должно быть прописано в отчете в явном виде.\n",
    "\n",
    "Сдача отчетов осуществляется через систему AnyTask."
   ]
  },
  {
   "cell_type": "markdown",
   "metadata": {},
   "source": [
    "### Как сдать домашнее задание в AnyTask\n",
    "* Зарегистрируйтесь в системе AnyTask по ссылке http://anytask.org/accounts/register . Регистрация обязательна для всех!\n",
    "* Подтвердите регистрацию по e-mail.\n",
    "* Зайдите в свой профиль, нажмите “Активация инвайтов на курсы” и введите инвайт:\n",
    "\n",
    "ИАД-1 : VNYQlGd\n",
    "\n",
    "ИАД-2 : wDEa8ge\n",
    "\n",
    "ИАД-3 : SviK5dd\n",
    "\n",
    "ИАД-4 : dzdD8YG\n",
    "\n",
    "\n",
    " У вас появится курс “ВШЭ > Прикладные задачи анализа данных” в разделе “Посещает курсы”.\n",
    "* Перейдите по ссылке “ВШЭ > Прикладные задачи анализа данных (2018)” и нажмите кнопку “Сдать”. \n",
    "* У вас откроется условие задачи и будут доступны различные поля, в частности, НИЖЕ условия задачи будет поле ввода, в которое вы сможете вписать какой-то комментарий, и сможете прикрепить файл. Сделайте это.\n",
    "* Домашнее задание лучше всего сдавать в форматах IPYNB.\n",
    "* Оценку вы получите также в системе AnyTask. За своей успеваемостью можете следить в разделе “Ведомость”, а также можете прокомментировать что-то в каждом вашем домашнем задании, зайдя на ее страничку (ячейки в табличке на страничке “Ведомость” кликабельны и ведут на ваш submission домашки).\n",
    "\n",
    "(**ВАЖНО**) Если домашнее задание вы делали в группе, то в AnyTask домашнее сдает *один* участник группы, но заргестрироваться в AnyTask обязательно всем – так мы сможем проставить вам оценки в ведомость в AnyTask.\n",
    "\n",
    "Ссылка на курс в AnyTask: http://anytask.org/course/281"
   ]
  }
 ],
 "metadata": {
  "kernelspec": {
   "display_name": "Python 3",
   "language": "python",
   "name": "python3"
  },
  "language_info": {
   "codemirror_mode": {
    "name": "ipython",
    "version": 3
   },
   "file_extension": ".py",
   "mimetype": "text/x-python",
   "name": "python",
   "nbconvert_exporter": "python",
   "pygments_lexer": "ipython3",
   "version": "3.6.2"
  }
 },
 "nbformat": 4,
 "nbformat_minor": 2
}

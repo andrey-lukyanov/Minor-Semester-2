{
 "cells": [
  {
   "cell_type": "markdown",
   "metadata": {},
   "source": [
    "## Рекомендательные системы: предсказание оценки"
   ]
  },
  {
   "cell_type": "markdown",
   "metadata": {},
   "source": [
    "Рассмотрим задачу предсказания оценки, которую пользователь поставит фильму. Особенность этой задачи в том, что объекты выборки описываются категориальными признаками, принимающими большое число значений (например: идентификатор пользователя, идентификатор фильма, тэги, киноперсоны).\n",
    "\n",
    "Данные: [MovieLens + IMDb/Rotten Tomatoes](http://files.grouplens.org/datasets/hetrec2011/hetrec2011-movielens-2k-v2.zip) ([описание](http://files.grouplens.org/datasets/hetrec2011/hetrec2011-movielens-readme.txt)). Набор содержит данные о предпочтениях пользователей сервиса рекомендации кинофильмов [MovieLens](http://www.movielens.org/). Пользовательские оценки для фильмов принимают значения в интервале от 0.5 до 5.0, они записаны в файле *user_ratedmovies.dat* (а также в *user_ratedmovies-timestamps.dat*,  где для каждой оценки записана дата и время в формате timestamp), остальные файлы содержат дополнительную информацию о фильмах, которую можно использовать как признаки. Заметьте: кроме оценок (и тегов), про пользователя ничего не известно.\n",
    "\n",
    "Задача: построить модель, предсказывающую оценку пользователя фильму, который он еще не смотрел.\n",
    "\n",
    "Метрика качества: будем считать, что пользователю сервиса доступен блок рекомендаций, который может содержать рекомендации не более чем 5 фильмов.\n",
    "Выберем некоторого пользователя $u$ и обозначим известные для него рейтинги за $R^u$. В качестве тестовых рейтингов $R^u_{test}$ для этого пользователя рассмотрим 5 рейтингов, поставленные последними по времени, в качестве валидационных $R^u_{val}$ — предпоследние 5 рейтингов. Остальные известные рейтинги этого пользователя будут составлять обучающую выборку $R^u_{train}$.\n",
    "Для подбора гиперпараметров в рамках данного задания будем использовать валидационную выборку, предварительно обучив модель на обучающей выборке, а для финальной оценки качества — тестовую выборку, предварительно обучив модель на обучающей и валидационной выборках."
   ]
  },
  {
   "cell_type": "markdown",
   "metadata": {},
   "source": [
    "**1. (1 балл)** Загрузите данные и сформируйте 3 разреженные матрицы пользователи—фильмы для обучающих, валидационных и тестовых рейтингов пользователей соответственно, где в каждой ячейке стоит рейтинг, если он известен, или ноль, если неизвестен."
   ]
  },
  {
   "cell_type": "code",
   "execution_count": 1,
   "metadata": {
    "collapsed": true
   },
   "outputs": [],
   "source": [
    "import numpy as np\n",
    "import pandas as pd\n",
    "from scipy import sparse\n",
    "from collections import Counter\n",
    "import matplotlib.pyplot as plt\n",
    "%matplotlib inline"
   ]
  },
  {
   "cell_type": "code",
   "execution_count": 2,
   "metadata": {
    "collapsed": true
   },
   "outputs": [
    {
     "data": {
      "text/html": [
       "<div>\n",
       "<style scoped>\n",
       "    .dataframe tbody tr th:only-of-type {\n",
       "        vertical-align: middle;\n",
       "    }\n",
       "\n",
       "    .dataframe tbody tr th {\n",
       "        vertical-align: top;\n",
       "    }\n",
       "\n",
       "    .dataframe thead th {\n",
       "        text-align: right;\n",
       "    }\n",
       "</style>\n",
       "<table border=\"1\" class=\"dataframe\">\n",
       "  <thead>\n",
       "    <tr style=\"text-align: right;\">\n",
       "      <th></th>\n",
       "      <th>userID</th>\n",
       "      <th>movieID</th>\n",
       "      <th>rating</th>\n",
       "      <th>timestamp</th>\n",
       "    </tr>\n",
       "  </thead>\n",
       "  <tbody>\n",
       "    <tr>\n",
       "      <th>0</th>\n",
       "      <td>75</td>\n",
       "      <td>3</td>\n",
       "      <td>1.0</td>\n",
       "      <td>1970-01-01 00:19:22.160236</td>\n",
       "    </tr>\n",
       "    <tr>\n",
       "      <th>1</th>\n",
       "      <td>75</td>\n",
       "      <td>32</td>\n",
       "      <td>4.5</td>\n",
       "      <td>1970-01-01 00:19:22.160624</td>\n",
       "    </tr>\n",
       "    <tr>\n",
       "      <th>2</th>\n",
       "      <td>75</td>\n",
       "      <td>110</td>\n",
       "      <td>4.0</td>\n",
       "      <td>1970-01-01 00:19:22.161008</td>\n",
       "    </tr>\n",
       "    <tr>\n",
       "      <th>3</th>\n",
       "      <td>75</td>\n",
       "      <td>160</td>\n",
       "      <td>2.0</td>\n",
       "      <td>1970-01-01 00:19:22.160212</td>\n",
       "    </tr>\n",
       "    <tr>\n",
       "      <th>4</th>\n",
       "      <td>75</td>\n",
       "      <td>163</td>\n",
       "      <td>4.0</td>\n",
       "      <td>1970-01-01 00:19:22.160970</td>\n",
       "    </tr>\n",
       "  </tbody>\n",
       "</table>\n",
       "</div>"
      ],
      "text/plain": [
       "   userID  movieID  rating                  timestamp\n",
       "0      75        3     1.0 1970-01-01 00:19:22.160236\n",
       "1      75       32     4.5 1970-01-01 00:19:22.160624\n",
       "2      75      110     4.0 1970-01-01 00:19:22.161008\n",
       "3      75      160     2.0 1970-01-01 00:19:22.160212\n",
       "4      75      163     4.0 1970-01-01 00:19:22.160970"
      ]
     },
     "execution_count": 2,
     "metadata": {},
     "output_type": "execute_result"
    }
   ],
   "source": [
    "user_rate = pd.read_csv('user_ratedmovies-timestamps.dat', sep='\\t')\n",
    "user_rate['timestamp'] = pd.to_datetime(user_rate['timestamp'])\n",
    "\n",
    "user_rate.head()"
   ]
  },
  {
   "cell_type": "markdown",
   "metadata": {},
   "source": [
    "Выведим список id всех пользователей."
   ]
  },
  {
   "cell_type": "code",
   "execution_count": 3,
   "metadata": {},
   "outputs": [],
   "source": [
    "users = list(set(user_rate['userID']))\n",
    "users.sort()"
   ]
  },
  {
   "cell_type": "code",
   "execution_count": 4,
   "metadata": {},
   "outputs": [],
   "source": [
    "movies = list(set(user_rate.movieID))\n",
    "movies.sort()"
   ]
  },
  {
   "cell_type": "code",
   "execution_count": 5,
   "metadata": {},
   "outputs": [
    {
     "data": {
      "text/plain": [
       "2113"
      ]
     },
     "execution_count": 5,
     "metadata": {},
     "output_type": "execute_result"
    }
   ],
   "source": [
    "len(users)"
   ]
  },
  {
   "cell_type": "code",
   "execution_count": 6,
   "metadata": {},
   "outputs": [
    {
     "data": {
      "text/plain": [
       "10109"
      ]
     },
     "execution_count": 6,
     "metadata": {},
     "output_type": "execute_result"
    }
   ],
   "source": [
    "len(movies)"
   ]
  },
  {
   "cell_type": "markdown",
   "metadata": {},
   "source": [
    "Так мы можем получить нужные нам матрицы:"
   ]
  },
  {
   "cell_type": "code",
   "execution_count": 7,
   "metadata": {},
   "outputs": [],
   "source": [
    "def create_samples(user_id, test, train, valid):\n",
    "    user_info = user_rate[user_rate['userID'] == user_id].sort_values(by=['timestamp'])\n",
    "    user_test = user_info[-5:]\n",
    "    user_train = user_info[-10:-5]\n",
    "    user_valid = user_info[:-10]\n",
    "    \n",
    "    test = test.append(user_test)\n",
    "    train = train.append(user_train)\n",
    "    valid = valid.append(user_valid)\n",
    "    \n",
    "    return test, train, valid"
   ]
  },
  {
   "cell_type": "code",
   "execution_count": 8,
   "metadata": {},
   "outputs": [],
   "source": [
    "def add_missing_films(data):\n",
    "    missing_films = set(movies) - set(data[data.userID == data.userID.iloc[0]].movieID)\n",
    "    df_to_add = pd.DataFrame({'userID': np.ones(len(missing_films)) * data.userID.iloc[0], 'movieID': list(missing_films), \n",
    "                              'rating': np.zeros(len(missing_films)), 'timestamp': np.zeros(len(missing_films))}, \n",
    "                             columns=['userID', 'movieID', 'rating', 'timestamp'])\n",
    "    df_to_add = df_to_add.astype(int)\n",
    "    \n",
    "    new_data = pd.concat([df_to_add, data])\n",
    "    new_data = new_data.pivot(index='userID', columns='movieID', values='rating')\n",
    "    new_data = new_data.fillna(0)\n",
    "    new_data = sparse.csr_matrix(new_data)\n",
    "    \n",
    "    return(new_data)"
   ]
  },
  {
   "cell_type": "code",
   "execution_count": 9,
   "metadata": {},
   "outputs": [],
   "source": [
    "test = pd.DataFrame()\n",
    "train = pd.DataFrame()\n",
    "valid = pd.DataFrame()\n",
    "\n",
    "for user in users:\n",
    "    test, train, valid = create_samples(user, test, train, valid)\n",
    "    \n",
    "test = add_missing_films(test)\n",
    "train = add_missing_films(train)\n",
    "valid = add_missing_films(valid)"
   ]
  },
  {
   "cell_type": "code",
   "execution_count": 10,
   "metadata": {},
   "outputs": [
    {
     "data": {
      "text/plain": [
       "((2113, 10109), (2113, 10109), (2113, 10109))"
      ]
     },
     "execution_count": 10,
     "metadata": {},
     "output_type": "execute_result"
    }
   ],
   "source": [
    "test.shape, train.shape, valid.shape"
   ]
  },
  {
   "cell_type": "markdown",
   "metadata": {},
   "source": [
    "Качество рекомендаций: будем использовать метрики RMSE@k и nDCG@k для $k=5$, описанные ниже.\n",
    "\n",
    "#### RMSE@k\n",
    "\n",
    "Поскольку нас интересуют лишь фильмы, попавшие в блок рекомендаций, качество работы модели можно оценивать при помощи RMSE на $k$ фильмах с наибольшим предсказанным рейтингом, где $k$ — размер блока рекомендаций. Отсортируем предсказанные моделью рейтинги $\\hat{r}_{ui}$ в порядке убывания и обозначим $i$-ый элемент в полученной последовательности за $\\hat{r}_{u(i)},$ а соответствующее этому фильму истинное значение рейтинга — за $r_{u(i)}$. Тогда RMSE@k:\n",
    "\n",
    "$$ \\text{RMSE@k}(u) = \\sqrt{ \\frac{1}{k} \\sum_{i=1}^k (r_{u(i)} - \\hat{r}_{u(i)})^2 },$$\n",
    "$$ \\text{RMSE@k} = \\frac{1}{|U|} \\sum_{u \\in U} \\text{RMSE@k}(u),$$\n",
    "где $U$ — множество пользователей. При вычислении данной метрики все неизвестные оценки будем полагать равными 0.\n",
    "\n",
    "#### nDCG@k\n",
    "\n",
    "Также можно использовать метрику качества ранжирования. Для этого для каждого пользователя $u$ предскажем оценку для всех фильмов из $R^u_{test}$ и отсортируем эти фильмы по убыванию предсказанного рейтинга. Ожидается, что хороший алгоритм должен выдать релевантные фильмы вверху списка. Отсортируем предсказанные моделью рейтинги $\\hat{r}_{ui}$ в порядке убывания и обозначим $i$-ый элемент в полученной последовательности за $\\hat{r}_{u(i)},$ а соответствующее этому фильму истинное значение рейтинга — за $r_{u(i)}.$\n",
    "\n",
    "Тогда nDCG@k :\n",
    "\n",
    "$$\\text{DCG@k}(u) = \\sum_{i=1}^k g(r_{u(i)}) d(i),$$\n",
    "$$\\text{nDCG@k}(u) = \\frac{\\text{DCG@k}(u)}{\\max \\text{DCG@k}(u)},$$\n",
    "$$\\text{nDCG@k} = \\frac{1}{|U|} \\sum_{u \\in U} \\text{nDCG@k}(u),$$\n",
    "где $g(r)$ — функция полезности фильма, а  $d(i)$ — штраф за позицию.\n",
    "\n",
    "Положим $g(r) = 2^r-1, \\, d(i) = \\frac{1}{\\log_2 (i+1)}.$ При вычислении данной метрики все неизвестные оценки будем полагать равными 0."
   ]
  },
  {
   "cell_type": "markdown",
   "metadata": {},
   "source": [
    "**2. (2 балла)** Реализуйте функции rmse_score и ndcg_score, вычисляющие значения описанных выше метрик. Каждая из функций в качестве параметров должна принимать:\n",
    " * y_true — матрицу тестовых рейтингов (сформированную аналогично матрице тестовых рейтингов из предыдущего пункта; функция должна корректно работать и для разреженных, и для плотных матриц);\n",
    " * y_predicted — матрицу предсказаний модели в аналогичном формате (функция должна корректно работать и для разреженных, и для плотных матриц);\n",
    " * k — параметр $k$ в определениях метрик."
   ]
  },
  {
   "cell_type": "code",
   "execution_count": 11,
   "metadata": {},
   "outputs": [],
   "source": [
    "from scipy.stats import rankdata"
   ]
  },
  {
   "cell_type": "code",
   "execution_count": 12,
   "metadata": {},
   "outputs": [],
   "source": [
    "def get_rank_mask(x, k):\n",
    "    \n",
    "    sorted_x = []\n",
    "    \n",
    "    for row in x:\n",
    "        sorted_row = rankdata(row, method='ordinal')\n",
    "        sorted_x.append(sorted_row.tolist())\n",
    "        \n",
    "    sorted_x = np.asarray(sorted_x)\n",
    "    mask_x = (sorted_x > sorted_x.shape[1] - k)\n",
    "    \n",
    "    return sorted_x, mask_x"
   ]
  },
  {
   "cell_type": "code",
   "execution_count": 13,
   "metadata": {
    "collapsed": true
   },
   "outputs": [],
   "source": [
    "def rmse_score(y_true, y_predicted, k=5):\n",
    "    if type(y_true) == sparse.csr.csr_matrix:\n",
    "        y_true_ = y_true.toarray()\n",
    "    else:\n",
    "        y_true_ = y_true\n",
    "    if type(y_predicted) == sparse.csr.csr_matrix:\n",
    "        y_predicted_ = y_predicted.toarray()\n",
    "    else:\n",
    "        y_predicted_ = y_predicted\n",
    "\n",
    "    sorted_true = np.zeros(y_true.shape[0] * y_true.shape[1]).reshape(y_true.shape[0], y_true.shape[1])\n",
    "    sorted_predicted = np.zeros(y_true.shape[0] * y_true.shape[1]).reshape(y_true.shape[0], y_true.shape[1])\n",
    "    \n",
    "    _, sorted_mask = get_rank_mask(y_predicted, k)\n",
    "    \n",
    "    np.copyto(sorted_predicted, y_predicted_, where=sorted_mask)\n",
    "    np.copyto(sorted_true, y_true_, where=sorted_mask)\n",
    "    \n",
    "    rmse = np.sqrt(np.power((sorted_true - sorted_predicted), 2).sum(axis = 1)/k).sum()/y_true_.shape[0]\n",
    "    \n",
    "    return rmse\n",
    "\n",
    "def ndcg_score(y_true, y_predicted, k):\n",
    "    if type(y_true) == sparse.csr.csr_matrix:\n",
    "        y_true_ = y_true.toarray()\n",
    "    else:\n",
    "        y_true_ = y_true\n",
    "    if type(y_predicted) == sparse.csr.csr_matrix:\n",
    "        y_predicted_ = y_predicted.toarray()\n",
    "    else:\n",
    "        y_predicted_ = y_predicted\n",
    "    \n",
    "    sorted_true = np.zeros(y_true.shape[0] * y_true.shape[1]).reshape(y_true.shape[0], y_true.shape[1])\n",
    "    sorted_predicted = np.zeros(y_true.shape[0] * y_true.shape[1]).reshape(y_true.shape[0], y_true.shape[1])\n",
    "    ranks_masked = np.zeros(y_true.shape[0] * y_true.shape[1]).reshape(y_true.shape[0], y_true.shape[1])\n",
    "    \n",
    "    ranked_y_hat, sorted_mask = get_rank_mask(y_predicted, k)\n",
    "    _, ranks_mask = get_rank_mask(ranked_y_hat, k)\n",
    "    \n",
    "    np.copyto(sorted_predicted, y_predicted_, where=sorted_mask)\n",
    "    np.copyto(sorted_true, y_true_, where=sorted_mask)\n",
    "    \n",
    "    ranked_y_hat = -(ranked_y_hat - ranked_y_hat.shape[1] - 1)\n",
    "    \n",
    "    np.copyto(ranks_masked, ranked_y_hat, where=sorted_mask)\n",
    "        \n",
    "    g = np.power(2, sorted_true) - 1\n",
    "    \n",
    "    log2 = np.log2(ranks_masked) + 1\n",
    "    np.place(log2, np.invert(sorted_mask), 0)\n",
    "    d = np.divide(1, log2)\n",
    "    np.place(d, np.invert(sorted_mask), 0)\n",
    "    \n",
    "    dcg = np.multiply(g, d)\n",
    "    \n",
    "    max_dcg = dcg.max(axis = 1)\n",
    "    max_dcg = np.repeat(max_dcg, sorted_true.shape[1], axis=0).reshape(sorted_true.shape[0], sorted_true.shape[1])\n",
    "    \n",
    "    div = np.divide(dcg, max_dcg)\n",
    "    np.nan_to_num(div, copy=False)\n",
    "\n",
    "    ndcg = div.sum()/sorted_true.shape[0]\n",
    "    \n",
    "    return ndcg"
   ]
  },
  {
   "cell_type": "markdown",
   "metadata": {},
   "source": [
    "**3. (1 балл)** Постройте рекомендации на основе **most popular** метода, при котором предсказанный рейтинг для некоторого фильма $i$ одинаков для всех пользователей и совпадает со средним значением рейтинга по всем пользователям, оценившим этот фильм, и вычислите значения метрик RMSE@5 и nDCG@5 для тестовой матрицы из п. 1."
   ]
  },
  {
   "cell_type": "markdown",
   "metadata": {},
   "source": [
    "Поскольку в этом методе у нас нет гиперпараметров, мы можем обучать и на тренировочной, и на валидационной выборках."
   ]
  },
  {
   "cell_type": "markdown",
   "metadata": {},
   "source": [
    "Чтобы посчитать среднюю оценку для каждого оцененного пользователя, получим маску матрицы тренировочной выборки и посчитаем среднее через эту маску. "
   ]
  },
  {
   "cell_type": "code",
   "execution_count": 384,
   "metadata": {},
   "outputs": [],
   "source": [
    "train_dense = train.todense()\n",
    "train_mask = np.invert(train_dense != 0)\n",
    "\n",
    "train_masked = np.ma.array(train_dense, mask=train_mask).mean(axis = 0)"
   ]
  },
  {
   "cell_type": "code",
   "execution_count": 388,
   "metadata": {},
   "outputs": [],
   "source": [
    "means = np.array(train_masked)\n",
    "most_pop = np.repeat(means[None], 2113, axis=0).reshape(2113, 10109)"
   ]
  },
  {
   "cell_type": "code",
   "execution_count": 313,
   "metadata": {},
   "outputs": [
    {
     "data": {
      "text/plain": [
       "4.998821339048528"
      ]
     },
     "execution_count": 313,
     "metadata": {},
     "output_type": "execute_result"
    }
   ],
   "source": [
    "rmse_score(y_true = test, y_predicted = most_pop, k = 5)"
   ]
  },
  {
   "cell_type": "code",
   "execution_count": 314,
   "metadata": {
    "collapsed": true
   },
   "outputs": [
    {
     "name": "stderr",
     "output_type": "stream",
     "text": [
      "/Users/andrey_lukyanov/anaconda/lib/python3.6/site-packages/ipykernel_launcher.py:49: RuntimeWarning: divide by zero encountered in log2\n",
      "/Users/andrey_lukyanov/anaconda/lib/python3.6/site-packages/ipykernel_launcher.py:51: RuntimeWarning: divide by zero encountered in true_divide\n",
      "/Users/andrey_lukyanov/anaconda/lib/python3.6/site-packages/ipykernel_launcher.py:59: RuntimeWarning: divide by zero encountered in true_divide\n",
      "/Users/andrey_lukyanov/anaconda/lib/python3.6/site-packages/ipykernel_launcher.py:59: RuntimeWarning: invalid value encountered in true_divide\n"
     ]
    },
    {
     "data": {
      "text/plain": [
       "0.00236630383341221"
      ]
     },
     "execution_count": 314,
     "metadata": {},
     "output_type": "execute_result"
    }
   ],
   "source": [
    "ndcg_score(y_true = test, y_predicted = most_pop, k = 5)"
   ]
  },
  {
   "cell_type": "markdown",
   "metadata": {},
   "source": [
    "**4. (1 балл)** Реализуйте построение рекомендаций путём разложения матрицы рейтингов с помощью [разреженного SVD](http://scikit-learn.org/stable/modules/generated/sklearn.decomposition.TruncatedSVD.html) (в предположении, что неизвестные рейтинги заменяются на нули) и последующего её восстановления и постройте график зависимости метрик RMSE@5 и nDCG@5 от значения ранга разложения на валидационной выборке (рассмотрите как минимум 10 различных значений ранга разложения)"
   ]
  },
  {
   "cell_type": "code",
   "execution_count": 355,
   "metadata": {
    "collapsed": true
   },
   "outputs": [],
   "source": [
    "from sklearn.decomposition import TruncatedSVD\n",
    "import matplotlib.pyplot as plt\n",
    "import matplotlib.patches as mpatches"
   ]
  },
  {
   "cell_type": "code",
   "execution_count": 336,
   "metadata": {
    "collapsed": true
   },
   "outputs": [],
   "source": [
    "def compute_svd(matrix, n_components):\n",
    "    svd = TruncatedSVD(n_components=n_components, n_iter=7, random_state=1).fit(matrix)\n",
    "    y_hat = svd.inverse_transform(svd.transform(matrix))\n",
    "    return y_hat"
   ]
  },
  {
   "cell_type": "code",
   "execution_count": 397,
   "metadata": {},
   "outputs": [],
   "source": [
    "num_eig = np.linspace(1, 100, 5)\n",
    "num_eig = num_eig.astype(int)"
   ]
  },
  {
   "cell_type": "code",
   "execution_count": 398,
   "metadata": {},
   "outputs": [
    {
     "name": "stderr",
     "output_type": "stream",
     "text": [
      "/Users/andrey_lukyanov/anaconda/lib/python3.6/site-packages/ipykernel_launcher.py:49: RuntimeWarning: divide by zero encountered in log2\n",
      "/Users/andrey_lukyanov/anaconda/lib/python3.6/site-packages/ipykernel_launcher.py:51: RuntimeWarning: divide by zero encountered in true_divide\n",
      "/Users/andrey_lukyanov/anaconda/lib/python3.6/site-packages/ipykernel_launcher.py:59: RuntimeWarning: divide by zero encountered in true_divide\n",
      "/Users/andrey_lukyanov/anaconda/lib/python3.6/site-packages/ipykernel_launcher.py:59: RuntimeWarning: invalid value encountered in true_divide\n"
     ]
    }
   ],
   "source": [
    "rmses = []\n",
    "ndcgs = []\n",
    "\n",
    "for eig in num_eig:\n",
    "    y_hat = compute_svd(valid, eig)\n",
    "    rmses.append(rmse_score(y_true = test, y_predicted = y_hat, k = 5))\n",
    "    ndcgs.append(ndcg_score(y_true = test, y_predicted = y_hat, k = 5))"
   ]
  },
  {
   "cell_type": "code",
   "execution_count": 399,
   "metadata": {},
   "outputs": [
    {
     "data": {
      "image/png": "[encoded data removed]",
      "text/plain": [
       "<Figure size 432x288 with 1 Axes>"
      ]
     },
     "metadata": {},
     "output_type": "display_data"
    }
   ],
   "source": [
    "plt.plot(num_eig, rmses, c = 'b', label = 'RMSE')\n",
    "plt.xlabel('Eigenvalues')\n",
    "plt.ylabel('Score')\n",
    "blue_patch = mpatches.Patch(color='blue', label='RMSE')\n",
    "plt.legend(handles=[blue_patch])\n",
    "plt.show()"
   ]
  },
  {
   "cell_type": "code",
   "execution_count": 400,
   "metadata": {},
   "outputs": [
    {
     "data": {
      "image/png": "[encoded data removed]",
      "text/plain": [
       "<Figure size 432x288 with 1 Axes>"
      ]
     },
     "metadata": {},
     "output_type": "display_data"
    }
   ],
   "source": [
    "plt.plot(num_eig, ndcgs, c = 'r', label = 'nDCG')\n",
    "plt.xlabel('Eigenvalues')\n",
    "plt.ylabel('Score')\n",
    "red_patch = mpatches.Patch(color='red', label='nDCG')\n",
    "plt.legend(handles=[red_patch])\n",
    "plt.show()"
   ]
  },
  {
   "cell_type": "code",
   "execution_count": 14,
   "metadata": {},
   "outputs": [],
   "source": [
    "%%bash\n",
    "say finished"
   ]
  },
  {
   "cell_type": "markdown",
   "metadata": {},
   "source": [
    "**5. (3 балла)** Постройте рекомендации на основе user-based коллаборативной фильтрации. \n",
    "Предсказание модели $\\hat{r}_{ui}$ вычисляйте по следующей формуле:\n",
    "$$\\hat{r}_{ui} = \\bar{r}_{u} + \\frac{\\sum_{v \\in U(u)} w_{uv} (r_{vi} - \\bar{r}_v)}{\\sum_{v \\in U(u)} w_{uv}},$$\n",
    "где $\\bar{r}_u$ — средний ретинг пользователя $u$, $w_{uv}$ — мера сходства пользователей $u$ и $v$, $U(u) = \\{ v \\in U \\, | \\, w_{uv} > \\alpha\\}$ — коллаборация пользователя $u$. \n",
    "\n",
    "Значение параметра $\\alpha$ возьмите равным 0.9.\n",
    "\n",
    "Вычислите значения метрик RMSE@5 и nDCG@5 на тестовой выборке."
   ]
  },
  {
   "cell_type": "code",
   "execution_count": 25,
   "metadata": {
    "collapsed": true
   },
   "outputs": [],
   "source": [
    "def similarity(i, j, data):\n",
    "    \n",
    "    if i == j:\n",
    "        return 1\n",
    "    \n",
    "    user_i = data[i,:]\n",
    "    user_j = data[j,:]\n",
    "    \n",
    "    i_bool = (data[i,:] != 0)\n",
    "    j_bool = (data[j,:] != 0)\n",
    "    \n",
    "    intersection_bool = np.logical_and(i_bool, j_bool)\n",
    "    \n",
    "    if (intersection_bool.sum() == 0) | (intersection_bool.sum() == 1) | (intersection_bool.size == 0):\n",
    "        return 0\n",
    "    \n",
    "    intersection = np.where(intersection_bool == True)\n",
    "    \n",
    "    i_ratings = np.array([user_i[loc] for loc in intersection])\n",
    "    j_ratings = np.array([user_j[loc] for loc in intersection])\n",
    "    \n",
    "    return np.corrcoef(i_ratings, j_ratings)[0,1]"
   ]
  },
  {
   "cell_type": "code",
   "execution_count": 36,
   "metadata": {},
   "outputs": [],
   "source": [
    "valid_dense = np.array(valid.todense())"
   ]
  },
  {
   "cell_type": "code",
   "execution_count": 38,
   "metadata": {},
   "outputs": [
    {
     "name": "stderr",
     "output_type": "stream",
     "text": [
      "/Users/andrey_lukyanov/anaconda/lib/python3.6/site-packages/numpy/lib/function_base.py:3183: RuntimeWarning: invalid value encountered in true_divide\n",
      "  c /= stddev[:, None]\n",
      "/Users/andrey_lukyanov/anaconda/lib/python3.6/site-packages/numpy/lib/function_base.py:3184: RuntimeWarning: invalid value encountered in true_divide\n",
      "  c /= stddev[None, :]\n"
     ]
    }
   ],
   "source": [
    "corr = []\n",
    "\n",
    "for i in range(valid_dense.shape[0]):\n",
    "    row = []\n",
    "    for j in range(valid_dense.shape[0]):\n",
    "        row.append(similarity(i, j, valid_dense))\n",
    "    corr.append(row)\n",
    "\n",
    "corr = np.array(corr)"
   ]
  },
  {
   "cell_type": "code",
   "execution_count": 105,
   "metadata": {},
   "outputs": [],
   "source": [
    "%%bash\n",
    "say finished"
   ]
  },
  {
   "cell_type": "code",
   "execution_count": 49,
   "metadata": {},
   "outputs": [],
   "source": [
    "ALPHA = 0.9"
   ]
  },
  {
   "cell_type": "code",
   "execution_count": 78,
   "metadata": {},
   "outputs": [
    {
     "name": "stderr",
     "output_type": "stream",
     "text": [
      "/Users/andrey_lukyanov/anaconda/lib/python3.6/site-packages/ipykernel_launcher.py:1: RuntimeWarning: invalid value encountered in greater\n",
      "  \"\"\"Entry point for launching an IPython kernel.\n"
     ]
    }
   ],
   "source": [
    "a, b = np.where(corr > ALPHA)\n",
    "\n",
    "pairs = []\n",
    "\n",
    "for i in range(len(users)):\n",
    "    user = []\n",
    "    for j in range(len(a)):\n",
    "        if users[i] == a[j]:\n",
    "            user.append(b[j])\n",
    "    pairs.append(user)"
   ]
  },
  {
   "cell_type": "code",
   "execution_count": 80,
   "metadata": {},
   "outputs": [
    {
     "name": "stderr",
     "output_type": "stream",
     "text": [
      "/Users/andrey_lukyanov/anaconda/lib/python3.6/site-packages/ipykernel_launcher.py:5: RuntimeWarning: invalid value encountered in greater\n",
      "  \"\"\"\n"
     ]
    }
   ],
   "source": [
    "pairs = []\n",
    "\n",
    "for i in range(len(users)):\n",
    "    other_users = corr[i,:]\n",
    "    paired = np.where(other_users > ALPHA)\n",
    "    pairs.append(paired[0])"
   ]
  },
  {
   "cell_type": "code",
   "execution_count": 101,
   "metadata": {},
   "outputs": [],
   "source": [
    "avg_rating = valid.todense()\n",
    "valid_mask = np.invert(avg_rating != 0)\n",
    "\n",
    "avg_rating = np.ma.array(avg_rating, mask=valid_mask).mean(axis = 0)\n",
    "avg_rating = np.array(avg_rating).flatten()"
   ]
  },
  {
   "cell_type": "code",
   "execution_count": 104,
   "metadata": {},
   "outputs": [],
   "source": [
    "train_dense = np.array(train.todense())\n",
    "\n",
    "col_fil = np.zeros((test.shape[0], test.shape[1]))\n",
    "\n",
    "for u in range(len(users)):\n",
    "    for i in range(len(movies)):\n",
    "        U = pairs[u]\n",
    "        \n",
    "        weighted_sum = 0\n",
    "        weights_sum  = 0\n",
    "        \n",
    "        for v in U:\n",
    "            weighted_sum += corr[u, v] * (train_dense[v, i] - avg_rating[v])\n",
    "            weights_sum += corr[u, v]\n",
    "                \n",
    "        \n",
    "        col_fil[u, i] = avg_rating[u] + weighted_sum / weights_sum"
   ]
  },
  {
   "cell_type": "code",
   "execution_count": 106,
   "metadata": {},
   "outputs": [
    {
     "data": {
      "text/plain": [
       "0.7839627991401198"
      ]
     },
     "execution_count": 106,
     "metadata": {},
     "output_type": "execute_result"
    }
   ],
   "source": [
    "rmse_score(y_true = test, y_predicted = col_fil, k = 5)"
   ]
  },
  {
   "cell_type": "code",
   "execution_count": 107,
   "metadata": {},
   "outputs": [
    {
     "name": "stderr",
     "output_type": "stream",
     "text": [
      "/Users/andrey_lukyanov/anaconda/lib/python3.6/site-packages/ipykernel_launcher.py:49: RuntimeWarning: divide by zero encountered in log2\n",
      "/Users/andrey_lukyanov/anaconda/lib/python3.6/site-packages/ipykernel_launcher.py:51: RuntimeWarning: divide by zero encountered in true_divide\n",
      "/Users/andrey_lukyanov/anaconda/lib/python3.6/site-packages/ipykernel_launcher.py:59: RuntimeWarning: divide by zero encountered in true_divide\n",
      "/Users/andrey_lukyanov/anaconda/lib/python3.6/site-packages/ipykernel_launcher.py:59: RuntimeWarning: invalid value encountered in true_divide\n"
     ]
    },
    {
     "data": {
      "text/plain": [
       "0.026359633109582264"
      ]
     },
     "execution_count": 107,
     "metadata": {},
     "output_type": "execute_result"
    }
   ],
   "source": [
    "ndcg_score(y_true = test, y_predicted = col_fil, k = 5)"
   ]
  },
  {
   "cell_type": "markdown",
   "metadata": {},
   "source": [
    "**6. (1 балл)** Какой метод оказался лучше по каким метрикам? Почему?"
   ]
  },
  {
   "cell_type": "markdown",
   "metadata": {},
   "source": [
    "Самым лучшим оказался SVD с количеством небольшим количеством компонент (до 5). Скорее всего, большее число компонент приводит к тому, что матрица оценок становится более разряженной. Если подставлять в метрики разряженные матрицы, то меньше вероятности найти пересечения множества фильмов у пользователей. В случае низкого количество пересечений, очевидно, метрики будут низкими.\n",
    "\n",
    "Самым худшим оказался метод most popular, так как у него самые низкие значения по метрикам.\n",
    "\n",
    "Коллаборативная фильтрация показала себя лучше most popular, но хуже SVD."
   ]
  },
  {
   "cell_type": "markdown",
   "metadata": {},
   "source": [
    "**7. (1 балл)** Приведите достоинства и недостатки используемых метрик. Какие еще метрики можно было бы использовать для решения задачи? Приведите примеры других постановок задачи, как в этом случае можно было бы оценить качество?"
   ]
  },
  {
   "cell_type": "markdown",
   "metadata": {},
   "source": [
    "Достоинством nDCG является то, что она учитывает ранжирование. В RMSE такого нет, что является ее главным недостатком.\n",
    "\n",
    "Можно было использовать, например, F-меру, prescision, recall. \n",
    "\n",
    "Если бы мы могли также учитывать данные по количеству визитов пользователей на сайт, можно было бы использовать в качестве метрики, например, частоту визитов пользователей."
   ]
  }
 ],
 "metadata": {
  "kernelspec": {
   "display_name": "Python 3",
   "language": "python",
   "name": "python3"
  },
  "language_info": {
   "codemirror_mode": {
    "name": "ipython",
    "version": 3
   },
   "file_extension": ".py",
   "mimetype": "text/x-python",
   "name": "python",
   "nbconvert_exporter": "python",
   "pygments_lexer": "ipython3",
   "version": "3.6.5"
  }
 },
 "nbformat": 4,
 "nbformat_minor": 2
}
